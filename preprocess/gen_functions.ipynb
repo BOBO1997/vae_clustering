{
 "cells": [
  {
   "cell_type": "code",
   "execution_count": null,
   "metadata": {},
   "outputs": [],
   "source": [
    "import cv2\n",
    "import datetime\n",
    "import io\n",
    "from IPython.display import display, Image\n",
    "import matplotlib.pyplot as plt\n",
    "%matplotlib inline\n",
    "import numpy as np\n",
    "import pandas as pd\n",
    "import pickle\n",
    "import scipy\n",
    "from scipy import interpolate\n",
    "from tqdm import tqdm"
   ]
  },
  {
   "cell_type": "code",
   "execution_count": null,
   "metadata": {},
   "outputs": [],
   "source": [
    "def make_date_set(year_interval = 0, month_interval = 0, day_interval = 0):\n",
    "    years = [1962 + i  for i  in range(0, 58) ] # 1962~2020まで\n",
    "    months = [ i+1  for i  in range(0, 12)  ] # 1~12月\n",
    "    days = [ i+1  for i  in range(0, 31) ] # 1ヶ月が31日あると仮定\n",
    "    start_and_end = list()\n",
    "    for year in years:\n",
    "        for month in months:\n",
    "            for day in days:\n",
    "                try:\n",
    "                    start = datetime.date(year, month, day)\n",
    "                    if month != 12:\n",
    "                        end  = datetime.date(year+year_interval, month+month_interval, day+day_interval)\n",
    "                    else: # month==12の場合は、次の年のmonth_interval月を終点とする        \n",
    "                        end  = datetime.date(year+year_interval+1, month_interval, day+day_interval)\n",
    "                        start_and_end.append( ( str(start), str(end) ) )\n",
    "                except Exception as e: # 条件を満たさないものは無視\n",
    "                    pass\n",
    "    return start_and_end"
   ]
  },
  {
   "cell_type": "code",
   "execution_count": null,
   "metadata": {},
   "outputs": [],
   "source": [
    "def gen_dates():\n",
    "    years = [1962 + i  for i  in range(58) ]\n",
    "    months = [ i+2  for i  in range(12)  ]\n",
    "    days = [ i+1  for i  in range(31) ]\n",
    "\n",
    "    start_and_end = []\n",
    "    for year in years:\n",
    "        for month in months:\n",
    "            for day in days:\n",
    "                try:\n",
    "                    start = datetime.date(year, month, day)\n",
    "                    if month != 12:\n",
    "                        end  = datetime.date(year, month+1, day)\n",
    "                    else:\n",
    "                        end  = datetime.date(year+1, 1, day)\n",
    "                    start_and_end.append( ( str(start), str(end) ) )\n",
    "                except Exception as e:\n",
    "                    pass\n",
    "    return start_and_end"
   ]
  },
  {
   "cell_type": "code",
   "execution_count": null,
   "metadata": {},
   "outputs": [],
   "source": [
    "def to_monochrome(img):\n",
    "    img_size = img.shape[0]\n",
    "    new_img = np.zeros((img_size, img_size))\n",
    "    for i in range(img_size):\n",
    "        for j in range(img_size):\n",
    "            new_img[i, j] = 0.0 if np.all(img[i, j] == 255) else 1.0\n",
    "    return new_img"
   ]
  },
  {
   "cell_type": "code",
   "execution_count": null,
   "metadata": {},
   "outputs": [],
   "source": [
    "def gen_imgs_scaled(start, end, usgb10, ussp500, size = 64, lw = 1.0):\n",
    "    # fig setting\n",
    "    fig = plt.figure(dpi=1, figsize=(size, size))\n",
    "    plt.tick_params(labelbottom=False, labelleft=False, labelright=False, labeltop=False)\n",
    "    plt.tick_params(bottom=False, left=False, right=False, top=False)\n",
    "    plt.gca().spines[\"bottom\"].set_visible(False)\n",
    "    plt.gca().spines[\"left\"].set_visible(False)\n",
    "    plt.gca().spines[\"right\"].set_visible(False)\n",
    "    plt.gca().spines[\"top\"].set_visible(False)\n",
    "    \n",
    "    # read data\n",
    "    x = usgb10[start:end]\n",
    "    y = ussp500[start:end]\n",
    "    \n",
    "    # plot\n",
    "    # plt.plot(-x, y, marker=\".\")\n",
    "    plt.plot(-x, y, lw=lw)\n",
    "    # プロット画像を直接メモリで渡す                                                   \n",
    "    buf = io.BytesIO() # bufferを用意\n",
    "    plt.savefig(buf, format='png') # bufferに保持\n",
    "    enc = np.frombuffer(buf.getvalue(), dtype=np.uint8) # bufferからの読み出し\n",
    "    dst = cv2.imdecode(enc, 1) # デコード\n",
    "    dst = dst[:,:,::-1] # BGR->RGB\n",
    "    plt.close()\n",
    "    img = to_monochrome(dst)\n",
    "    return img"
   ]
  },
  {
   "cell_type": "code",
   "execution_count": null,
   "metadata": {},
   "outputs": [],
   "source": [
    "def spline(x,y,point,deg):\n",
    "    tck,u = interpolate.splprep([x,y],k=deg,s=0) \n",
    "    u = np.linspace(0,1,num=point,endpoint=True) \n",
    "    spline = interpolate.splev(u,tck)\n",
    "    return spline[0],spline[1]"
   ]
  },
  {
   "cell_type": "code",
   "execution_count": null,
   "metadata": {},
   "outputs": [],
   "source": [
    "def gen_imgs_scaled_spline(start, end, usgb10, ussp500, size = 64, lw = 1.0):\n",
    "    # fig setting\n",
    "    fig = plt.figure(dpi=1, figsize=(size, size))\n",
    "    plt.tick_params(labelbottom=False, labelleft=False, labelright=False, labeltop=False)\n",
    "    plt.tick_params(bottom=False, left=False, right=False, top=False)\n",
    "    plt.gca().spines[\"bottom\"].set_visible(False)\n",
    "    plt.gca().spines[\"left\"].set_visible(False)\n",
    "    plt.gca().spines[\"right\"].set_visible(False)\n",
    "    plt.gca().spines[\"top\"].set_visible(False)\n",
    "    \n",
    "    # read data\n",
    "    x = usgb10[start:end]\n",
    "    y = ussp500[start:end]\n",
    "    \n",
    "    # plot\n",
    "    # plt.plot(-x, y, marker=\".\")\n",
    "    a, b = spline(-x, y, 100, 2)\n",
    "    plt.plot(a, b, lw=lw)\n",
    "    # プロット画像を直接メモリで渡す                                                   \n",
    "    buf = io.BytesIO() # bufferを用意\n",
    "    plt.savefig(buf, format='png') # bufferに保持\n",
    "    enc = np.frombuffer(buf.getvalue(), dtype=np.uint8) # bufferからの読み出し\n",
    "    dst = cv2.imdecode(enc, 1) # デコード\n",
    "    dst = dst[:,:,::-1] # BGR->RGB\n",
    "    plt.close()\n",
    "    img = to_monochrome(dst)\n",
    "    return img"
   ]
  },
  {
   "cell_type": "code",
   "execution_count": null,
   "metadata": {},
   "outputs": [],
   "source": [
    "def find_hw(usgb10, ussp500, dates):\n",
    "    max_h, max_w = 0, 0\n",
    "    for i in range(19154):\n",
    "        x = usgb10[dates[i][0]:dates[i][1]]\n",
    "        y = ussp500[dates[i][0]:dates[i][1]]\n",
    "        max_w = x.max() - x.min() if (x.max() - x.min()) > max_w else max_w\n",
    "        max_h = y.max() - y.min() if (y.max() - y.min()) > max_h else max_h\n",
    "    return max_w, max_h"
   ]
  },
  {
   "cell_type": "code",
   "execution_count": null,
   "metadata": {},
   "outputs": [],
   "source": [
    "def gen_imgs(start, end, usgb10, ussp500, max_w, max_h, size = 224, lw = 1.0):\n",
    "    # fig setting\n",
    "    fig = plt.figure(dpi=1, figsize=(size, size))\n",
    "    plt.tick_params(labelbottom=False, labelleft=False, labelright=False, labeltop=False)\n",
    "    plt.tick_params(bottom=False, left=False, right=False, top=False)\n",
    "    plt.gca().spines[\"bottom\"].set_visible(False)\n",
    "    plt.gca().spines[\"left\"].set_visible(False)\n",
    "    plt.gca().spines[\"right\"].set_visible(False)\n",
    "    plt.gca().spines[\"top\"].set_visible(False)\n",
    "    \n",
    "    # read data\n",
    "    x = usgb10[start:end]\n",
    "    y = ussp500[start:end]\n",
    "    \n",
    "    x_min = - x.max()\n",
    "    y_min = y.min()\n",
    "    plt.xlim([x_min, x_min + max_w])\n",
    "    plt.ylim([y_min, y_min + max_h])\n",
    "    # plot\n",
    "    # plt.plot(-x, y, marker=\".\")\n",
    "    plt.plot(-x, y, lw=lw)\n",
    "    # プロット画像を直接メモリで渡す                                                   \n",
    "    buf = io.BytesIO() # bufferを用意\n",
    "    plt.savefig(buf, format='png') # bufferに保持\n",
    "    enc = np.frombuffer(buf.getvalue(), dtype=np.uint8) # bufferからの読み出し\n",
    "    dst = cv2.imdecode(enc, 1) # デコード\n",
    "    dst = dst[:,:,::-1] # BGR->RGB\n",
    "    plt.close()\n",
    "    img = to_monochrome(dst)\n",
    "    return img"
   ]
  },
  {
   "cell_type": "code",
   "execution_count": 3,
   "metadata": {},
   "outputs": [
    {
     "data": {
      "text/plain": [
       "CompletedProcess(args=['jupyter', 'nbconvert', '--to', 'python', 'gen_functions.ipynb'], returncode=0)"
      ]
     },
     "execution_count": 3,
     "metadata": {},
     "output_type": "execute_result"
    }
   ],
   "source": [
    "import subprocess\n",
    "subprocess.run(['jupyter', 'nbconvert', '--to', 'python', 'gen_functions.ipynb'])"
   ]
  }
 ],
 "metadata": {
  "kernelspec": {
   "display_name": "Python 3",
   "language": "python",
   "name": "python3"
  },
  "language_info": {
   "codemirror_mode": {
    "name": "ipython",
    "version": 3
   },
   "file_extension": ".py",
   "mimetype": "text/x-python",
   "name": "python",
   "nbconvert_exporter": "python",
   "pygments_lexer": "ipython3",
   "version": "3.7.7"
  }
 },
 "nbformat": 4,
 "nbformat_minor": 4
}
