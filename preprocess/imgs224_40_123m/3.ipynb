{
 "cells": [
  {
   "cell_type": "markdown",
   "metadata": {},
   "source": [
    "# スケールはそのままで、位置だけ揃える"
   ]
  },
  {
   "cell_type": "code",
   "execution_count": 1,
   "metadata": {},
   "outputs": [],
   "source": [
    "import cv2\n",
    "import datetime\n",
    "import io\n",
    "from IPython.display import display, Image\n",
    "import matplotlib.pyplot as plt\n",
    "%matplotlib inline\n",
    "import numpy as np\n",
    "import pandas as pd\n",
    "import pickle\n",
    "import scipy\n",
    "from scipy import interpolate\n",
    "from tqdm import tqdm"
   ]
  },
  {
   "cell_type": "code",
   "execution_count": 2,
   "metadata": {},
   "outputs": [],
   "source": [
    "import sys\n",
    "sys.path.append('/home/kwk/share/mizuho/share/code')\n",
    "sys.path.append(\"/home/kwk/share/mizuho/u00257/vae_clustering/src/\")\n",
    "sys.path.append(\"/home/kwk/share/mizuho/u00257/vae_clustering/src/lib/\")\n",
    "sys.path.append(\"/home/kwk/share/mizuho/u00257/vae_clustering/src/preprocess/\")"
   ]
  },
  {
   "cell_type": "code",
   "execution_count": 3,
   "metadata": {},
   "outputs": [],
   "source": [
    "from get_data import get_data\n",
    "import importlib\n",
    "import img_shows\n",
    "import gen_functions\n",
    "from img_shows import *\n",
    "from gen_functions import *"
   ]
  },
  {
   "cell_type": "code",
   "execution_count": 4,
   "metadata": {
    "scrolled": true
   },
   "outputs": [],
   "source": [
    "delta = 22\n",
    "df_market, df_economy = get_data()\n",
    "usgb10 = df_market.USGB10.pct_change(delta)\n",
    "ussp500 = df_market.US_SP500.pct_change(delta)"
   ]
  },
  {
   "cell_type": "code",
   "execution_count": 6,
   "metadata": {
    "scrolled": true
   },
   "outputs": [],
   "source": [
    "dates = None\n",
    "with open(\"../../data_pkls/dates123m.pkl\", \"rb\") as f:\n",
    "    dates = pickle.load(f)"
   ]
  },
  {
   "cell_type": "code",
   "execution_count": 7,
   "metadata": {
    "scrolled": true
   },
   "outputs": [
    {
     "name": "stdout",
     "output_type": "stream",
     "text": [
      "14513\n",
      "14481\n",
      "14452\n",
      "43446\n"
     ]
    }
   ],
   "source": [
    "len1 = 14513\n",
    "print(len1)\n",
    "pos2 = 28994\n",
    "len2 = pos2 - len1\n",
    "print(len2)\n",
    "len3 = len(dates) - pos2\n",
    "print(len3)\n",
    "print(len(dates))"
   ]
  },
  {
   "cell_type": "code",
   "execution_count": 8,
   "metadata": {
    "scrolled": false
   },
   "outputs": [
    {
     "name": "stdout",
     "output_type": "stream",
     "text": [
      "0.9502164502164503 0.4578970433182943\n"
     ]
    }
   ],
   "source": [
    "max_w, max_h = None, None\n",
    "with open(\"../max_wh_123m.pkl\", \"rb\") as f:\n",
    "    max_w, max_h = pickle.load(f)\n",
    "print(max_w, max_h)"
   ]
  },
  {
   "cell_type": "code",
   "execution_count": 9,
   "metadata": {},
   "outputs": [],
   "source": [
    "lw = 20\n",
    "size = 224\n",
    "num_divide = 10\n",
    "data_pkls = \"../../data_pkls/imgs224_40_123m/\""
   ]
  },
  {
   "cell_type": "code",
   "execution_count": 10,
   "metadata": {},
   "outputs": [],
   "source": [
    "ranges = list(np.array_split(np.array(range(pos2, len(dates))), num_divide))"
   ]
  },
  {
   "cell_type": "code",
   "execution_count": null,
   "metadata": {
    "scrolled": true
   },
   "outputs": [
    {
     "name": "stderr",
     "output_type": "stream",
     "text": [
      "100%|██████████| 1446/1446 [10:18<00:00,  2.34it/s]\n",
      "  0%|          | 0/1446 [00:00<?, ?it/s]"
     ]
    },
    {
     "name": "stdout",
     "output_type": "stream",
     "text": [
      "21 finished\n"
     ]
    },
    {
     "name": "stderr",
     "output_type": "stream",
     "text": [
      "100%|██████████| 1446/1446 [10:18<00:00,  2.34it/s]\n",
      "  0%|          | 0/1445 [00:00<?, ?it/s]"
     ]
    },
    {
     "name": "stdout",
     "output_type": "stream",
     "text": [
      "22 finished\n"
     ]
    },
    {
     "name": "stderr",
     "output_type": "stream",
     "text": [
      "100%|██████████| 1445/1445 [10:20<00:00,  2.33it/s]\n",
      "  0%|          | 0/1445 [00:00<?, ?it/s]"
     ]
    },
    {
     "name": "stdout",
     "output_type": "stream",
     "text": [
      "23 finished\n"
     ]
    },
    {
     "name": "stderr",
     "output_type": "stream",
     "text": [
      "100%|██████████| 1445/1445 [10:27<00:00,  2.30it/s]\n",
      "  0%|          | 0/1445 [00:00<?, ?it/s]"
     ]
    },
    {
     "name": "stdout",
     "output_type": "stream",
     "text": [
      "24 finished\n"
     ]
    },
    {
     "name": "stderr",
     "output_type": "stream",
     "text": [
      "100%|██████████| 1445/1445 [10:25<00:00,  2.31it/s]\n",
      "  0%|          | 0/1445 [00:00<?, ?it/s]"
     ]
    },
    {
     "name": "stdout",
     "output_type": "stream",
     "text": [
      "25 finished\n"
     ]
    },
    {
     "name": "stderr",
     "output_type": "stream",
     "text": [
      "100%|██████████| 1445/1445 [10:15<00:00,  2.35it/s]\n",
      "  0%|          | 0/1445 [00:00<?, ?it/s]"
     ]
    },
    {
     "name": "stdout",
     "output_type": "stream",
     "text": [
      "26 finished\n"
     ]
    },
    {
     "name": "stderr",
     "output_type": "stream",
     "text": [
      "100%|██████████| 1445/1445 [10:25<00:00,  2.31it/s]\n",
      "  0%|          | 0/1445 [00:00<?, ?it/s]"
     ]
    },
    {
     "name": "stdout",
     "output_type": "stream",
     "text": [
      "27 finished\n"
     ]
    },
    {
     "name": "stderr",
     "output_type": "stream",
     "text": [
      "100%|██████████| 1445/1445 [10:35<00:00,  2.27it/s]\n",
      "  0%|          | 0/1445 [00:00<?, ?it/s]"
     ]
    },
    {
     "name": "stdout",
     "output_type": "stream",
     "text": [
      "28 finished\n"
     ]
    },
    {
     "name": "stderr",
     "output_type": "stream",
     "text": [
      "100%|██████████| 1445/1445 [10:14<00:00,  2.35it/s]\n",
      "  0%|          | 0/1445 [00:00<?, ?it/s]"
     ]
    },
    {
     "name": "stdout",
     "output_type": "stream",
     "text": [
      "29 finished\n"
     ]
    },
    {
     "name": "stderr",
     "output_type": "stream",
     "text": [
      " 97%|█████████▋| 1396/1445 [11:33<00:20,  2.35it/s] "
     ]
    }
   ],
   "source": [
    "%%time\n",
    "for i in range(num_divide):\n",
    "    with open(data_pkls + str(i + 21) + \".pkl\", \"wb\") as f:\n",
    "        pickle.dump([gen_imgs(dates[j][0], dates[j][1], usgb10, ussp500, max_w, max_h, lw=lw) for j in tqdm(ranges[i])], f)\n",
    "    print(i + 21, \"finished\")"
   ]
  },
  {
   "cell_type": "markdown",
   "metadata": {},
   "source": [
    "# カーネルが死んだので続きから(30.pklのみ)"
   ]
  },
  {
   "cell_type": "code",
   "execution_count": 11,
   "metadata": {},
   "outputs": [
    {
     "name": "stderr",
     "output_type": "stream",
     "text": [
      "100%|██████████| 1445/1445 [10:12<00:00,  2.36it/s]\n"
     ]
    },
    {
     "name": "stdout",
     "output_type": "stream",
     "text": [
      "30 finished\n"
     ]
    }
   ],
   "source": [
    "for i in range(9, num_divide):\n",
    "    with open(data_pkls + str(i + 21) + \".pkl\", \"wb\") as f:\n",
    "        pickle.dump([gen_imgs(dates[j][0], dates[j][1], usgb10, ussp500, max_w, max_h, lw=lw) for j in tqdm(ranges[i])], f)\n",
    "    print(i + 21, \"finished\")"
   ]
  }
 ],
 "metadata": {
  "kernelspec": {
   "display_name": "Python 3",
   "language": "python",
   "name": "python3"
  },
  "language_info": {
   "codemirror_mode": {
    "name": "ipython",
    "version": 3
   },
   "file_extension": ".py",
   "mimetype": "text/x-python",
   "name": "python",
   "nbconvert_exporter": "python",
   "pygments_lexer": "ipython3",
   "version": "3.7.7"
  }
 },
 "nbformat": 4,
 "nbformat_minor": 4
}
