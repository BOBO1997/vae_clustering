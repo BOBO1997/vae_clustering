{
 "cells": [
  {
   "cell_type": "code",
   "execution_count": 1,
   "metadata": {},
   "outputs": [],
   "source": [
    "import numpy as np\n",
    "import cv2\n",
    "import pickle\n",
    "import io\n",
    "import pandas as pd\n",
    "import matplotlib.pyplot as plt\n",
    "from tqdm import tqdm\n",
    "from IPython.display import display, Image\n",
    "import scipy\n",
    "from scipy import interpolate\n",
    "\n",
    "%matplotlib inline"
   ]
  },
  {
   "cell_type": "code",
   "execution_count": 2,
   "metadata": {},
   "outputs": [],
   "source": [
    "import sys\n",
    "sys.path.append('/home/kwk/share/mizuho/share/code')"
   ]
  },
  {
   "cell_type": "code",
   "execution_count": 3,
   "metadata": {},
   "outputs": [],
   "source": [
    "from get_data import get_data"
   ]
  },
  {
   "cell_type": "code",
   "execution_count": 4,
   "metadata": {},
   "outputs": [],
   "source": [
    "def to_monochrome(img):\n",
    "    img_size = img.shape[0]\n",
    "    new_img = np.zeros((img_size, img_size))\n",
    "    for i in range(img_size):\n",
    "        for j in range(img_size):\n",
    "            new_img[i, j] = 0.0 if np.all(img[i, j] == 255) else 1.0\n",
    "    return new_img"
   ]
  },
  {
   "cell_type": "code",
   "execution_count": 5,
   "metadata": {},
   "outputs": [
    {
     "data": {
      "text/plain": [
       "<Figure size 432x288 with 0 Axes>"
      ]
     },
     "metadata": {},
     "output_type": "display_data"
    }
   ],
   "source": [
    "plt.clf()\n",
    "fig = plt.figure(dpi=1, figsize=(128, 128))\n",
    "plt.tick_params(labelbottom=False, labelleft=False, labelright=False, labeltop=False)\n",
    "plt.tick_params(bottom=False, left=False, right=False, top=False)\n",
    "plt.gca().spines[\"bottom\"].set_visible(False)\n",
    "plt.gca().spines[\"left\"].set_visible(False)\n",
    "plt.gca().spines[\"right\"].set_visible(False)\n",
    "plt.gca().spines[\"top\"].set_visible(False)\n",
    "# plot\n",
    "plt.plot(np.array([1,2,3,4,5,6,7,8,9,10]), np.sin(np.array([1,2,3,4,5,6,7,8,9,10])), marker=\".\")\n",
    "# プロット画像を直接メモリで渡す                                                   \n",
    "buf = io.BytesIO() # bufferを用意\n",
    "plt.savefig(buf, format='png') # bufferに保持\n",
    "enc = np.frombuffer(buf.getvalue(), dtype=np.uint8) # bufferからの読み出し\n",
    "dst = cv2.imdecode(enc, 1) # デコード\n",
    "dst = dst[:,:,::-1] # BGR->RGB\n",
    "plt.close()\n",
    "save_list  = { \"date\": {\"start\": \"0000\",  \"end\": \"1111\"}, \"fig\": to_monochrome(dst)   }"
   ]
  },
  {
   "cell_type": "code",
   "execution_count": 6,
   "metadata": {
    "scrolled": true
   },
   "outputs": [
    {
     "data": {
      "text/plain": [
       "{'date': {'start': '0000', 'end': '1111'},\n",
       " 'fig': array([[0., 0., 0., ..., 0., 0., 0.],\n",
       "        [0., 0., 0., ..., 0., 0., 0.],\n",
       "        [0., 0., 0., ..., 0., 0., 0.],\n",
       "        ...,\n",
       "        [0., 0., 0., ..., 0., 0., 0.],\n",
       "        [0., 0., 0., ..., 0., 0., 0.],\n",
       "        [0., 0., 0., ..., 0., 0., 0.]])}"
      ]
     },
     "execution_count": 6,
     "metadata": {},
     "output_type": "execute_result"
    }
   ],
   "source": [
    "save_list"
   ]
  },
  {
   "cell_type": "code",
   "execution_count": 7,
   "metadata": {
    "scrolled": true
   },
   "outputs": [
    {
     "data": {
      "text/plain": [
       "array([137,  80,  78, ...,  66,  96, 130], dtype=uint8)"
      ]
     },
     "execution_count": 7,
     "metadata": {},
     "output_type": "execute_result"
    }
   ],
   "source": [
    "enc"
   ]
  },
  {
   "cell_type": "code",
   "execution_count": 8,
   "metadata": {},
   "outputs": [
    {
     "data": {
      "text/plain": [
       "<matplotlib.image.AxesImage at 0x2b734bf18890>"
      ]
     },
     "execution_count": 8,
     "metadata": {},
     "output_type": "execute_result"
    },
    {
     "data": {
      "image/png": "[encoded data removed]",
      "text/plain": [
       "<Figure size 432x288 with 1 Axes>"
      ]
     },
     "metadata": {
      "needs_background": "light"
     },
     "output_type": "display_data"
    }
   ],
   "source": [
    "plt.imshow(save_list[\"fig\"], cmap = 'gray', vmin = 0, vmax = 1, interpolation = 'none')"
   ]
  },
  {
   "cell_type": "code",
   "execution_count": 9,
   "metadata": {},
   "outputs": [],
   "source": [
    "df_market, df_economy = get_data()"
   ]
  },
  {
   "cell_type": "code",
   "execution_count": 10,
   "metadata": {},
   "outputs": [
    {
     "data": {
      "text/html": [
       "<div>\n",
       "<style scoped>\n",
       "    .dataframe tbody tr th:only-of-type {\n",
       "        vertical-align: middle;\n",
       "    }\n",
       "\n",
       "    .dataframe tbody tr th {\n",
       "        vertical-align: top;\n",
       "    }\n",
       "\n",
       "    .dataframe thead th {\n",
       "        text-align: right;\n",
       "    }\n",
       "</style>\n",
       "<table border=\"1\" class=\"dataframe\">\n",
       "  <thead>\n",
       "    <tr style=\"text-align: right;\">\n",
       "      <th></th>\n",
       "      <th>USGB10</th>\n",
       "      <th>US_SP500</th>\n",
       "      <th>Inflation</th>\n",
       "    </tr>\n",
       "    <tr>\n",
       "      <th>Date</th>\n",
       "      <th></th>\n",
       "      <th></th>\n",
       "      <th></th>\n",
       "    </tr>\n",
       "  </thead>\n",
       "  <tbody>\n",
       "    <tr>\n",
       "      <th>1962-01-02</th>\n",
       "      <td>4.06</td>\n",
       "      <td>70.96</td>\n",
       "      <td>NaN</td>\n",
       "    </tr>\n",
       "    <tr>\n",
       "      <th>1962-01-03</th>\n",
       "      <td>4.03</td>\n",
       "      <td>71.13</td>\n",
       "      <td>NaN</td>\n",
       "    </tr>\n",
       "    <tr>\n",
       "      <th>1962-01-04</th>\n",
       "      <td>3.99</td>\n",
       "      <td>70.64</td>\n",
       "      <td>NaN</td>\n",
       "    </tr>\n",
       "    <tr>\n",
       "      <th>1962-01-05</th>\n",
       "      <td>4.02</td>\n",
       "      <td>69.66</td>\n",
       "      <td>NaN</td>\n",
       "    </tr>\n",
       "    <tr>\n",
       "      <th>1962-01-08</th>\n",
       "      <td>4.03</td>\n",
       "      <td>69.12</td>\n",
       "      <td>NaN</td>\n",
       "    </tr>\n",
       "    <tr>\n",
       "      <th>...</th>\n",
       "      <td>...</td>\n",
       "      <td>...</td>\n",
       "      <td>...</td>\n",
       "    </tr>\n",
       "    <tr>\n",
       "      <th>2020-03-31</th>\n",
       "      <td>0.70</td>\n",
       "      <td>2584.59</td>\n",
       "      <td>0.87</td>\n",
       "    </tr>\n",
       "    <tr>\n",
       "      <th>2020-04-01</th>\n",
       "      <td>0.64</td>\n",
       "      <td>2470.50</td>\n",
       "      <td>0.91</td>\n",
       "    </tr>\n",
       "    <tr>\n",
       "      <th>2020-04-02</th>\n",
       "      <td>0.63</td>\n",
       "      <td>2526.90</td>\n",
       "      <td>1.03</td>\n",
       "    </tr>\n",
       "    <tr>\n",
       "      <th>2020-04-03</th>\n",
       "      <td>0.59</td>\n",
       "      <td>2488.65</td>\n",
       "      <td>1.08</td>\n",
       "    </tr>\n",
       "    <tr>\n",
       "      <th>2020-04-06</th>\n",
       "      <td>0.68</td>\n",
       "      <td>2663.68</td>\n",
       "      <td>1.14</td>\n",
       "    </tr>\n",
       "  </tbody>\n",
       "</table>\n",
       "<p>14542 rows × 3 columns</p>\n",
       "</div>"
      ],
      "text/plain": [
       "            USGB10  US_SP500  Inflation\n",
       "Date                                   \n",
       "1962-01-02    4.06     70.96        NaN\n",
       "1962-01-03    4.03     71.13        NaN\n",
       "1962-01-04    3.99     70.64        NaN\n",
       "1962-01-05    4.02     69.66        NaN\n",
       "1962-01-08    4.03     69.12        NaN\n",
       "...            ...       ...        ...\n",
       "2020-03-31    0.70   2584.59       0.87\n",
       "2020-04-01    0.64   2470.50       0.91\n",
       "2020-04-02    0.63   2526.90       1.03\n",
       "2020-04-03    0.59   2488.65       1.08\n",
       "2020-04-06    0.68   2663.68       1.14\n",
       "\n",
       "[14542 rows x 3 columns]"
      ]
     },
     "execution_count": 10,
     "metadata": {},
     "output_type": "execute_result"
    }
   ],
   "source": [
    "df_market"
   ]
  },
  {
   "cell_type": "code",
   "execution_count": 11,
   "metadata": {},
   "outputs": [
    {
     "data": {
      "text/html": [
       "<div>\n",
       "<style scoped>\n",
       "    .dataframe tbody tr th:only-of-type {\n",
       "        vertical-align: middle;\n",
       "    }\n",
       "\n",
       "    .dataframe tbody tr th {\n",
       "        vertical-align: top;\n",
       "    }\n",
       "\n",
       "    .dataframe thead th {\n",
       "        text-align: right;\n",
       "    }\n",
       "</style>\n",
       "<table border=\"1\" class=\"dataframe\">\n",
       "  <thead>\n",
       "    <tr style=\"text-align: right;\">\n",
       "      <th></th>\n",
       "      <th>pce_core_deflator</th>\n",
       "      <th>unemployment_rate</th>\n",
       "    </tr>\n",
       "    <tr>\n",
       "      <th>date</th>\n",
       "      <th></th>\n",
       "      <th></th>\n",
       "    </tr>\n",
       "  </thead>\n",
       "  <tbody>\n",
       "    <tr>\n",
       "      <th>1962-01-01</th>\n",
       "      <td>1.27</td>\n",
       "      <td>5.8</td>\n",
       "    </tr>\n",
       "    <tr>\n",
       "      <th>1962-02-01</th>\n",
       "      <td>1.33</td>\n",
       "      <td>5.5</td>\n",
       "    </tr>\n",
       "    <tr>\n",
       "      <th>1962-03-01</th>\n",
       "      <td>1.54</td>\n",
       "      <td>5.6</td>\n",
       "    </tr>\n",
       "    <tr>\n",
       "      <th>1962-04-01</th>\n",
       "      <td>1.42</td>\n",
       "      <td>5.6</td>\n",
       "    </tr>\n",
       "    <tr>\n",
       "      <th>1962-05-01</th>\n",
       "      <td>1.43</td>\n",
       "      <td>5.5</td>\n",
       "    </tr>\n",
       "    <tr>\n",
       "      <th>...</th>\n",
       "      <td>...</td>\n",
       "      <td>...</td>\n",
       "    </tr>\n",
       "    <tr>\n",
       "      <th>2019-10-01</th>\n",
       "      <td>1.65</td>\n",
       "      <td>3.6</td>\n",
       "    </tr>\n",
       "    <tr>\n",
       "      <th>2019-11-01</th>\n",
       "      <td>1.51</td>\n",
       "      <td>3.5</td>\n",
       "    </tr>\n",
       "    <tr>\n",
       "      <th>2019-12-01</th>\n",
       "      <td>1.57</td>\n",
       "      <td>3.5</td>\n",
       "    </tr>\n",
       "    <tr>\n",
       "      <th>2020-01-01</th>\n",
       "      <td>1.70</td>\n",
       "      <td>3.6</td>\n",
       "    </tr>\n",
       "    <tr>\n",
       "      <th>2020-02-01</th>\n",
       "      <td>1.82</td>\n",
       "      <td>3.5</td>\n",
       "    </tr>\n",
       "  </tbody>\n",
       "</table>\n",
       "<p>698 rows × 2 columns</p>\n",
       "</div>"
      ],
      "text/plain": [
       "            pce_core_deflator  unemployment_rate\n",
       "date                                            \n",
       "1962-01-01               1.27                5.8\n",
       "1962-02-01               1.33                5.5\n",
       "1962-03-01               1.54                5.6\n",
       "1962-04-01               1.42                5.6\n",
       "1962-05-01               1.43                5.5\n",
       "...                       ...                ...\n",
       "2019-10-01               1.65                3.6\n",
       "2019-11-01               1.51                3.5\n",
       "2019-12-01               1.57                3.5\n",
       "2020-01-01               1.70                3.6\n",
       "2020-02-01               1.82                3.5\n",
       "\n",
       "[698 rows x 2 columns]"
      ]
     },
     "execution_count": 11,
     "metadata": {},
     "output_type": "execute_result"
    }
   ],
   "source": [
    "df_economy"
   ]
  },
  {
   "cell_type": "markdown",
   "metadata": {},
   "source": [
    "## 実際の工程はここから"
   ]
  },
  {
   "cell_type": "markdown",
   "metadata": {},
   "source": [
    "###  plot_save関数"
   ]
  },
  {
   "cell_type": "code",
   "execution_count": 12,
   "metadata": {},
   "outputs": [],
   "source": [
    "def img_generator(start, end, delta, size = 64, lw = 1.0):\n",
    "    # fig setting\n",
    "    fig = plt.figure(dpi=1, figsize=(size, size))\n",
    "    plt.tick_params(labelbottom=False, labelleft=False, labelright=False, labeltop=False)\n",
    "    plt.tick_params(bottom=False, left=False, right=False, top=False)\n",
    "    plt.gca().spines[\"bottom\"].set_visible(False)\n",
    "    plt.gca().spines[\"left\"].set_visible(False)\n",
    "    plt.gca().spines[\"right\"].set_visible(False)\n",
    "    plt.gca().spines[\"top\"].set_visible(False)\n",
    "    \n",
    "    # read data\n",
    "    x = df_market.USGB10.pct_change(delta)[start:end]\n",
    "    y = df_market.US_SP500.pct_change(delta)[start:end]\n",
    "    \n",
    "    # plot\n",
    "    # plt.plot(-x, y, marker=\".\")\n",
    "    plt.plot(-x, y, lw=lw)\n",
    "    # プロット画像を直接メモリで渡す                                                   \n",
    "    buf = io.BytesIO() # bufferを用意\n",
    "    plt.savefig(buf, format='png') # bufferに保持\n",
    "    enc = np.frombuffer(buf.getvalue(), dtype=np.uint8) # bufferからの読み出し\n",
    "    dst = cv2.imdecode(enc, 1) # デコード\n",
    "    dst = dst[:,:,::-1] # BGR->RGB\n",
    "    plt.close()\n",
    "    img = to_monochrome(dst)\n",
    "    return img"
   ]
  },
  {
   "cell_type": "code",
   "execution_count": 13,
   "metadata": {},
   "outputs": [],
   "source": [
    "import datetime\n",
    "\n",
    "years = [1962 + i  for i  in range(58) ]\n",
    "months = [ i+2  for i  in range(12)  ]\n",
    "days = [ i+1  for i  in range(31) ]\n",
    "\n",
    "start_and_end = list()\n",
    "for year in years:\n",
    "    for month in months:\n",
    "        for day in days:\n",
    "            try:\n",
    "                start = datetime.date(year, month, day)\n",
    "                if month != 12:\n",
    "                    end  = datetime.date(year, month+1, day)\n",
    "                else:\n",
    "                    end  = datetime.date(year+1, 1, day)\n",
    "                start_and_end.append( ( str(start), str(end) ) )\n",
    "            except Exception as e:\n",
    "                pass"
   ]
  },
  {
   "cell_type": "markdown",
   "metadata": {},
   "source": [
    "### データ抽出期間"
   ]
  },
  {
   "cell_type": "code",
   "execution_count": 14,
   "metadata": {},
   "outputs": [],
   "source": [
    "def spline(x,y,point,deg):\n",
    "    tck,u = interpolate.splprep([x,y],k=deg,s=0) \n",
    "    u = np.linspace(0,1,num=point,endpoint=True) \n",
    "    spline = interpolate.splev(u,tck)\n",
    "    return spline[0],spline[1]"
   ]
  },
  {
   "cell_type": "code",
   "execution_count": 15,
   "metadata": {},
   "outputs": [],
   "source": [
    "def img_plotter(start, end, delta, size = 64, lw = 1.0):\n",
    "    # fig setting\n",
    "    fig = plt.figure(dpi=1, figsize=(size, size))\n",
    "    plt.tick_params(labelbottom=False, labelleft=False, labelright=False, labeltop=False)\n",
    "    plt.tick_params(bottom=False, left=False, right=False, top=False)\n",
    "    plt.gca().spines[\"bottom\"].set_visible(False)\n",
    "    plt.gca().spines[\"left\"].set_visible(False)\n",
    "    plt.gca().spines[\"right\"].set_visible(False)\n",
    "    plt.gca().spines[\"top\"].set_visible(False)\n",
    "    \n",
    "    # read data\n",
    "    x = df_market.USGB10.pct_change(delta)[start:end]\n",
    "    y = df_market.US_SP500.pct_change(delta)[start:end]\n",
    "    \n",
    "    # plot\n",
    "    # plt.plot(-x, y, marker=\".\")\n",
    "    a, b = spline(-x, y, 100, 2)\n",
    "    plt.plot(a, b, lw=lw)\n",
    "    # プロット画像を直接メモリで渡す                                                   \n",
    "    buf = io.BytesIO() # bufferを用意\n",
    "    plt.savefig(buf, format='png') # bufferに保持\n",
    "    enc = np.frombuffer(buf.getvalue(), dtype=np.uint8) # bufferからの読み出し\n",
    "    dst = cv2.imdecode(enc, 1) # デコード\n",
    "    dst = dst[:,:,::-1] # BGR->RGB\n",
    "    plt.close()\n",
    "    img = to_monochrome(dst)\n",
    "    return img"
   ]
  },
  {
   "cell_type": "code",
   "execution_count": 16,
   "metadata": {},
   "outputs": [
    {
     "data": {
      "text/plain": [
       "19154"
      ]
     },
     "execution_count": 16,
     "metadata": {},
     "output_type": "execute_result"
    }
   ],
   "source": [
    "len(start_and_end)"
   ]
  },
  {
   "cell_type": "code",
   "execution_count": 17,
   "metadata": {},
   "outputs": [],
   "source": [
    "pos = 100"
   ]
  },
  {
   "cell_type": "code",
   "execution_count": 19,
   "metadata": {
    "scrolled": false
   },
   "outputs": [
    {
     "data": {
      "text/plain": [
       "<matplotlib.image.AxesImage at 0x2b734d5b0e90>"
      ]
     },
     "execution_count": 19,
     "metadata": {},
     "output_type": "execute_result"
    },
    {
     "data": {
      "image/png": "[encoded data removed]",
      "text/plain": [
       "<Figure size 432x288 with 1 Axes>"
      ]
     },
     "metadata": {
      "needs_background": "light"
     },
     "output_type": "display_data"
    }
   ],
   "source": [
    "img = img_generator(start_and_end[pos][0],  start_and_end[pos][1], 22, size=128, lw = 100.0)\n",
    "plt.imshow(img, cmap = 'gray', vmin = 0, vmax = 1, interpolation = 'none')"
   ]
  },
  {
   "cell_type": "code",
   "execution_count": 20,
   "metadata": {
    "scrolled": false
   },
   "outputs": [
    {
     "data": {
      "text/plain": [
       "<matplotlib.image.AxesImage at 0x2b734d67db90>"
      ]
     },
     "execution_count": 20,
     "metadata": {},
     "output_type": "execute_result"
    },
    {
     "data": {
      "image/png": "[encoded data removed]",
      "text/plain": [
       "<Figure size 432x288 with 1 Axes>"
      ]
     },
     "metadata": {
      "needs_background": "light"
     },
     "output_type": "display_data"
    }
   ],
   "source": [
    "img = img_plotter(start_and_end[pos][0],  start_and_end[pos][1], 22, size=128, lw = 100.0)\n",
    "plt.imshow(img, cmap = 'gray', vmin = 0, vmax = 1, interpolation = 'none')"
   ]
  },
  {
   "cell_type": "markdown",
   "metadata": {},
   "source": [
    "### dict型でデータ作成"
   ]
  },
  {
   "cell_type": "code",
   "execution_count": 21,
   "metadata": {
    "scrolled": true
   },
   "outputs": [
    {
     "name": "stderr",
     "output_type": "stream",
     "text": [
      "100%|██████████| 8000/8000 [28:10<00:00,  4.73it/s]  \n"
     ]
    },
    {
     "name": "stdout",
     "output_type": "stream",
     "text": [
      "CPU times: user 27min 56s, sys: 17.4 s, total: 28min 14s\n",
      "Wall time: 28min 10s\n"
     ]
    }
   ],
   "source": [
    "%%time\n",
    "img_list = []\n",
    "for i in tqdm( range(8000) ):\n",
    "    img = img_generator(start_and_end[i][0] ,  start_and_end[i][1] , 22, size=128, lw = 100.0) # 1962-01-01 ~ 2020-02-01\n",
    "    img_list.append(img)"
   ]
  },
  {
   "cell_type": "code",
   "execution_count": 22,
   "metadata": {},
   "outputs": [],
   "source": [
    "img_filename = \"imgs128_1.pkl\""
   ]
  },
  {
   "cell_type": "code",
   "execution_count": 23,
   "metadata": {},
   "outputs": [],
   "source": [
    "with open(img_filename, \"wb\") as f:\n",
    "    pickle.dump(img_list, f)"
   ]
  },
  {
   "cell_type": "code",
   "execution_count": 24,
   "metadata": {},
   "outputs": [
    {
     "name": "stderr",
     "output_type": "stream",
     "text": [
      "100%|██████████| 8000/8000 [28:27<00:00,  4.68it/s]   \n"
     ]
    }
   ],
   "source": [
    "img_list = []\n",
    "for i in tqdm( range(8000,16000) ):\n",
    "    img = img_generator(start_and_end[i][0] ,  start_and_end[i][1] , 22, size=128, lw = 100.0) # 1962-01-01 ~ 2020-02-01\n",
    "    img_list.append(img)"
   ]
  },
  {
   "cell_type": "code",
   "execution_count": 25,
   "metadata": {},
   "outputs": [],
   "source": [
    "img_filename = \"imgs128_2.pkl\""
   ]
  },
  {
   "cell_type": "code",
   "execution_count": 26,
   "metadata": {},
   "outputs": [],
   "source": [
    "with open(img_filename, \"wb\") as f:\n",
    "    pickle.dump(img_list, f)"
   ]
  },
  {
   "cell_type": "code",
   "execution_count": 27,
   "metadata": {},
   "outputs": [
    {
     "name": "stderr",
     "output_type": "stream",
     "text": [
      "100%|██████████| 3154/3154 [11:26<00:00,  4.59it/s]  \n"
     ]
    }
   ],
   "source": [
    "img_list = []\n",
    "for i in tqdm( range(16000,19154) ):\n",
    "    img = img_generator(start_and_end[i][0] ,  start_and_end[i][1] , 22, size=128, lw = 100.0) # 1962-01-01 ~ 2020-02-01\n",
    "    img_list.append(img)"
   ]
  },
  {
   "cell_type": "code",
   "execution_count": 28,
   "metadata": {},
   "outputs": [],
   "source": [
    "img_filename = \"imgs128_3.pkl\""
   ]
  },
  {
   "cell_type": "code",
   "execution_count": 29,
   "metadata": {},
   "outputs": [],
   "source": [
    "with open(img_filename, \"wb\") as f:\n",
    "    pickle.dump(img_list, f)"
   ]
  },
  {
   "cell_type": "code",
   "execution_count": 29,
   "metadata": {},
   "outputs": [],
   "source": [
    "date_filename = \"dates.pkl\""
   ]
  },
  {
   "cell_type": "code",
   "execution_count": 30,
   "metadata": {},
   "outputs": [],
   "source": [
    "with open(date_filename, \"wb\") as f:\n",
    "    pickle.dump(start_and_end, f)"
   ]
  },
  {
   "cell_type": "markdown",
   "metadata": {},
   "source": [
    "## データができていればここからも実行可能"
   ]
  },
  {
   "cell_type": "markdown",
   "metadata": {},
   "source": [
    " ### binaryデータから読み取り確認"
   ]
  },
  {
   "cell_type": "code",
   "execution_count": null,
   "metadata": {},
   "outputs": [],
   "source": [
    "with open(date_filename, \"rb\") as f, open(img_filename, \"rb\") as g:\n",
    "    load_date_list, load_img_list = pickle.load(f), pickle.load(g)"
   ]
  },
  {
   "cell_type": "code",
   "execution_count": null,
   "metadata": {},
   "outputs": [],
   "source": [
    "for i in range(10):\n",
    "    plt.imshow(load_img_list[i], cmap = 'gray', vmin = 0, vmax = 1, interpolation = 'none')"
   ]
  },
  {
   "cell_type": "code",
   "execution_count": 31,
   "metadata": {},
   "outputs": [
    {
     "data": {
      "text/plain": [
       "CompletedProcess(args=['jupyter', 'nbconvert', '--to', 'python', 'make_figure.ipynb'], returncode=255)"
      ]
     },
     "execution_count": 31,
     "metadata": {},
     "output_type": "execute_result"
    }
   ],
   "source": [
    "import subprocess\n",
    "subprocess.run(['jupyter', 'nbconvert', '--to', 'python', 'make_figure.ipynb'])"
   ]
  }
 ],
 "metadata": {
  "kernelspec": {
   "display_name": "Python 3",
   "language": "python",
   "name": "python3"
  },
  "language_info": {
   "codemirror_mode": {
    "name": "ipython",
    "version": 3
   },
   "file_extension": ".py",
   "mimetype": "text/x-python",
   "name": "python",
   "nbconvert_exporter": "python",
   "pygments_lexer": "ipython3",
   "version": "3.7.7"
  }
 },
 "nbformat": 4,
 "nbformat_minor": 4
}
