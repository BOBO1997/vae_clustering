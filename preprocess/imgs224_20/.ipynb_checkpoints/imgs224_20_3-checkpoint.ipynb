{
 "cells": [
  {
   "cell_type": "markdown",
   "metadata": {},
   "source": [
    "# スケールはそのままで、位置だけ揃える"
   ]
  },
  {
   "cell_type": "code",
   "execution_count": 1,
   "metadata": {},
   "outputs": [],
   "source": [
    "import cv2\n",
    "import datetime\n",
    "import io\n",
    "from IPython.display import display, Image\n",
    "import matplotlib.pyplot as plt\n",
    "%matplotlib inline\n",
    "import numpy as np\n",
    "import pandas as pd\n",
    "import pickle\n",
    "import scipy\n",
    "from scipy import interpolate\n",
    "from tqdm import tqdm"
   ]
  },
  {
   "cell_type": "code",
   "execution_count": 2,
   "metadata": {},
   "outputs": [],
   "source": [
    "import sys\n",
    "sys.path.append('/home/kwk/share/mizuho/share/code')\n",
    "sys.path.append(\"/home/kwk/share/mizuho/u00257/vae_clustering/src/\")\n",
    "sys.path.append(\"/home/kwk/share/mizuho/u00257/vae_clustering/src/lib/\")\n",
    "sys.path.append(\"/home/kwk/share/mizuho/u00257/vae_clustering/src/preprocess/\")"
   ]
  },
  {
   "cell_type": "code",
   "execution_count": 3,
   "metadata": {},
   "outputs": [],
   "source": [
    "from get_data import get_data\n",
    "import importlib\n",
    "import img_shows\n",
    "import gen_functions\n",
    "from img_shows import *\n",
    "from gen_functions import *"
   ]
  },
  {
   "cell_type": "code",
   "execution_count": 4,
   "metadata": {},
   "outputs": [],
   "source": [
    "# importlib.reload(img_shows)\n",
    "# from img_shows import *"
   ]
  },
  {
   "cell_type": "code",
   "execution_count": 5,
   "metadata": {},
   "outputs": [],
   "source": [
    "# importlib.reload(gen_functions)\n",
    "# from gen_functions import *"
   ]
  },
  {
   "cell_type": "code",
   "execution_count": 6,
   "metadata": {
    "scrolled": true
   },
   "outputs": [],
   "source": [
    "delta = 22\n",
    "df_market, df_economy = get_data()\n",
    "usgb10 = df_market.USGB10.pct_change(delta)\n",
    "ussp500 = df_market.US_SP500.pct_change(delta)"
   ]
  },
  {
   "cell_type": "code",
   "execution_count": 7,
   "metadata": {
    "scrolled": true
   },
   "outputs": [
    {
     "name": "stdout",
     "output_type": "stream",
     "text": [
      "0.7013543007443057 0.41413084844130343\n"
     ]
    }
   ],
   "source": [
    "dates = gen_dates()\n",
    "max_w, max_h = find_hw(usgb10, ussp500, dates)\n",
    "print(max_w, max_h)"
   ]
  },
  {
   "cell_type": "code",
   "execution_count": 8,
   "metadata": {},
   "outputs": [
    {
     "name": "stdout",
     "output_type": "stream",
     "text": [
      "1.0558213716108453 0.5607756581851283\n"
     ]
    }
   ],
   "source": [
    "print(usgb10.max() - usgb10.min(), ussp500.max() - ussp500.min())"
   ]
  },
  {
   "cell_type": "code",
   "execution_count": 9,
   "metadata": {},
   "outputs": [],
   "source": [
    "lw = 20\n",
    "size = 224"
   ]
  },
  {
   "cell_type": "code",
   "execution_count": 10,
   "metadata": {
    "scrolled": true
   },
   "outputs": [
    {
     "data": {
      "text/plain": [
       "<matplotlib.image.AxesImage at 0x2b3fb677ee10>"
      ]
     },
     "execution_count": 10,
     "metadata": {},
     "output_type": "execute_result"
    },
    {
     "data": {
      "image/png": "[encoded data removed]",
      "text/plain": [
       "<Figure size 432x288 with 1 Axes>"
      ]
     },
     "metadata": {
      "needs_background": "light"
     },
     "output_type": "display_data"
    }
   ],
   "source": [
    "pos = 111\n",
    "img = gen_imgs(dates[pos][0],  dates[pos][1], usgb10, ussp500, max_w, max_h, size=size, lw = lw)\n",
    "plt.imshow(img, cmap = 'gray', vmin = 0, vmax = 1, interpolation = 'none')"
   ]
  },
  {
   "cell_type": "code",
   "execution_count": 11,
   "metadata": {
    "scrolled": true
   },
   "outputs": [
    {
     "name": "stdout",
     "output_type": "stream",
     "text": [
      "[ 100  200  300  400  500  600  700  800  900 1000 1100 1200 1300 1400\n",
      " 1500 1600 1700 1800 1900 2000 2100 2200 2300 2400 2500 2600 2700 2800\n",
      " 2900 3000 3100 3200 3300 3400 3500 3600 3700 3800 3900 4000 4100 4200\n",
      " 4300 4400 4500 4600 4700 4800 4900 5000 5100 5200 5300 5400 5500 5600\n",
      " 5700 5800 5900 6000 6100 6200 6300 6400]\n"
     ]
    }
   ],
   "source": [
    "poses = np.array([(i + 1) * 100 for i in range(64)],dtype=\"int64\")\n",
    "# poses += 500\n",
    "print(poses)"
   ]
  },
  {
   "cell_type": "code",
   "execution_count": 12,
   "metadata": {},
   "outputs": [],
   "source": [
    "def imdisp_gen_imgs(poses, lw=1.0, figsize=(15.0, 15.0)):\n",
    "    plt.clf()\n",
    "    fig = plt.figure(figsize=figsize)\n",
    "    for i, pos in enumerate(poses):\n",
    "        ax = fig.add_subplot(np.ceil(np.sqrt(len(poses))).astype(\"int64\"), np.ceil(np.sqrt(len(poses))).astype(\"int64\"), i + 1)\n",
    "        img = gen_imgs(dates[pos][0], dates[pos][1], usgb10, ussp500, max_w, max_h, lw=lw)\n",
    "        ax.imshow(img, cmap = 'gray', vmin = 0, vmax = 1, interpolation = 'none')\n",
    "    fig.tight_layout()\n",
    "    plt.show()"
   ]
  },
  {
   "cell_type": "code",
   "execution_count": 13,
   "metadata": {
    "scrolled": false
   },
   "outputs": [],
   "source": [
    "# imdisp_gen_imgs(poses, lw=lw)"
   ]
  },
  {
   "cell_type": "code",
   "execution_count": 14,
   "metadata": {},
   "outputs": [],
   "source": [
    "# imdisp_abs(poses, usgb10, ussp500, dates)"
   ]
  },
  {
   "cell_type": "markdown",
   "metadata": {},
   "source": [
    "### 画像データ作成"
   ]
  },
  {
   "cell_type": "code",
   "execution_count": 24,
   "metadata": {},
   "outputs": [],
   "source": [
    "data_pkls = \"../data_pkls/\"\n",
    "lw = 20\n",
    "size = 224"
   ]
  },
  {
   "cell_type": "markdown",
   "metadata": {},
   "source": [
    "#### 分割1"
   ]
  },
  {
   "cell_type": "code",
   "execution_count": null,
   "metadata": {
    "scrolled": true
   },
   "outputs": [
    {
     "name": "stderr",
     "output_type": "stream",
     "text": [
      "  1%|          | 29/4788 [00:12<34:15,  2.32it/s]"
     ]
    }
   ],
   "source": [
    "%%time\n",
    "img_list = []\n",
    "for i in tqdm( range(19154 // 4) ):\n",
    "    img = gen_imgs(dates[i][0], dates[i][1], usgb10, ussp500, max_w, max_h, lw=lw)\n",
    "    img_list.append(img)"
   ]
  },
  {
   "cell_type": "code",
   "execution_count": null,
   "metadata": {},
   "outputs": [],
   "source": [
    "img_filename = \"imgs\" + str(size) + \"_\" + str(lw) + \"_1.pkl\""
   ]
  },
  {
   "cell_type": "code",
   "execution_count": null,
   "metadata": {},
   "outputs": [],
   "source": [
    "with open(data_pkls + img_filename, \"wb\") as f:\n",
    "    pickle.dump(img_list, f)"
   ]
  },
  {
   "cell_type": "markdown",
   "metadata": {},
   "source": [
    "#### 分割2"
   ]
  },
  {
   "cell_type": "code",
   "execution_count": null,
   "metadata": {},
   "outputs": [],
   "source": [
    "img_list = []\n",
    "for i in tqdm( range(19154 // 4, 19154 // 4 * 2) ):\n",
    "    img = gen_imgs(dates[i][0], dates[i][1], usgb10, ussp500, max_w, max_h, lw=lw)\n",
    "    img_list.append(img)"
   ]
  },
  {
   "cell_type": "code",
   "execution_count": null,
   "metadata": {},
   "outputs": [],
   "source": [
    "img_filename = \"imgs\" + str(size) + \"_\" + str(lw) + \"_2.pkl\""
   ]
  },
  {
   "cell_type": "code",
   "execution_count": null,
   "metadata": {},
   "outputs": [],
   "source": [
    "with open(data_pkls + img_filename, \"wb\") as f:\n",
    "    pickle.dump(img_list, f)"
   ]
  },
  {
   "cell_type": "markdown",
   "metadata": {},
   "source": [
    "#### 分割3"
   ]
  },
  {
   "cell_type": "code",
   "execution_count": null,
   "metadata": {},
   "outputs": [],
   "source": [
    "img_list = []\n",
    "for i in tqdm( range(19154 // 4 * 2, 19154 // 4 * 3) ):\n",
    "    img = gen_imgs(dates[i][0], dates[i][1], usgb10, ussp500, max_w, max_h, lw=lw)\n",
    "    img_list.append(img)"
   ]
  },
  {
   "cell_type": "code",
   "execution_count": null,
   "metadata": {},
   "outputs": [],
   "source": [
    "img_filename = \"imgs\" + str(size) + \"_\" + str(lw) + \"_3.pkl\""
   ]
  },
  {
   "cell_type": "code",
   "execution_count": null,
   "metadata": {},
   "outputs": [],
   "source": [
    "with open(data_pkls + img_filename, \"wb\") as f:\n",
    "    pickle.dump(img_list, f)"
   ]
  },
  {
   "cell_type": "markdown",
   "metadata": {},
   "source": [
    "#### 分割4"
   ]
  },
  {
   "cell_type": "code",
   "execution_count": null,
   "metadata": {},
   "outputs": [],
   "source": [
    "img_list = []\n",
    "for i in tqdm( range(19154 // 4 * 3, 19154) ):\n",
    "    img = gen_imgs(dates[i][0], dates[i][1], usgb10, ussp500, max_w, max_h, lw=lw)\n",
    "    img_list.append(img)"
   ]
  },
  {
   "cell_type": "code",
   "execution_count": null,
   "metadata": {},
   "outputs": [],
   "source": [
    "img_filename = \"imgs\" + str(size) + \"_\" + str(lw) + \"_4.pkl\""
   ]
  },
  {
   "cell_type": "code",
   "execution_count": null,
   "metadata": {},
   "outputs": [],
   "source": [
    "with open(data_pkls + img_filename, \"wb\") as f:\n",
    "    pickle.dump(img_list, f)"
   ]
  }
 ],
 "metadata": {
  "kernelspec": {
   "display_name": "Python 3",
   "language": "python",
   "name": "python3"
  },
  "language_info": {
   "codemirror_mode": {
    "name": "ipython",
    "version": 3
   },
   "file_extension": ".py",
   "mimetype": "text/x-python",
   "name": "python",
   "nbconvert_exporter": "python",
   "pygments_lexer": "ipython3",
   "version": "3.7.7"
  }
 },
 "nbformat": 4,
 "nbformat_minor": 4
}
