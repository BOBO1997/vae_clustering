{
 "cells": [
  {
   "cell_type": "code",
   "execution_count": null,
   "metadata": {},
   "outputs": [],
   "source": [
    "import matplotlib.pyplot as plt\n",
    "%matplotlib inline\n",
    "import numpy as np\n",
    "from sklearn.manifold import TSNE, MDS, SpectralEmbedding\n",
    "import torch\n",
    "import torch.nn as nn\n",
    "import torch.nn.functional as F"
   ]
  },
  {
   "cell_type": "code",
   "execution_count": null,
   "metadata": {},
   "outputs": [],
   "source": [
    "def imdisp(poses, usgb10, ussp500, start_and_end, figsize=(15.0, 15.0)):\n",
    "    plt.clf()\n",
    "    fig = plt.figure(figsize=figsize)\n",
    "    plt.tick_params(labelbottom=False, labelleft=False, labelright=False, labeltop=False)\n",
    "    plt.tick_params(bottom=False, left=False, right=False, top=False)\n",
    "    plt.gca().spines[\"bottom\"].set_visible(False)\n",
    "    plt.gca().spines[\"left\"].set_visible(False)\n",
    "    plt.gca().spines[\"right\"].set_visible(False)\n",
    "    plt.gca().spines[\"top\"].set_visible(False)\n",
    "    for i, pos in enumerate(poses):\n",
    "        ax = fig.add_subplot(np.ceil(np.sqrt(len(poses))).astype(\"int64\"), np.ceil(np.sqrt(len(poses))).astype(\"int64\"), i + 1)\n",
    "        # ax.tick_params(labelbottom=False, labelleft=False, labelright=False, labeltop=False)\n",
    "        # ax.tick_params(bottom=False, left=False, right=False, top=False)\n",
    "        x = usgb10[start_and_end[pos][0]:start_and_end[pos][1]]\n",
    "        y = ussp500[start_and_end[pos][0]:start_and_end[pos][1]]\n",
    "        ax.plot(-x, y)\n",
    "    fig.tight_layout()\n",
    "    plt.show()"
   ]
  },
  {
   "cell_type": "code",
   "execution_count": null,
   "metadata": {},
   "outputs": [],
   "source": [
    "def imdisp_abs(poses, usgb10, ussp500, start_and_end, figsize=(15.0, 15.0)):\n",
    "    plt.clf()\n",
    "    fig = plt.figure(figsize=figsize)\n",
    "    plt.tick_params(labelbottom=False, labelleft=False, labelright=False, labeltop=False)\n",
    "    plt.tick_params(bottom=False, left=False, right=False, top=False)\n",
    "    plt.gca().spines[\"bottom\"].set_visible(False)\n",
    "    plt.gca().spines[\"left\"].set_visible(False)\n",
    "    plt.gca().spines[\"right\"].set_visible(False)\n",
    "    plt.gca().spines[\"top\"].set_visible(False)\n",
    "    x_min, x_max = - usgb10.max(), - usgb10.min()\n",
    "    y_min, y_max = ussp500.min(), ussp500.max()\n",
    "    for i, pos in enumerate(poses):\n",
    "        ax = fig.add_subplot(np.ceil(np.sqrt(len(poses))).astype(\"int64\"), np.ceil(np.sqrt(len(poses))).astype(\"int64\"), i + 1)\n",
    "        # ax.tick_params(labelbottom=False, labelleft=False, labelright=False, labeltop=False)\n",
    "        # ax.tick_params(bottom=False, left=False, right=False, top=False)\n",
    "        ax.set_xlim([x_min, x_max])\n",
    "        ax.set_ylim([y_min, y_max])\n",
    "        x = usgb10[start_and_end[pos][0]:start_and_end[pos][1]]\n",
    "        y = ussp500[start_and_end[pos][0]:start_and_end[pos][1]]\n",
    "        ax.plot(-x, y)\n",
    "    fig.tight_layout()\n",
    "    plt.show()"
   ]
  },
  {
   "cell_type": "code",
   "execution_count": null,
   "metadata": {},
   "outputs": [],
   "source": [
    "def imdisp_same_scale(poses, usgb10, ussp500, start_and_end, max_w, max_h, figsize=(15.0, 15.0)):\n",
    "    plt.clf()\n",
    "    fig = plt.figure(figsize=figsize)\n",
    "    plt.tick_params(labelbottom=False, labelleft=False, labelright=False, labeltop=False)\n",
    "    plt.tick_params(bottom=False, left=False, right=False, top=False)\n",
    "    plt.gca().spines[\"bottom\"].set_visible(False)\n",
    "    plt.gca().spines[\"left\"].set_visible(False)\n",
    "    plt.gca().spines[\"right\"].set_visible(False)\n",
    "    plt.gca().spines[\"top\"].set_visible(False)\n",
    "    for i, pos in enumerate(poses):\n",
    "        ax = fig.add_subplot(np.ceil(np.sqrt(len(poses))).astype(\"int64\"), np.ceil(np.sqrt(len(poses))).astype(\"int64\"), i + 1)\n",
    "        # ax.tick_params(labelbottom=False, labelleft=False, labelright=False, labeltop=False)\n",
    "        # ax.tick_params(bottom=False, left=False, right=False, top=False)\n",
    "        x = usgb10[start_and_end[pos][0]:start_and_end[pos][1]]\n",
    "        y = ussp500[start_and_end[pos][0]:start_and_end[pos][1]]\n",
    "        x_min = - x.max()\n",
    "        y_min = y.min()\n",
    "        ax.set_xlim([x_min, x_min + max_w])\n",
    "        ax.set_ylim([y_min, y_min + max_h])\n",
    "        ax.plot(-x, y)\n",
    "    fig.tight_layout()\n",
    "    plt.show()"
   ]
  },
  {
   "cell_type": "code",
   "execution_count": null,
   "metadata": {},
   "outputs": [],
   "source": [
    "def imdisp_gen_imgs(poses, usgb10, ussp500, dates, gen_imgs, max_w, max_h, lw=1.0, figsize=(15.0, 15.0)):\n",
    "    plt.clf()\n",
    "    fig = plt.figure(figsize=figsize)\n",
    "    for i, pos in enumerate(poses):\n",
    "        ax = fig.add_subplot(np.ceil(np.sqrt(len(poses))).astype(\"int64\"), np.ceil(np.sqrt(len(poses))).astype(\"int64\"), i + 1)\n",
    "        img = gen_imgs(dates[pos][0], dates[pos][1], usgb10, ussp500, max_w, max_h, lw=lw)\n",
    "        ax.imshow(img, cmap = 'gray', vmin = 0, vmax = 1, interpolation = 'none')\n",
    "    fig.tight_layout()\n",
    "    plt.show()"
   ]
  },
  {
   "cell_type": "code",
   "execution_count": null,
   "metadata": {},
   "outputs": [],
   "source": [
    "def imshow(dataset, dates, poses, model = None, device = \"cpu\", figsize=(15.0, 15.0), imgsize = 224):\n",
    "    data_type = 1 if len(dataset[0].shape) == 1 else 2\n",
    "    plt.clf()\n",
    "    fig = plt.figure(figsize=figsize)\n",
    "    plt.tick_params(labelbottom=False, labelleft=False, labelright=False, labeltop=False)\n",
    "    plt.tick_params(bottom=False, left=False, right=False, top=False)\n",
    "    plt.gca().spines[\"bottom\"].set_visible(False)\n",
    "    plt.gca().spines[\"left\"].set_visible(False)\n",
    "    plt.gca().spines[\"right\"].set_visible(False)\n",
    "    plt.gca().spines[\"top\"].set_visible(False)\n",
    "    for i, pos in enumerate(poses):\n",
    "        ax = fig.add_subplot(np.ceil(np.sqrt(len(poses))).astype(\"int64\"), np.ceil(np.sqrt(len(poses))).astype(\"int64\"), i + 1)\n",
    "        ax.tick_params(labelbottom=False, labelleft=False, labelright=False, labeltop=False)\n",
    "        ax.tick_params(bottom=False, left=False, right=False, top=False)\n",
    "        ax.set_title(dates[pos])\n",
    "        if model is None:\n",
    "            if data_type == 1:\n",
    "                ax.imshow(dataset[pos].to(\"cpu\").reshape(imgsize, imgsize), cmap = 'gray', vmin = 0, vmax = 1, interpolation = 'none')\n",
    "            else:\n",
    "                ax.imshow(dataset[pos][0].to(\"cpu\"), cmap = 'gray', vmin = 0, vmax = 1, interpolation = 'none')\n",
    "        else:\n",
    "            with torch.no_grad():\n",
    "                output_img, _, _ = model(dataset[pos].unsqueeze(0))\n",
    "                if data_type == 1:\n",
    "                    ax.imshow(output_img.to(\"cpu\").reshape(imgsize, imgsize), cmap = 'gray', vmin = 0, vmax = 1, interpolation = 'none')\n",
    "                else:\n",
    "                    ax.imshow(output_img.to(\"cpu\")[0,0], cmap = 'gray', vmin = 0, vmax = 1, interpolation = 'none')\n",
    "    fig.tight_layout()\n",
    "    plt.show()"
   ]
  },
  {
   "cell_type": "code",
   "execution_count": null,
   "metadata": {},
   "outputs": [],
   "source": [
    "def imshow_cnn(dataset, dates, poses, device = \"cpu\", figsize=(15.0, 15.0), imgsize = 224):\n",
    "    plt.clf()\n",
    "    fig = plt.figure(figsize=figsize)\n",
    "    plt.tick_params(labelbottom=False, labelleft=False, labelright=False, labeltop=False)\n",
    "    plt.tick_params(bottom=False, left=False, right=False, top=False)\n",
    "    plt.gca().spines[\"bottom\"].set_visible(False)\n",
    "    plt.gca().spines[\"left\"].set_visible(False)\n",
    "    plt.gca().spines[\"right\"].set_visible(False)\n",
    "    plt.gca().spines[\"top\"].set_visible(False)\n",
    "    for i, pos in enumerate(poses):\n",
    "        ax = fig.add_subplot(np.ceil(np.sqrt(len(poses))).astype(\"int64\"), np.ceil(np.sqrt(len(poses))).astype(\"int64\"), i + 1)\n",
    "        ax.tick_params(labelbottom=False, labelleft=False, labelright=False, labeltop=False)\n",
    "        ax.tick_params(bottom=False, left=False, right=False, top=False)\n",
    "        ax.set_title(dates[pos])\n",
    "        img, _ = dataset[pos]\n",
    "        ax.imshow(img[0].to(\"cpu\"), cmap = 'gray', vmin = 0, vmax = 1, interpolation = 'none')\n",
    "    fig.tight_layout()\n",
    "    plt.show()"
   ]
  },
  {
   "cell_type": "code",
   "execution_count": null,
   "metadata": {},
   "outputs": [],
   "source": [
    "def imshow_dense(dataset, poses, model = None, device = \"cpu\"):\n",
    "    plt.clf()\n",
    "    fig = plt.figure(figsize=(15.0, 75.0))\n",
    "    for i, pos in enumerate(poses):\n",
    "        ax = fig.add_subplot(1, len(poses), i + 1)\n",
    "        if model is None:\n",
    "            ax.imshow(dataset[pos].to(\"cpu\").reshape(128,128), cmap = 'gray', vmin = 0, vmax = 1, interpolation = 'none')\n",
    "        else:\n",
    "            with torch.no_grad():\n",
    "                output_img, _, _ = model(dataset[pos].unsqueeze(0).to(device))\n",
    "                ax.imshow(output_img.to(\"cpu\")[0].reshape(128,128), cmap = 'gray', vmin = 0, vmax = 1, interpolation = 'none')\n",
    "    fig.tight_layout()\n",
    "    plt.show()"
   ]
  },
  {
   "cell_type": "code",
   "execution_count": null,
   "metadata": {},
   "outputs": [],
   "source": [
    "def imshow_conv(dataset, poses, model = None, device = \"cpu\"):\n",
    "    plt.clf()\n",
    "    fig = plt.figure(figsize=(15.0, 75.0))\n",
    "    for i, pos in enumerate(poses):\n",
    "        ax = fig.add_subplot(1, len(poses), i + 1)\n",
    "        if model is None:\n",
    "            ax.imshow(dataset[pos][0].to(\"cpu\"), cmap = 'gray', vmin = 0, vmax = 1, interpolation = 'none')\n",
    "        else:\n",
    "            with torch.no_grad():\n",
    "                output_imgs, _, _ = model(dataset[pos].unsqueeze(0))\n",
    "                ax.imshow(output_imgs.to(\"cpu\")[0,0], cmap = 'gray', vmin = 0, vmax = 1, interpolation = 'none')\n",
    "    fig.tight_layout()\n",
    "    plt.show()"
   ]
  },
  {
   "cell_type": "code",
   "execution_count": null,
   "metadata": {},
   "outputs": [],
   "source": [
    "def visualize_zs(zs, labels, perplexity=30, learning_rate=200, n_iter=1000):\n",
    "    plt.clf()\n",
    "    plt.figure(figsize=(7,6))\n",
    "    points = TSNE(n_components=2, random_state=0, perplexity=perplexity, learning_rate=learning_rate, n_iter=n_iter).fit_transform(zs)\n",
    "    plt.scatter(points.transpose()[0], points.transpose()[1], s=20, c=labels)\n",
    "    plt.colorbar()\n",
    "    plt.show()"
   ]
  },
  {
   "cell_type": "code",
   "execution_count": null,
   "metadata": {},
   "outputs": [],
   "source": [
    "def visualize_zsp(zs, perplexities, labels=None, learning_rate=200, n_iter=2000):\n",
    "    plt.clf()\n",
    "    fig = plt.figure(figsize=(len(perplexities) * 4, 4))\n",
    "    for i, perplexity in enumerate(perplexities):\n",
    "        points = TSNE(n_components=2, random_state=0, perplexity=perplexity, learning_rate=learning_rate, n_iter=n_iter).fit_transform(zs)\n",
    "        ax = fig.add_subplot(1, len(perplexities), i + 1)\n",
    "        ax.scatter(points.transpose()[0], points.transpose()[1], s=5) if labels is None else ax.scatter(points.transpose()[0], points.transpose()[1], s=5, c=labels)\n",
    "    fig.show()"
   ]
  },
  {
   "cell_type": "code",
   "execution_count": 2,
   "metadata": {
    "scrolled": true
   },
   "outputs": [
    {
     "data": {
      "text/plain": [
       "CompletedProcess(args=['jupyter', 'nbconvert', '--to', 'python', 'img_shows.ipynb'], returncode=0)"
      ]
     },
     "execution_count": 2,
     "metadata": {},
     "output_type": "execute_result"
    }
   ],
   "source": [
    "import subprocess\n",
    "subprocess.run(['jupyter', 'nbconvert', '--to', 'python', 'img_shows.ipynb'])"
   ]
  }
 ],
 "metadata": {
  "kernelspec": {
   "display_name": "Python 3",
   "language": "python",
   "name": "python3"
  },
  "language_info": {
   "codemirror_mode": {
    "name": "ipython",
    "version": 3
   },
   "file_extension": ".py",
   "mimetype": "text/x-python",
   "name": "python",
   "nbconvert_exporter": "python",
   "pygments_lexer": "ipython3",
   "version": "3.7.7"
  }
 },
 "nbformat": 4,
 "nbformat_minor": 4
}
