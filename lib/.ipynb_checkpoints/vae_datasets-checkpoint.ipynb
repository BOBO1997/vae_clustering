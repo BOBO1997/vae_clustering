{
 "cells": [
  {
   "cell_type": "markdown",
   "metadata": {},
   "source": [
    "# Autoencoderのデータセットを定義"
   ]
  },
  {
   "cell_type": "code",
   "execution_count": 1,
   "metadata": {},
   "outputs": [],
   "source": [
    "import matplotlib.pyplot as plt\n",
    "%matplotlib inline\n",
    "import numpy as np\n",
    "import os\n",
    "import pickle\n",
    "from PIL import Image\n",
    "from pprint import pprint\n",
    "import random\n",
    "import sys\n",
    "import torch\n",
    "# import torch.nn as nn\n",
    "# import torch.nn.functional as F\n",
    "# import torch.optim as optim\n",
    "# from torch.utils.data import Dataset, DataLoader\n",
    "# from torch.utils.data.sampler import SubsetRandomSampler\n",
    "import torchvision\n",
    "from torchvision import datasets, transforms"
   ]
  },
  {
   "cell_type": "code",
   "execution_count": 2,
   "metadata": {},
   "outputs": [],
   "source": [
    "class autoencoder_dataset(torch.utils.data.Dataset):\n",
    "    def __init__(self, img_dir, from_raw = False):\n",
    "        super().__init__()\n",
    "        self.device = torch.device(\"cuda\" if torch.cuda.is_available() else \"cpu\")\n",
    "        self.img_dir = img_dir\n",
    "        self.data = self.make_monochrome_data() if from_raw else self.load_pkls()\n",
    "        self.data_size = len(self.data)\n",
    "        \n",
    "    def __len__(self):\n",
    "        return self.data_size\n",
    "\n",
    "    def __getitem__(self, index):\n",
    "        return torch.tensor(self.data[index], dtype=torch.float32).to(self.device)\n",
    "    \n",
    "    def to_monochrome(self, img):\n",
    "        img_size = img.shape[0]\n",
    "        new_img = np.zeros((img_size, img_size))\n",
    "        for i in range(img_size):\n",
    "            for j in range(img_size):\n",
    "                new_img[i, j] = 0.0 if np.all(img[i, j] == 255) else 1.0\n",
    "        return new_img\n",
    "    \n",
    "    def make_monochrome_data(self):\n",
    "        data = []\n",
    "        imgs1, imgs2, imgs3 = self.load_raw_pkls()\n",
    "        \n",
    "        print(\"imgs1 starts: \", len(imgs1))\n",
    "        for i in range(len(imgs1)):\n",
    "            print(i)\n",
    "            data.append(self.to_monochrome(imgs1[i][\"fig\"]))\n",
    "        print(\"pkl1 finished\")\n",
    "        \n",
    "        print(\"imgs2 starts: \", len(imgs2))\n",
    "        for i in range(len(imgs2)):\n",
    "            print(i)\n",
    "            data.append(self.to_monochrome(imgs2[i][\"fig\"]))\n",
    "        print(\"pkl2 finished\")\n",
    "        \n",
    "        print(\"imgs3 starts: \", len(imgs3))\n",
    "        for i in range(len(imgs3)):\n",
    "            print(i)\n",
    "            data.append(self.to_monochrome(imgs3[i][\"fig\"]))\n",
    "        print(\"pkl3 finished\")\n",
    "        \n",
    "        with open(\"imgs.pkl\", \"wb\") as pkl:\n",
    "            pickle.dump(data, pkl)\n",
    "        return data\n",
    "    \n",
    "    def load_pkls(self):\n",
    "        with open(\"imgs.pkl\", \"rb\") as pkl:\n",
    "            data = pickle.load(pkl)\n",
    "        return data\n",
    "    \n",
    "    def load_raw_pkls(self):\n",
    "        with open(self.img_dir + \"fig-1.pkl\", \"rb\") as pkl1, open(self.img_dir + \"fig-2.pkl\", \"rb\") as pkl2, open(self.img_dir + \"fig-3.pkl\", \"rb\") as pkl3:\n",
    "            imgs1 = pickle.load(pkl1)\n",
    "            imgs2 = pickle.load(pkl2)\n",
    "            imgs3 = pickle.load(pkl3)\n",
    "        return imgs1, imgs2, imgs3"
   ]
  },
  {
   "cell_type": "code",
   "execution_count": 10,
   "metadata": {},
   "outputs": [],
   "source": [
    "class dataset2d(torch.utils.data.Dataset):\n",
    "    def __init__(self, pkl_files):\n",
    "        super().__init__()\n",
    "        self.device = torch.device(\"cuda\" if torch.cuda.is_available() else \"cpu\")\n",
    "        self.pkl_files = pkl_files\n",
    "        self.data = self.load_pkls()\n",
    "        self.data_size = len(self.data)\n",
    "        \n",
    "    def __len__(self):\n",
    "        return self.data_size\n",
    "\n",
    "    def __getitem__(self, index):\n",
    "        return torch.tensor(self.data[index], dtype=torch.float32)[np.newaxis, :].to(self.device)\n",
    "\n",
    "    def load_pkls(self):\n",
    "        data = []\n",
    "        for pkl_file in self.pkl_files:\n",
    "            with open(pkl_file, \"rb\") as pkl:\n",
    "                data += pickle.load(pkl)\n",
    "        return data"
   ]
  },
  {
   "cell_type": "code",
   "execution_count": null,
   "metadata": {},
   "outputs": [],
   "source": [
    "class dataset1d(torch.utils.data.Dataset):\n",
    "    def __init__(self, pkl_files):\n",
    "        super().__init__()\n",
    "        self.device = torch.device(\"cuda\" if torch.cuda.is_available() else \"cpu\")\n",
    "        self.pkl_files = pkl_files\n",
    "        self.data = self.load_pkls()\n",
    "        self.data_size = len(self.data)\n",
    "        \n",
    "    def __len__(self):\n",
    "        return self.data_size\n",
    "\n",
    "    def __getitem__(self, index):\n",
    "        return torch.tensor(self.data[index], dtype=torch.float32).flatten().to(self.device)\n",
    "\n",
    "    def load_pkls(self):\n",
    "        data = []\n",
    "        for pkl_file in self.pkl_files:\n",
    "            with open(pkl_file, \"rb\") as pkl:\n",
    "                data += pickle.load(pkl)\n",
    "        return data"
   ]
  },
  {
   "cell_type": "code",
   "execution_count": null,
   "metadata": {},
   "outputs": [],
   "source": [
    "class dataset2d_alta(torch.utils.data.Dataset):\n",
    "    def __init__(self, pkl_files):\n",
    "        super().__init__()\n",
    "        self.device = torch.device(\"cuda\" if torch.cuda.is_available() else \"cpu\")\n",
    "        self.pkl_files = pkl_files\n",
    "        self.data = self.load_pkls()\n",
    "        self.data = self.data[642:]\n",
    "        self.data_size = len(self.data)\n",
    "        \n",
    "    def __len__(self):\n",
    "        return self.data_size\n",
    "\n",
    "    def __getitem__(self, index):\n",
    "        return torch.tensor(self.data[index], dtype=torch.float32)[np.newaxis, :].to(self.device)\n",
    "\n",
    "    def load_pkls(self):\n",
    "        data = []\n",
    "        for pkl_file in self.pkl_files:\n",
    "            with open(pkl_file, \"rb\") as pkl:\n",
    "                data += pickle.load(pkl)\n",
    "        return data"
   ]
  },
  {
   "cell_type": "code",
   "execution_count": 3,
   "metadata": {},
   "outputs": [
    {
     "data": {
      "text/plain": [
       "CompletedProcess(args=['jupyter', 'nbconvert', '--to', 'python', 'vae_preprocess.ipynb'], returncode=0)"
      ]
     },
     "execution_count": 3,
     "metadata": {},
     "output_type": "execute_result"
    }
   ],
   "source": [
    "import subprocess\n",
    "subprocess.run(['jupyter', 'nbconvert', '--to', 'python', 'vae_datasets.ipynb'])"
   ]
  }
 ],
 "metadata": {
  "kernelspec": {
   "display_name": "Python 3",
   "language": "python",
   "name": "python3"
  },
  "language_info": {
   "codemirror_mode": {
    "name": "ipython",
    "version": 3
   },
   "file_extension": ".py",
   "mimetype": "text/x-python",
   "name": "python",
   "nbconvert_exporter": "python",
   "pygments_lexer": "ipython3",
   "version": "3.7.7"
  }
 },
 "nbformat": 4,
 "nbformat_minor": 4
}
