{
 "cells": [
  {
   "cell_type": "code",
   "execution_count": 1,
   "metadata": {},
   "outputs": [],
   "source": [
    "import numpy as np\n",
    "import pickle\n",
    "import torch\n",
    "from skimage import io, transform"
   ]
  },
  {
   "cell_type": "code",
   "execution_count": 2,
   "metadata": {},
   "outputs": [],
   "source": [
    "device = torch.device(\"cuda\" if torch.cuda.is_available() else \"cpu\")\n",
    "# print(device)"
   ]
  },
  {
   "cell_type": "code",
   "execution_count": 3,
   "metadata": {},
   "outputs": [],
   "source": [
    "# torch.cuda.device_count()"
   ]
  },
  {
   "cell_type": "code",
   "execution_count": 4,
   "metadata": {},
   "outputs": [],
   "source": [
    "class cnn_dataset_to224(torch.utils.data.Dataset):\n",
    "    def __init__(self, pkl_imgs, pkl_labels, classes, label_onehot=False):\n",
    "        super().__init__()\n",
    "        self.device = torch.device(\"cuda\" if torch.cuda.is_available() else \"cpu\")\n",
    "        self.data = self.load_pkls(pkl_imgs)\n",
    "        self.data_size = len(self.data)\n",
    "        self.labels = self.load_pkl(pkl_labels)\n",
    "        self.classes = classes\n",
    "        self.label_onehot = label_onehot\n",
    "        \n",
    "    def __len__(self):\n",
    "        return self.data_size\n",
    "\n",
    "    def __getitem__(self, index):\n",
    "        img = self.resize_img(self.data[index])\n",
    "        img = torch.tensor(img, dtype=torch.float32).expand(3, img.shape[0], img.shape[1]) # (-1, 3, -1, -1)\n",
    "        return (img.to(self.device), torch.eye(self.classes)[self.labels[index]]) if self.label_onehot else (img.to(self.device), self.labels[index])\n",
    "\n",
    "    def load_pkls(self, pkls):\n",
    "        data = []\n",
    "        for pkl_file in pkls:\n",
    "            with open(pkl_file, \"rb\") as pkl:\n",
    "                data += pickle.load(pkl)\n",
    "        return data\n",
    "    \n",
    "    def load_pkl(self, pkl_file):\n",
    "        with open(pkl_file, \"rb\") as pkl:\n",
    "            return pickle.load(pkl)\n",
    "        \n",
    "    def resize_img(self, img):\n",
    "        return transform.resize(img, (224, 224))"
   ]
  },
  {
   "cell_type": "code",
   "execution_count": null,
   "metadata": {},
   "outputs": [],
   "source": [
    "class cnn_dataset(torch.utils.data.Dataset):\n",
    "    def __init__(self, pkl_imgs, pkl_labels, classes, label_onehot=False, interval = 1):\n",
    "        super().__init__()\n",
    "        self.device = torch.device(\"cuda\" if torch.cuda.is_available() else \"cpu\")\n",
    "        self.data = self.load_pkls(pkl_imgs)\n",
    "        self.data = self.data[::interval]\n",
    "        self.data_size = len(self.data)\n",
    "        self.labels = self.load_pkl(pkl_labels)\n",
    "        self.labels = self.labels[::interval]\n",
    "        self.classes = classes\n",
    "        self.label_onehot = label_onehot\n",
    "        self.interval = interval\n",
    "        \n",
    "    def __len__(self):\n",
    "        return self.data_size\n",
    "\n",
    "    def __getitem__(self, index):\n",
    "        img = torch.tensor(self.data[index], dtype=torch.float32).expand(3, self.data[index].shape[0], self.data[index].shape[1]) # (-1, 3, -1, -1)\n",
    "        return (img.to(self.device), torch.eye(self.classes)[self.labels[index]]) if self.label_onehot else (img.to(self.device), self.labels[index])\n",
    "\n",
    "    def load_pkls(self, pkls):\n",
    "        data = []\n",
    "        for pkl_file in pkls:\n",
    "            with open(pkl_file, \"rb\") as pkl:\n",
    "                data += pickle.load(pkl)\n",
    "        return data\n",
    "    \n",
    "    def load_pkl(self, pkl_file):\n",
    "        with open(pkl_file, \"rb\") as pkl:\n",
    "            return pickle.load(pkl)"
   ]
  },
  {
   "cell_type": "code",
   "execution_count": 2,
   "metadata": {},
   "outputs": [
    {
     "data": {
      "text/plain": [
       "CompletedProcess(args=['jupyter', 'nbconvert', '--to', 'python', 'cnn_dataset.ipynb'], returncode=0)"
      ]
     },
     "execution_count": 2,
     "metadata": {},
     "output_type": "execute_result"
    }
   ],
   "source": [
    "import subprocess\n",
    "subprocess.run(['jupyter', 'nbconvert', '--to', 'python', 'cnn_dataset.ipynb'])"
   ]
  }
 ],
 "metadata": {
  "kernelspec": {
   "display_name": "Python 3",
   "language": "python",
   "name": "python3"
  },
  "language_info": {
   "codemirror_mode": {
    "name": "ipython",
    "version": 3
   },
   "file_extension": ".py",
   "mimetype": "text/x-python",
   "name": "python",
   "nbconvert_exporter": "python",
   "pygments_lexer": "ipython3",
   "version": "3.7.7"
  }
 },
 "nbformat": 4,
 "nbformat_minor": 4
}
