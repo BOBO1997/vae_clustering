{
 "cells": [
  {
   "cell_type": "markdown",
   "metadata": {},
   "source": [
    "# 訓練 (DenseVAE_4dim)\n",
    "\n",
    "## モデル\n",
    "\n",
    "### DenseVAE_2dim(\n",
    "\n",
    "-  (linear1): Linear(in_features=16384, out_features=4096, bias=True)\n",
    "-  (linear2): Linear(in_features=4096, out_features=1024, bias=True)\n",
    "-  (linear3): Linear(in_features=1024, out_features=256, bias=True)\n",
    "-  (linear4): Linear(in_features=256, out_features=64, bias=True)\n",
    "-  (linear5): Linear(in_features=64, out_features=16, bias=True)\n",
    "-  (linear_mean): Linear(in_features=16, out_features=2, bias=True)\n",
    "-  (linear_logvar): Linear(in_features=16, out_features=2, bias=True)\n",
    "-  (dec_linear6): Linear(in_features=2, out_features=16, bias=True)\n",
    "-  (dec_linear5): Linear(in_features=16, out_features=64, bias=True)\n",
    "-  (dec_linear4): Linear(in_features=64, out_features=256, bias=True)\n",
    "-  (dec_linear3): Linear(in_features=256, out_features=1024, bias=True)\n",
    "-  (dec_linear2): Linear(in_features=1024, out_features=4096, bias=True)\n",
    "-  (dec_linear1): Linear(in_features=4096, out_features=16384, bias=True)\n",
    ")\n",
    "\n",
    "### 潜在ベクトル: 4\n",
    "\n",
    "### 訓練\n",
    "\n",
    "- 400 epochs"
   ]
  },
  {
   "cell_type": "code",
   "execution_count": 1,
   "metadata": {},
   "outputs": [],
   "source": [
    "import matplotlib.pyplot as plt\n",
    "%matplotlib inline\n",
    "import numpy as np\n",
    "import pickle\n",
    "from pprint import pprint\n",
    "import sys\n",
    "import time\n",
    "import torch\n",
    "import torch.nn as nn\n",
    "import torch.nn.functional as F\n",
    "import torch.optim as optim"
   ]
  },
  {
   "cell_type": "code",
   "execution_count": 2,
   "metadata": {},
   "outputs": [],
   "source": [
    "sys.path.append(\"/home/kwk/share/mizuho/u00257/vae_clustering/src/\")"
   ]
  },
  {
   "cell_type": "code",
   "execution_count": 3,
   "metadata": {
    "scrolled": true
   },
   "outputs": [
    {
     "name": "stdout",
     "output_type": "stream",
     "text": [
      "cuda\n"
     ]
    }
   ],
   "source": [
    "device = torch.device('cuda' if torch.cuda.is_available() else 'cpu')\n",
    "print(device)"
   ]
  },
  {
   "cell_type": "code",
   "execution_count": 4,
   "metadata": {},
   "outputs": [],
   "source": [
    "import importlib\n",
    "import vae_models\n",
    "# importlib.reload(vae_models)"
   ]
  },
  {
   "cell_type": "code",
   "execution_count": 5,
   "metadata": {},
   "outputs": [],
   "source": [
    "from vae_preprocess import dataset1d\n",
    "from vae_models import DenseVAE_2dim\n",
    "from img_shows import *"
   ]
  },
  {
   "cell_type": "code",
   "execution_count": 6,
   "metadata": {},
   "outputs": [],
   "source": [
    "batch_size = 100\n",
    "data_pkls = \"../data_pkls/\"\n",
    "pkl_files = [data_pkls + \"imgs128_1.pkl\", data_pkls + \"imgs128_2.pkl\", data_pkls + \"imgs128_3.pkl\"]\n",
    "dataset = dataset1d(pkl_files)\n",
    "dataloader = torch.utils.data.DataLoader(dataset, batch_size=batch_size, shuffle=True, drop_last=True)"
   ]
  },
  {
   "cell_type": "code",
   "execution_count": 7,
   "metadata": {},
   "outputs": [
    {
     "name": "stdout",
     "output_type": "stream",
     "text": [
      "torch.Size([16384])\n"
     ]
    }
   ],
   "source": [
    "print(dataset[0].shape)"
   ]
  },
  {
   "cell_type": "code",
   "execution_count": 8,
   "metadata": {
    "scrolled": false
   },
   "outputs": [
    {
     "data": {
      "text/plain": [
       "<matplotlib.image.AxesImage at 0x2b9266a06e90>"
      ]
     },
     "execution_count": 8,
     "metadata": {},
     "output_type": "execute_result"
    },
    {
     "data": {
      "image/png": "[encoded data removed]",
      "text/plain": [
       "<Figure size 432x288 with 1 Axes>"
      ]
     },
     "metadata": {
      "needs_background": "light"
     },
     "output_type": "display_data"
    }
   ],
   "source": [
    "plt.imshow(dataset[0].to(\"cpu\").reshape(128, 128), cmap = 'gray', vmin = 0, vmax = 1, interpolation = 'none')"
   ]
  },
  {
   "cell_type": "code",
   "execution_count": 9,
   "metadata": {
    "scrolled": true
   },
   "outputs": [
    {
     "name": "stdout",
     "output_type": "stream",
     "text": [
      "DenseVAE_2dim(\n",
      "  (linear1): Linear(in_features=16384, out_features=4096, bias=True)\n",
      "  (linear2): Linear(in_features=4096, out_features=1024, bias=True)\n",
      "  (linear3): Linear(in_features=1024, out_features=256, bias=True)\n",
      "  (linear4): Linear(in_features=256, out_features=64, bias=True)\n",
      "  (linear5): Linear(in_features=64, out_features=16, bias=True)\n",
      "  (linear_mean): Linear(in_features=16, out_features=4, bias=True)\n",
      "  (linear_logvar): Linear(in_features=16, out_features=4, bias=True)\n",
      "  (dec_linear6): Linear(in_features=4, out_features=16, bias=True)\n",
      "  (dec_linear5): Linear(in_features=16, out_features=64, bias=True)\n",
      "  (dec_linear4): Linear(in_features=64, out_features=256, bias=True)\n",
      "  (dec_linear3): Linear(in_features=256, out_features=1024, bias=True)\n",
      "  (dec_linear2): Linear(in_features=1024, out_features=4096, bias=True)\n",
      "  (dec_linear1): Linear(in_features=4096, out_features=16384, bias=True)\n",
      ")\n"
     ]
    }
   ],
   "source": [
    "z_dim = 4\n",
    "model_name = \"DenseVAE_\" + str(z_dim)+ \"dim\"\n",
    "img_size = 128\n",
    "model = DenseVAE_2dim(img_size, z_dim=z_dim).to(device)\n",
    "print(model)"
   ]
  },
  {
   "cell_type": "code",
   "execution_count": 10,
   "metadata": {},
   "outputs": [],
   "source": [
    "def loss_function(reconstructed_x, x, mu, logvar):\n",
    "    BCE = F.binary_cross_entropy(reconstructed_x, x, reduction='sum')\n",
    "    KLD = -0.5 * torch.sum(1 + logvar - mu.pow(2) - logvar.exp())\n",
    "    return BCE + KLD"
   ]
  },
  {
   "cell_type": "code",
   "execution_count": 11,
   "metadata": {},
   "outputs": [],
   "source": [
    "# criterion = nn.BCELoss()\n",
    "optimizer = torch.optim.Adam(model.parameters(), weight_decay=1e-5)"
   ]
  },
  {
   "cell_type": "code",
   "execution_count": 12,
   "metadata": {},
   "outputs": [],
   "source": [
    "num_save = 400\n",
    "num_epochs = 1\n",
    "train_ls = []"
   ]
  },
  {
   "cell_type": "markdown",
   "metadata": {},
   "source": [
    "### 訓練\n",
    "\n",
    "モデルの保存はCPUへ"
   ]
  },
  {
   "cell_type": "code",
   "execution_count": 13,
   "metadata": {
    "scrolled": true
   },
   "outputs": [
    {
     "name": "stdout",
     "output_type": "stream",
     "text": [
      "epoch --- 1 train_loss: 58147454.156 (train time: 13.6 s = 0.2 min)\n",
      "epoch --- 2 train_loss: 51469940.672 (train time: 12.7 s = 0.2 min)\n",
      "epoch --- 3 train_loss: 50669575.875 (train time: 12.4 s = 0.2 min)\n",
      "epoch --- 4 train_loss: 50362972.188 (train time: 12.5 s = 0.2 min)\n",
      "epoch --- 5 train_loss: 50110931.719 (train time: 12.7 s = 0.2 min)\n",
      "epoch --- 6 train_loss: 49726281.906 (train time: 12.6 s = 0.2 min)\n",
      "epoch --- 7 train_loss: 49503350.562 (train time: 12.4 s = 0.2 min)\n",
      "epoch --- 8 train_loss: 49208380.766 (train time: 12.5 s = 0.2 min)\n",
      "epoch --- 9 train_loss: 48773093.828 (train time: 12.6 s = 0.2 min)\n",
      "epoch --- 10 train_loss: 48333142.656 (train time: 12.6 s = 0.2 min)\n",
      "epoch --- 11 train_loss: 48068923.703 (train time: 12.5 s = 0.2 min)\n",
      "epoch --- 12 train_loss: 47836011.016 (train time: 12.4 s = 0.2 min)\n",
      "epoch --- 13 train_loss: 47612629.594 (train time: 12.6 s = 0.2 min)\n",
      "epoch --- 14 train_loss: 47377262.859 (train time: 12.6 s = 0.2 min)\n",
      "epoch --- 15 train_loss: 47194158.016 (train time: 12.6 s = 0.2 min)\n",
      "epoch --- 16 train_loss: 46967224.922 (train time: 12.4 s = 0.2 min)\n",
      "epoch --- 17 train_loss: 46757690.125 (train time: 12.5 s = 0.2 min)\n",
      "epoch --- 18 train_loss: 46464018.016 (train time: 12.6 s = 0.2 min)\n",
      "epoch --- 19 train_loss: 46238666.062 (train time: 12.6 s = 0.2 min)\n",
      "epoch --- 20 train_loss: 45944641.797 (train time: 12.4 s = 0.2 min)\n",
      "epoch --- 21 train_loss: 45749197.688 (train time: 12.4 s = 0.2 min)\n",
      "epoch --- 22 train_loss: 45510711.969 (train time: 12.6 s = 0.2 min)\n",
      "epoch --- 23 train_loss: 45197984.938 (train time: 12.6 s = 0.2 min)\n",
      "epoch --- 24 train_loss: 45005267.359 (train time: 12.5 s = 0.2 min)\n",
      "epoch --- 25 train_loss: 44665087.250 (train time: 12.4 s = 0.2 min)\n",
      "epoch --- 26 train_loss: 44373939.531 (train time: 12.5 s = 0.2 min)\n",
      "epoch --- 27 train_loss: 44121720.828 (train time: 12.6 s = 0.2 min)\n",
      "epoch --- 28 train_loss: 43732201.219 (train time: 12.6 s = 0.2 min)\n",
      "epoch --- 29 train_loss: 43551805.328 (train time: 12.4 s = 0.2 min)\n",
      "epoch --- 30 train_loss: 43244544.297 (train time: 12.5 s = 0.2 min)\n",
      "epoch --- 31 train_loss: 43010362.500 (train time: 12.6 s = 0.2 min)\n",
      "epoch --- 32 train_loss: 42689750.844 (train time: 12.7 s = 0.2 min)\n",
      "epoch --- 33 train_loss: 42454744.016 (train time: 12.5 s = 0.2 min)\n",
      "epoch --- 34 train_loss: 42267806.969 (train time: 12.4 s = 0.2 min)\n",
      "epoch --- 35 train_loss: 41903645.734 (train time: 12.6 s = 0.2 min)\n",
      "epoch --- 36 train_loss: 41840266.578 (train time: 12.6 s = 0.2 min)\n",
      "epoch --- 37 train_loss: 41484542.812 (train time: 12.6 s = 0.2 min)\n",
      "epoch --- 38 train_loss: 41126504.016 (train time: 12.4 s = 0.2 min)\n",
      "epoch --- 39 train_loss: 40943194.562 (train time: 12.5 s = 0.2 min)\n",
      "epoch --- 40 train_loss: 40804270.203 (train time: 12.6 s = 0.2 min)\n",
      "epoch --- 41 train_loss: 40533183.844 (train time: 12.6 s = 0.2 min)\n",
      "epoch --- 42 train_loss: 40283618.688 (train time: 12.5 s = 0.2 min)\n",
      "epoch --- 43 train_loss: 40237942.906 (train time: 12.4 s = 0.2 min)\n",
      "epoch --- 44 train_loss: 39929478.578 (train time: 12.6 s = 0.2 min)\n",
      "epoch --- 45 train_loss: 39600898.562 (train time: 12.7 s = 0.2 min)\n",
      "epoch --- 46 train_loss: 39368866.953 (train time: 12.6 s = 0.2 min)\n",
      "epoch --- 47 train_loss: 39302094.844 (train time: 12.4 s = 0.2 min)\n",
      "epoch --- 48 train_loss: 39047773.281 (train time: 12.6 s = 0.2 min)\n",
      "epoch --- 49 train_loss: 38935519.500 (train time: 12.7 s = 0.2 min)\n",
      "epoch --- 50 train_loss: 38679117.438 (train time: 12.6 s = 0.2 min)\n",
      "epoch --- 51 train_loss: 38441970.016 (train time: 12.5 s = 0.2 min)\n",
      "epoch --- 52 train_loss: 38438652.219 (train time: 12.5 s = 0.2 min)\n",
      "epoch --- 53 train_loss: 38043998.594 (train time: 12.7 s = 0.2 min)\n",
      "epoch --- 54 train_loss: 38210760.984 (train time: 12.7 s = 0.2 min)\n",
      "epoch --- 55 train_loss: 37864331.703 (train time: 12.7 s = 0.2 min)\n",
      "epoch --- 56 train_loss: 37628972.984 (train time: 12.5 s = 0.2 min)\n",
      "epoch --- 57 train_loss: 37417885.281 (train time: 12.6 s = 0.2 min)\n",
      "epoch --- 58 train_loss: 37362074.250 (train time: 12.7 s = 0.2 min)\n",
      "epoch --- 59 train_loss: 37328665.781 (train time: 12.7 s = 0.2 min)\n",
      "epoch --- 60 train_loss: 37161601.703 (train time: 12.5 s = 0.2 min)\n",
      "epoch --- 61 train_loss: 36923160.969 (train time: 12.5 s = 0.2 min)\n",
      "epoch --- 62 train_loss: 36740149.906 (train time: 12.7 s = 0.2 min)\n",
      "epoch --- 63 train_loss: 36685543.094 (train time: 12.7 s = 0.2 min)\n",
      "epoch --- 64 train_loss: 36506762.234 (train time: 12.6 s = 0.2 min)\n",
      "epoch --- 65 train_loss: 36225974.109 (train time: 12.4 s = 0.2 min)\n",
      "epoch --- 66 train_loss: 36275945.844 (train time: 12.8 s = 0.2 min)\n",
      "epoch --- 67 train_loss: 36237610.688 (train time: 12.7 s = 0.2 min)\n",
      "epoch --- 68 train_loss: 36066397.938 (train time: 12.6 s = 0.2 min)\n",
      "epoch --- 69 train_loss: 35841526.734 (train time: 12.4 s = 0.2 min)\n",
      "epoch --- 70 train_loss: 35759386.875 (train time: 12.5 s = 0.2 min)\n",
      "epoch --- 71 train_loss: 35712751.516 (train time: 12.7 s = 0.2 min)\n",
      "epoch --- 72 train_loss: 35422515.484 (train time: 12.7 s = 0.2 min)\n",
      "epoch --- 73 train_loss: 35441424.578 (train time: 12.5 s = 0.2 min)\n",
      "epoch --- 74 train_loss: 35218889.031 (train time: 12.5 s = 0.2 min)\n",
      "epoch --- 75 train_loss: 35433954.688 (train time: 12.6 s = 0.2 min)\n",
      "epoch --- 76 train_loss: 35034293.031 (train time: 12.7 s = 0.2 min)\n",
      "epoch --- 77 train_loss: 35154877.297 (train time: 12.6 s = 0.2 min)\n",
      "epoch --- 78 train_loss: 34970292.469 (train time: 12.4 s = 0.2 min)\n",
      "epoch --- 79 train_loss: 34792781.812 (train time: 12.6 s = 0.2 min)\n",
      "epoch --- 80 train_loss: 34592718.391 (train time: 12.7 s = 0.2 min)\n",
      "epoch --- 81 train_loss: 34882401.125 (train time: 12.6 s = 0.2 min)\n",
      "epoch --- 82 train_loss: 34511869.406 (train time: 12.5 s = 0.2 min)\n",
      "epoch --- 83 train_loss: 34502101.875 (train time: 12.5 s = 0.2 min)\n",
      "epoch --- 84 train_loss: 34385537.312 (train time: 12.7 s = 0.2 min)\n",
      "epoch --- 85 train_loss: 34435748.688 (train time: 12.7 s = 0.2 min)\n",
      "epoch --- 86 train_loss: 34162779.906 (train time: 12.5 s = 0.2 min)\n",
      "epoch --- 87 train_loss: 33901889.359 (train time: 12.4 s = 0.2 min)\n",
      "epoch --- 88 train_loss: 33868847.922 (train time: 12.6 s = 0.2 min)\n",
      "epoch --- 89 train_loss: 33844668.125 (train time: 12.7 s = 0.2 min)\n",
      "epoch --- 90 train_loss: 34080448.734 (train time: 12.6 s = 0.2 min)\n",
      "epoch --- 91 train_loss: 33722378.516 (train time: 12.4 s = 0.2 min)\n",
      "epoch --- 92 train_loss: 33834539.859 (train time: 12.5 s = 0.2 min)\n",
      "epoch --- 93 train_loss: 33854319.375 (train time: 12.7 s = 0.2 min)\n",
      "epoch --- 94 train_loss: 33448157.234 (train time: 12.7 s = 0.2 min)\n",
      "epoch --- 95 train_loss: 33320339.141 (train time: 12.5 s = 0.2 min)\n",
      "epoch --- 96 train_loss: 33484227.375 (train time: 12.4 s = 0.2 min)\n",
      "epoch --- 97 train_loss: 33330701.875 (train time: 12.6 s = 0.2 min)\n",
      "epoch --- 98 train_loss: 33525712.125 (train time: 12.7 s = 0.2 min)\n",
      "epoch --- 99 train_loss: 33303933.484 (train time: 12.6 s = 0.2 min)\n",
      "epoch --- 100 train_loss: 33085510.938 (train time: 12.4 s = 0.2 min)\n",
      "epoch --- 101 train_loss: 33220175.047 (train time: 12.6 s = 0.2 min)\n",
      "epoch --- 102 train_loss: 33070842.875 (train time: 12.7 s = 0.2 min)\n",
      "epoch --- 103 train_loss: 32862670.531 (train time: 12.7 s = 0.2 min)\n",
      "epoch --- 104 train_loss: 32847349.109 (train time: 12.5 s = 0.2 min)\n",
      "epoch --- 105 train_loss: 32841481.984 (train time: 12.5 s = 0.2 min)\n",
      "epoch --- 106 train_loss: 32857607.672 (train time: 12.6 s = 0.2 min)\n",
      "epoch --- 107 train_loss: 32604795.719 (train time: 12.7 s = 0.2 min)\n",
      "epoch --- 108 train_loss: 32387939.516 (train time: 12.6 s = 0.2 min)\n",
      "epoch --- 109 train_loss: 32405363.234 (train time: 12.5 s = 0.2 min)\n",
      "epoch --- 110 train_loss: 32483964.000 (train time: 12.8 s = 0.2 min)\n",
      "epoch --- 111 train_loss: 32583574.047 (train time: 12.9 s = 0.2 min)\n",
      "epoch --- 112 train_loss: 32252008.812 (train time: 12.6 s = 0.2 min)\n",
      "epoch --- 113 train_loss: 32212382.234 (train time: 12.4 s = 0.2 min)\n",
      "epoch --- 114 train_loss: 32217401.234 (train time: 12.5 s = 0.2 min)\n",
      "epoch --- 115 train_loss: 32399886.047 (train time: 12.7 s = 0.2 min)\n",
      "epoch --- 116 train_loss: 32353899.328 (train time: 12.7 s = 0.2 min)\n",
      "epoch --- 117 train_loss: 32119618.703 (train time: 12.7 s = 0.2 min)\n",
      "epoch --- 118 train_loss: 32091741.000 (train time: 13.2 s = 0.2 min)\n",
      "epoch --- 119 train_loss: 31942633.312 (train time: 12.7 s = 0.2 min)\n"
     ]
    },
    {
     "name": "stdout",
     "output_type": "stream",
     "text": [
      "epoch --- 120 train_loss: 31889099.578 (train time: 12.8 s = 0.2 min)\n",
      "epoch --- 121 train_loss: 32232317.062 (train time: 12.6 s = 0.2 min)\n",
      "epoch --- 122 train_loss: 31925263.000 (train time: 12.4 s = 0.2 min)\n",
      "epoch --- 123 train_loss: 31689913.438 (train time: 18.3 s = 0.3 min)\n",
      "epoch --- 124 train_loss: 31864361.094 (train time: 23.2 s = 0.4 min)\n",
      "epoch --- 125 train_loss: 31866240.078 (train time: 22.3 s = 0.4 min)\n",
      "epoch --- 126 train_loss: 31614381.438 (train time: 12.6 s = 0.2 min)\n",
      "epoch --- 127 train_loss: 31497937.219 (train time: 12.7 s = 0.2 min)\n",
      "epoch --- 128 train_loss: 31633344.250 (train time: 12.6 s = 0.2 min)\n",
      "epoch --- 129 train_loss: 31503204.609 (train time: 12.4 s = 0.2 min)\n",
      "epoch --- 130 train_loss: 31357739.859 (train time: 12.5 s = 0.2 min)\n",
      "epoch --- 131 train_loss: 31502779.297 (train time: 12.7 s = 0.2 min)\n",
      "epoch --- 132 train_loss: 31446221.078 (train time: 12.7 s = 0.2 min)\n",
      "epoch --- 133 train_loss: 31263136.141 (train time: 12.5 s = 0.2 min)\n",
      "epoch --- 134 train_loss: 31617730.266 (train time: 12.5 s = 0.2 min)\n",
      "epoch --- 135 train_loss: 31236714.047 (train time: 12.6 s = 0.2 min)\n",
      "epoch --- 136 train_loss: 31237429.688 (train time: 12.7 s = 0.2 min)\n",
      "epoch --- 137 train_loss: 31166357.031 (train time: 12.6 s = 0.2 min)\n",
      "epoch --- 138 train_loss: 31132971.906 (train time: 12.4 s = 0.2 min)\n",
      "epoch --- 139 train_loss: 31117530.906 (train time: 12.6 s = 0.2 min)\n",
      "epoch --- 140 train_loss: 31095029.031 (train time: 12.7 s = 0.2 min)\n",
      "epoch --- 141 train_loss: 30843297.875 (train time: 12.7 s = 0.2 min)\n",
      "epoch --- 142 train_loss: 31149650.031 (train time: 12.5 s = 0.2 min)\n",
      "epoch --- 143 train_loss: 30941867.938 (train time: 12.5 s = 0.2 min)\n",
      "epoch --- 144 train_loss: 31070880.875 (train time: 12.7 s = 0.2 min)\n",
      "epoch --- 145 train_loss: 30923764.062 (train time: 12.7 s = 0.2 min)\n",
      "epoch --- 146 train_loss: 30806989.031 (train time: 12.5 s = 0.2 min)\n",
      "epoch --- 147 train_loss: 30707939.219 (train time: 12.4 s = 0.2 min)\n",
      "epoch --- 148 train_loss: 30864122.000 (train time: 12.6 s = 0.2 min)\n",
      "epoch --- 149 train_loss: 30635991.688 (train time: 12.7 s = 0.2 min)\n",
      "epoch --- 150 train_loss: 30694296.281 (train time: 12.6 s = 0.2 min)\n",
      "epoch --- 151 train_loss: 30600503.531 (train time: 12.4 s = 0.2 min)\n",
      "epoch --- 152 train_loss: 30834317.031 (train time: 12.5 s = 0.2 min)\n",
      "epoch --- 153 train_loss: 30548084.836 (train time: 12.7 s = 0.2 min)\n",
      "epoch --- 154 train_loss: 30442475.414 (train time: 12.7 s = 0.2 min)\n",
      "epoch --- 155 train_loss: 30238096.406 (train time: 12.5 s = 0.2 min)\n",
      "epoch --- 156 train_loss: 30523831.734 (train time: 12.5 s = 0.2 min)\n",
      "epoch --- 157 train_loss: 30332920.922 (train time: 12.6 s = 0.2 min)\n",
      "epoch --- 158 train_loss: 30515456.609 (train time: 12.7 s = 0.2 min)\n",
      "epoch --- 159 train_loss: 30209437.859 (train time: 12.6 s = 0.2 min)\n",
      "epoch --- 160 train_loss: 30285387.172 (train time: 12.4 s = 0.2 min)\n",
      "epoch --- 161 train_loss: 30675151.906 (train time: 12.6 s = 0.2 min)\n",
      "epoch --- 162 train_loss: 30327765.766 (train time: 12.7 s = 0.2 min)\n",
      "epoch --- 163 train_loss: 30032054.828 (train time: 12.7 s = 0.2 min)\n",
      "epoch --- 164 train_loss: 30520148.188 (train time: 12.5 s = 0.2 min)\n",
      "epoch --- 165 train_loss: 30158759.859 (train time: 12.4 s = 0.2 min)\n",
      "epoch --- 166 train_loss: 30156563.328 (train time: 12.6 s = 0.2 min)\n",
      "epoch --- 167 train_loss: 30060924.453 (train time: 12.7 s = 0.2 min)\n",
      "epoch --- 168 train_loss: 29932334.750 (train time: 12.6 s = 0.2 min)\n",
      "epoch --- 169 train_loss: 30010627.406 (train time: 12.5 s = 0.2 min)\n",
      "epoch --- 170 train_loss: 29806590.906 (train time: 12.5 s = 0.2 min)\n",
      "epoch --- 171 train_loss: 29806947.906 (train time: 12.7 s = 0.2 min)\n",
      "epoch --- 172 train_loss: 30214128.719 (train time: 12.7 s = 0.2 min)\n",
      "epoch --- 173 train_loss: 30101717.656 (train time: 12.5 s = 0.2 min)\n",
      "epoch --- 174 train_loss: 29994099.500 (train time: 12.5 s = 0.2 min)\n",
      "epoch --- 175 train_loss: 29712999.281 (train time: 12.6 s = 0.2 min)\n",
      "epoch --- 176 train_loss: 29752271.672 (train time: 12.7 s = 0.2 min)\n",
      "epoch --- 177 train_loss: 29832993.281 (train time: 12.6 s = 0.2 min)\n",
      "epoch --- 178 train_loss: 30160937.312 (train time: 12.4 s = 0.2 min)\n",
      "epoch --- 179 train_loss: 29982433.719 (train time: 12.6 s = 0.2 min)\n",
      "epoch --- 180 train_loss: 29713346.844 (train time: 12.7 s = 0.2 min)\n",
      "epoch --- 181 train_loss: 29582083.922 (train time: 12.7 s = 0.2 min)\n",
      "epoch --- 182 train_loss: 29779335.984 (train time: 12.5 s = 0.2 min)\n",
      "epoch --- 183 train_loss: 29586947.547 (train time: 12.5 s = 0.2 min)\n",
      "epoch --- 184 train_loss: 29670901.109 (train time: 12.6 s = 0.2 min)\n",
      "epoch --- 185 train_loss: 29700942.766 (train time: 12.7 s = 0.2 min)\n",
      "epoch --- 186 train_loss: 29498282.047 (train time: 12.6 s = 0.2 min)\n",
      "epoch --- 187 train_loss: 29473803.586 (train time: 12.5 s = 0.2 min)\n",
      "epoch --- 188 train_loss: 29514117.578 (train time: 12.6 s = 0.2 min)\n",
      "epoch --- 189 train_loss: 29404766.234 (train time: 12.7 s = 0.2 min)\n",
      "epoch --- 190 train_loss: 29529546.906 (train time: 12.6 s = 0.2 min)\n",
      "epoch --- 191 train_loss: 29317174.359 (train time: 12.4 s = 0.2 min)\n",
      "epoch --- 192 train_loss: 29581072.688 (train time: 12.5 s = 0.2 min)\n",
      "epoch --- 193 train_loss: 29478628.367 (train time: 12.7 s = 0.2 min)\n",
      "epoch --- 194 train_loss: 29509768.141 (train time: 12.7 s = 0.2 min)\n",
      "epoch --- 195 train_loss: 29395976.422 (train time: 12.5 s = 0.2 min)\n",
      "epoch --- 196 train_loss: 29411634.266 (train time: 12.5 s = 0.2 min)\n",
      "epoch --- 197 train_loss: 29034986.219 (train time: 12.6 s = 0.2 min)\n",
      "epoch --- 198 train_loss: 29190771.727 (train time: 12.7 s = 0.2 min)\n",
      "epoch --- 199 train_loss: 29371436.969 (train time: 12.6 s = 0.2 min)\n",
      "epoch --- 200 train_loss: 29279505.156 (train time: 12.4 s = 0.2 min)\n",
      "epoch --- 201 train_loss: 29008815.305 (train time: 12.6 s = 0.2 min)\n",
      "epoch --- 202 train_loss: 29096400.984 (train time: 12.7 s = 0.2 min)\n",
      "epoch --- 203 train_loss: 29274334.734 (train time: 12.7 s = 0.2 min)\n",
      "epoch --- 204 train_loss: 28951747.023 (train time: 12.5 s = 0.2 min)\n",
      "epoch --- 205 train_loss: 29268632.922 (train time: 12.5 s = 0.2 min)\n",
      "epoch --- 206 train_loss: 29006025.844 (train time: 12.7 s = 0.2 min)\n",
      "epoch --- 207 train_loss: 29038824.016 (train time: 12.7 s = 0.2 min)\n",
      "epoch --- 208 train_loss: 28805723.758 (train time: 12.6 s = 0.2 min)\n",
      "epoch --- 209 train_loss: 28991754.984 (train time: 12.4 s = 0.2 min)\n",
      "epoch --- 210 train_loss: 29024062.125 (train time: 12.6 s = 0.2 min)\n",
      "epoch --- 211 train_loss: 29076609.016 (train time: 12.7 s = 0.2 min)\n",
      "epoch --- 212 train_loss: 28974430.734 (train time: 12.7 s = 0.2 min)\n",
      "epoch --- 213 train_loss: 29087839.672 (train time: 12.5 s = 0.2 min)\n",
      "epoch --- 214 train_loss: 28796687.133 (train time: 12.5 s = 0.2 min)\n",
      "epoch --- 215 train_loss: 28753844.211 (train time: 12.7 s = 0.2 min)\n",
      "epoch --- 216 train_loss: 28970395.188 (train time: 12.7 s = 0.2 min)\n",
      "epoch --- 217 train_loss: 28650080.094 (train time: 12.5 s = 0.2 min)\n",
      "epoch --- 218 train_loss: 28688962.828 (train time: 12.4 s = 0.2 min)\n",
      "epoch --- 219 train_loss: 28940992.781 (train time: 12.7 s = 0.2 min)\n",
      "epoch --- 220 train_loss: 29005591.250 (train time: 12.7 s = 0.2 min)\n",
      "epoch --- 221 train_loss: 28708394.312 (train time: 12.7 s = 0.2 min)\n",
      "epoch --- 222 train_loss: 28751773.391 (train time: 12.5 s = 0.2 min)\n",
      "epoch --- 223 train_loss: 28817938.383 (train time: 13.1 s = 0.2 min)\n",
      "epoch --- 224 train_loss: 28949844.969 (train time: 12.7 s = 0.2 min)\n",
      "epoch --- 225 train_loss: 28549501.383 (train time: 12.6 s = 0.2 min)\n",
      "epoch --- 226 train_loss: 28536419.625 (train time: 12.5 s = 0.2 min)\n",
      "epoch --- 227 train_loss: 28612356.039 (train time: 12.5 s = 0.2 min)\n",
      "epoch --- 228 train_loss: 28494679.219 (train time: 12.6 s = 0.2 min)\n",
      "epoch --- 229 train_loss: 28380002.047 (train time: 12.7 s = 0.2 min)\n",
      "epoch --- 230 train_loss: 28450679.516 (train time: 12.6 s = 0.2 min)\n",
      "epoch --- 231 train_loss: 28617720.805 (train time: 12.5 s = 0.2 min)\n",
      "epoch --- 232 train_loss: 28417728.188 (train time: 12.6 s = 0.2 min)\n",
      "epoch --- 233 train_loss: 28471816.984 (train time: 12.7 s = 0.2 min)\n",
      "epoch --- 234 train_loss: 28268251.109 (train time: 12.7 s = 0.2 min)\n",
      "epoch --- 235 train_loss: 28828700.805 (train time: 12.5 s = 0.2 min)\n",
      "epoch --- 236 train_loss: 28499169.156 (train time: 12.5 s = 0.2 min)\n",
      "epoch --- 237 train_loss: 28755367.570 (train time: 12.7 s = 0.2 min)\n"
     ]
    },
    {
     "name": "stdout",
     "output_type": "stream",
     "text": [
      "epoch --- 238 train_loss: 28331284.547 (train time: 12.7 s = 0.2 min)\n",
      "epoch --- 239 train_loss: 28112097.180 (train time: 12.6 s = 0.2 min)\n",
      "epoch --- 240 train_loss: 28482123.953 (train time: 12.5 s = 0.2 min)\n",
      "epoch --- 241 train_loss: 28433360.734 (train time: 12.6 s = 0.2 min)\n",
      "epoch --- 242 train_loss: 28415187.578 (train time: 12.7 s = 0.2 min)\n",
      "epoch --- 243 train_loss: 28628222.391 (train time: 12.6 s = 0.2 min)\n",
      "epoch --- 244 train_loss: 28243906.820 (train time: 12.5 s = 0.2 min)\n",
      "epoch --- 245 train_loss: 28524341.320 (train time: 12.5 s = 0.2 min)\n",
      "epoch --- 246 train_loss: 28172918.023 (train time: 12.7 s = 0.2 min)\n",
      "epoch --- 247 train_loss: 28139680.602 (train time: 12.7 s = 0.2 min)\n",
      "epoch --- 248 train_loss: 27918775.727 (train time: 12.5 s = 0.2 min)\n",
      "epoch --- 249 train_loss: 28351815.664 (train time: 12.4 s = 0.2 min)\n",
      "epoch --- 250 train_loss: 28106161.039 (train time: 12.6 s = 0.2 min)\n",
      "epoch --- 251 train_loss: 28183868.617 (train time: 12.7 s = 0.2 min)\n",
      "epoch --- 252 train_loss: 28058261.602 (train time: 12.6 s = 0.2 min)\n",
      "epoch --- 253 train_loss: 27892567.531 (train time: 12.5 s = 0.2 min)\n",
      "epoch --- 254 train_loss: 28117479.680 (train time: 12.6 s = 0.2 min)\n",
      "epoch --- 255 train_loss: 28264921.609 (train time: 12.7 s = 0.2 min)\n",
      "epoch --- 256 train_loss: 28180789.328 (train time: 12.7 s = 0.2 min)\n",
      "epoch --- 257 train_loss: 27972612.117 (train time: 12.5 s = 0.2 min)\n",
      "epoch --- 258 train_loss: 27964175.938 (train time: 12.5 s = 0.2 min)\n",
      "epoch --- 259 train_loss: 28401657.789 (train time: 12.6 s = 0.2 min)\n",
      "epoch --- 260 train_loss: 28085641.727 (train time: 12.7 s = 0.2 min)\n",
      "epoch --- 261 train_loss: 27758241.844 (train time: 12.6 s = 0.2 min)\n",
      "epoch --- 262 train_loss: 28296345.281 (train time: 12.5 s = 0.2 min)\n",
      "epoch --- 263 train_loss: 27916825.406 (train time: 12.7 s = 0.2 min)\n",
      "epoch --- 264 train_loss: 28699597.812 (train time: 12.8 s = 0.2 min)\n",
      "epoch --- 265 train_loss: 28001734.430 (train time: 12.8 s = 0.2 min)\n",
      "epoch --- 266 train_loss: 27815456.812 (train time: 12.6 s = 0.2 min)\n",
      "epoch --- 267 train_loss: 28127906.859 (train time: 33.1 s = 0.6 min)\n",
      "epoch --- 268 train_loss: 27804179.711 (train time: 18.8 s = 0.3 min)\n",
      "epoch --- 269 train_loss: 27769916.344 (train time: 22.4 s = 0.4 min)\n",
      "epoch --- 270 train_loss: 27976472.562 (train time: 21.6 s = 0.4 min)\n",
      "epoch --- 271 train_loss: 27752317.180 (train time: 20.8 s = 0.3 min)\n",
      "epoch --- 272 train_loss: 27927065.750 (train time: 12.8 s = 0.2 min)\n",
      "epoch --- 273 train_loss: 27697178.578 (train time: 12.6 s = 0.2 min)\n",
      "epoch --- 274 train_loss: 27748982.070 (train time: 12.5 s = 0.2 min)\n",
      "epoch --- 275 train_loss: 27753289.680 (train time: 12.5 s = 0.2 min)\n",
      "epoch --- 276 train_loss: 27925260.445 (train time: 12.6 s = 0.2 min)\n",
      "epoch --- 277 train_loss: 27854863.070 (train time: 12.6 s = 0.2 min)\n",
      "epoch --- 278 train_loss: 27666400.750 (train time: 12.6 s = 0.2 min)\n",
      "epoch --- 279 train_loss: 27957767.078 (train time: 12.5 s = 0.2 min)\n",
      "epoch --- 280 train_loss: 27583262.367 (train time: 12.4 s = 0.2 min)\n",
      "epoch --- 281 train_loss: 27758885.867 (train time: 12.4 s = 0.2 min)\n",
      "epoch --- 282 train_loss: 27728285.672 (train time: 12.5 s = 0.2 min)\n",
      "epoch --- 283 train_loss: 27803860.375 (train time: 12.6 s = 0.2 min)\n",
      "epoch --- 284 train_loss: 27467666.930 (train time: 12.6 s = 0.2 min)\n",
      "epoch --- 285 train_loss: 27747421.203 (train time: 12.6 s = 0.2 min)\n",
      "epoch --- 286 train_loss: 27511885.773 (train time: 12.6 s = 0.2 min)\n",
      "epoch --- 287 train_loss: 27917964.672 (train time: 12.5 s = 0.2 min)\n",
      "epoch --- 288 train_loss: 27522747.047 (train time: 12.4 s = 0.2 min)\n",
      "epoch --- 289 train_loss: 27482465.844 (train time: 12.5 s = 0.2 min)\n",
      "epoch --- 290 train_loss: 27428567.344 (train time: 12.6 s = 0.2 min)\n",
      "epoch --- 291 train_loss: 27733898.250 (train time: 12.6 s = 0.2 min)\n",
      "epoch --- 292 train_loss: 27849289.773 (train time: 12.6 s = 0.2 min)\n",
      "epoch --- 293 train_loss: 27599718.508 (train time: 12.6 s = 0.2 min)\n",
      "epoch --- 294 train_loss: 27599696.109 (train time: 12.5 s = 0.2 min)\n",
      "epoch --- 295 train_loss: 27683941.188 (train time: 12.5 s = 0.2 min)\n",
      "epoch --- 296 train_loss: 27488087.867 (train time: 12.8 s = 0.2 min)\n",
      "epoch --- 297 train_loss: 27444033.523 (train time: 12.5 s = 0.2 min)\n",
      "epoch --- 298 train_loss: 27435051.758 (train time: 12.6 s = 0.2 min)\n",
      "epoch --- 299 train_loss: 27603439.883 (train time: 13.8 s = 0.2 min)\n",
      "epoch --- 300 train_loss: 27704474.203 (train time: 14.3 s = 0.2 min)\n",
      "epoch --- 301 train_loss: 27355183.008 (train time: 12.7 s = 0.2 min)\n",
      "epoch --- 302 train_loss: 27364115.992 (train time: 12.5 s = 0.2 min)\n",
      "epoch --- 303 train_loss: 27462081.242 (train time: 12.4 s = 0.2 min)\n",
      "epoch --- 304 train_loss: 27399225.719 (train time: 13.6 s = 0.2 min)\n",
      "epoch --- 305 train_loss: 27094464.453 (train time: 13.3 s = 0.2 min)\n",
      "epoch --- 306 train_loss: 27364523.289 (train time: 12.6 s = 0.2 min)\n",
      "epoch --- 307 train_loss: 27624851.844 (train time: 12.6 s = 0.2 min)\n",
      "epoch --- 308 train_loss: 27293718.703 (train time: 12.6 s = 0.2 min)\n",
      "epoch --- 309 train_loss: 27432505.773 (train time: 12.6 s = 0.2 min)\n",
      "epoch --- 310 train_loss: 27407914.867 (train time: 12.5 s = 0.2 min)\n",
      "epoch --- 311 train_loss: 27413621.602 (train time: 12.4 s = 0.2 min)\n",
      "epoch --- 312 train_loss: 27338686.367 (train time: 12.5 s = 0.2 min)\n",
      "epoch --- 313 train_loss: 26934559.891 (train time: 12.6 s = 0.2 min)\n",
      "epoch --- 314 train_loss: 27028486.305 (train time: 12.6 s = 0.2 min)\n",
      "epoch --- 315 train_loss: 27215511.117 (train time: 12.6 s = 0.2 min)\n",
      "epoch --- 316 train_loss: 27403862.008 (train time: 12.6 s = 0.2 min)\n",
      "epoch --- 317 train_loss: 27382005.852 (train time: 12.5 s = 0.2 min)\n",
      "epoch --- 318 train_loss: 27238790.172 (train time: 12.4 s = 0.2 min)\n",
      "epoch --- 319 train_loss: 27303125.859 (train time: 12.4 s = 0.2 min)\n",
      "epoch --- 320 train_loss: 27086879.062 (train time: 13.7 s = 0.2 min)\n",
      "epoch --- 321 train_loss: 27166628.953 (train time: 13.7 s = 0.2 min)\n",
      "epoch --- 322 train_loss: 27286605.484 (train time: 12.6 s = 0.2 min)\n",
      "epoch --- 323 train_loss: 26983842.602 (train time: 12.6 s = 0.2 min)\n",
      "epoch --- 324 train_loss: 27089086.164 (train time: 12.6 s = 0.2 min)\n",
      "epoch --- 325 train_loss: 27230908.336 (train time: 13.8 s = 0.2 min)\n",
      "epoch --- 326 train_loss: 27269517.734 (train time: 13.0 s = 0.2 min)\n",
      "epoch --- 327 train_loss: 27182876.430 (train time: 12.5 s = 0.2 min)\n",
      "epoch --- 328 train_loss: 27101876.078 (train time: 12.5 s = 0.2 min)\n",
      "epoch --- 329 train_loss: 27006743.984 (train time: 12.6 s = 0.2 min)\n",
      "epoch --- 330 train_loss: 26937702.055 (train time: 12.6 s = 0.2 min)\n",
      "epoch --- 331 train_loss: 26977875.609 (train time: 12.6 s = 0.2 min)\n",
      "epoch --- 332 train_loss: 27319367.266 (train time: 12.5 s = 0.2 min)\n",
      "epoch --- 333 train_loss: 26849054.453 (train time: 12.4 s = 0.2 min)\n",
      "epoch --- 334 train_loss: 27143436.406 (train time: 12.8 s = 0.2 min)\n",
      "epoch --- 335 train_loss: 27018218.805 (train time: 14.1 s = 0.2 min)\n",
      "epoch --- 336 train_loss: 26777687.773 (train time: 12.6 s = 0.2 min)\n",
      "epoch --- 337 train_loss: 27063033.562 (train time: 12.6 s = 0.2 min)\n",
      "epoch --- 338 train_loss: 26975963.852 (train time: 14.3 s = 0.2 min)\n",
      "epoch --- 339 train_loss: 27109915.133 (train time: 13.5 s = 0.2 min)\n",
      "epoch --- 340 train_loss: 27141322.602 (train time: 14.7 s = 0.2 min)\n",
      "epoch --- 341 train_loss: 27157572.734 (train time: 12.4 s = 0.2 min)\n",
      "epoch --- 342 train_loss: 27131170.430 (train time: 12.4 s = 0.2 min)\n",
      "epoch --- 343 train_loss: 26927198.070 (train time: 12.5 s = 0.2 min)\n",
      "epoch --- 344 train_loss: 26923276.414 (train time: 12.6 s = 0.2 min)\n",
      "epoch --- 345 train_loss: 27122834.930 (train time: 12.6 s = 0.2 min)\n",
      "epoch --- 346 train_loss: 26789671.031 (train time: 12.6 s = 0.2 min)\n",
      "epoch --- 347 train_loss: 27011578.102 (train time: 12.6 s = 0.2 min)\n",
      "epoch --- 348 train_loss: 26809298.961 (train time: 12.5 s = 0.2 min)\n",
      "epoch --- 349 train_loss: 26728524.781 (train time: 12.5 s = 0.2 min)\n",
      "epoch --- 350 train_loss: 26663354.961 (train time: 12.4 s = 0.2 min)\n",
      "epoch --- 351 train_loss: 26793123.680 (train time: 12.5 s = 0.2 min)\n",
      "epoch --- 352 train_loss: 27153937.859 (train time: 12.6 s = 0.2 min)\n",
      "epoch --- 353 train_loss: 26878224.867 (train time: 12.6 s = 0.2 min)\n",
      "epoch --- 354 train_loss: 26651490.297 (train time: 15.4 s = 0.3 min)\n",
      "epoch --- 355 train_loss: 26874777.000 (train time: 12.6 s = 0.2 min)\n"
     ]
    },
    {
     "name": "stdout",
     "output_type": "stream",
     "text": [
      "epoch --- 356 train_loss: 26606862.289 (train time: 12.5 s = 0.2 min)\n",
      "epoch --- 357 train_loss: 26778017.953 (train time: 12.4 s = 0.2 min)\n",
      "epoch --- 358 train_loss: 26624657.133 (train time: 12.5 s = 0.2 min)\n",
      "epoch --- 359 train_loss: 27019458.156 (train time: 12.5 s = 0.2 min)\n",
      "epoch --- 360 train_loss: 26505104.695 (train time: 12.6 s = 0.2 min)\n",
      "epoch --- 361 train_loss: 26412705.477 (train time: 12.6 s = 0.2 min)\n",
      "epoch --- 362 train_loss: 26574596.461 (train time: 12.6 s = 0.2 min)\n",
      "epoch --- 363 train_loss: 26750695.906 (train time: 12.6 s = 0.2 min)\n",
      "epoch --- 364 train_loss: 26687544.633 (train time: 12.4 s = 0.2 min)\n",
      "epoch --- 365 train_loss: 26697315.141 (train time: 12.4 s = 0.2 min)\n",
      "epoch --- 366 train_loss: 27211177.406 (train time: 12.5 s = 0.2 min)\n",
      "epoch --- 367 train_loss: 26719533.812 (train time: 12.6 s = 0.2 min)\n",
      "epoch --- 368 train_loss: 26777912.164 (train time: 12.6 s = 0.2 min)\n",
      "epoch --- 369 train_loss: 26396904.383 (train time: 12.6 s = 0.2 min)\n",
      "epoch --- 370 train_loss: 26876776.633 (train time: 12.6 s = 0.2 min)\n",
      "epoch --- 371 train_loss: 26444291.508 (train time: 13.5 s = 0.2 min)\n",
      "epoch --- 372 train_loss: 26447311.125 (train time: 13.9 s = 0.2 min)\n",
      "epoch --- 373 train_loss: 26454556.617 (train time: 12.4 s = 0.2 min)\n",
      "epoch --- 374 train_loss: 26425665.742 (train time: 12.5 s = 0.2 min)\n",
      "epoch --- 375 train_loss: 26836037.609 (train time: 12.6 s = 0.2 min)\n",
      "epoch --- 376 train_loss: 26609149.969 (train time: 12.6 s = 0.2 min)\n",
      "epoch --- 377 train_loss: 26416939.344 (train time: 12.6 s = 0.2 min)\n",
      "epoch --- 378 train_loss: 26584933.258 (train time: 12.6 s = 0.2 min)\n",
      "epoch --- 379 train_loss: 26798170.250 (train time: 12.5 s = 0.2 min)\n",
      "epoch --- 380 train_loss: 26725498.500 (train time: 12.4 s = 0.2 min)\n",
      "epoch --- 381 train_loss: 26647078.508 (train time: 12.4 s = 0.2 min)\n",
      "epoch --- 382 train_loss: 26642191.586 (train time: 12.5 s = 0.2 min)\n",
      "epoch --- 383 train_loss: 26522327.594 (train time: 12.6 s = 0.2 min)\n",
      "epoch --- 384 train_loss: 26569456.141 (train time: 12.6 s = 0.2 min)\n",
      "epoch --- 385 train_loss: 26733367.422 (train time: 12.6 s = 0.2 min)\n",
      "epoch --- 386 train_loss: 26105437.070 (train time: 12.5 s = 0.2 min)\n",
      "epoch --- 387 train_loss: 26274478.680 (train time: 12.4 s = 0.2 min)\n",
      "epoch --- 388 train_loss: 26341191.133 (train time: 12.4 s = 0.2 min)\n",
      "epoch --- 389 train_loss: 27061334.516 (train time: 12.5 s = 0.2 min)\n",
      "epoch --- 390 train_loss: 26480273.281 (train time: 12.6 s = 0.2 min)\n",
      "epoch --- 391 train_loss: 26284728.016 (train time: 12.6 s = 0.2 min)\n",
      "epoch --- 392 train_loss: 26583731.062 (train time: 12.6 s = 0.2 min)\n",
      "epoch --- 393 train_loss: 26231901.219 (train time: 12.6 s = 0.2 min)\n",
      "epoch --- 394 train_loss: 26663198.422 (train time: 12.5 s = 0.2 min)\n",
      "epoch --- 395 train_loss: 26065514.906 (train time: 12.5 s = 0.2 min)\n",
      "epoch --- 396 train_loss: 26286628.461 (train time: 12.5 s = 0.2 min)\n",
      "epoch --- 397 train_loss: 26356442.688 (train time: 12.5 s = 0.2 min)\n",
      "epoch --- 398 train_loss: 26455838.047 (train time: 12.6 s = 0.2 min)\n",
      "epoch --- 399 train_loss: 26287886.328 (train time: 12.6 s = 0.2 min)\n",
      "epoch --- 400 train_loss: 26651782.891 (train time: 12.6 s = 0.2 min)\n"
     ]
    }
   ],
   "source": [
    "for n in range(num_save):\n",
    "    if n == 350 :\n",
    "        optimizer.defaults[\"lr\"] = 0.0005\n",
    "    if n == 375:\n",
    "        optimizer.defaults[\"lr\"] = 0.0001\n",
    "    for epoch in range(num_epochs):\n",
    "        \n",
    "        t1 = time.time()\n",
    "        loss_sum = 0.0\n",
    "        for i, batch_imgs in enumerate(dataloader):\n",
    "            optimizer.zero_grad()\n",
    "            reconstructed_imgs, mu, logvar = model(batch_imgs.to(device))\n",
    "            loss = loss_function(reconstructed_imgs, batch_imgs.to(device), mu, logvar)\n",
    "            loss.backward()\n",
    "            optimizer.step()\n",
    "            loss_sum += loss.item()\n",
    "\n",
    "        t2 = time.time()\n",
    "        train_ls.append(loss_sum)\n",
    "\n",
    "        print(\"epoch --- %d train_loss: %.3f (train time: %.1f s = %.1f min)\" %(n * num_epochs + epoch + 1, loss_sum, t2 - t1, (t2 - t1) / 60))\n",
    "    torch.save(model.state_dict(), \"../model_pths/\" + model_name + \".pth\")"
   ]
  },
  {
   "cell_type": "code",
   "execution_count": 14,
   "metadata": {},
   "outputs": [],
   "source": [
    "def plot_results(result, which_result, condition, save_or_not=True):\n",
    "    plt.clf()\n",
    "    plt.plot(result)\n",
    "    plt.title(condition + \"_\" + which_result)\n",
    "    plt.savefig(condition + \"_\" + which_result + \".png\") if save_or_not else plt.show()"
   ]
  },
  {
   "cell_type": "code",
   "execution_count": 15,
   "metadata": {},
   "outputs": [],
   "source": [
    "loss_img_path = \"../loss_imgs/\"\n",
    "condition = \"DenseVAE_128to\" + str(z_dim)"
   ]
  },
  {
   "cell_type": "code",
   "execution_count": 16,
   "metadata": {},
   "outputs": [
    {
     "data": {
      "image/png": "[encoded data removed]",
      "text/plain": [
       "<Figure size 432x288 with 1 Axes>"
      ]
     },
     "metadata": {
      "needs_background": "light"
     },
     "output_type": "display_data"
    }
   ],
   "source": [
    "plot_results(train_ls, \"train_loss\", loss_img_path + condition)"
   ]
  },
  {
   "cell_type": "code",
   "execution_count": 17,
   "metadata": {},
   "outputs": [],
   "source": [
    "poses = [1000,2000,3000,4000,5000,6000]"
   ]
  },
  {
   "cell_type": "code",
   "execution_count": 18,
   "metadata": {},
   "outputs": [
    {
     "data": {
      "text/plain": [
       "<Figure size 432x288 with 0 Axes>"
      ]
     },
     "metadata": {},
     "output_type": "display_data"
    },
    {
     "data": {
      "image/png": "[encoded data removed]",
      "text/plain": [
       "<Figure size 1080x5400 with 6 Axes>"
      ]
     },
     "metadata": {
      "needs_background": "light"
     },
     "output_type": "display_data"
    }
   ],
   "source": [
    "imshow_dense(dataset, poses)"
   ]
  },
  {
   "cell_type": "code",
   "execution_count": 20,
   "metadata": {
    "scrolled": true
   },
   "outputs": [
    {
     "data": {
      "text/plain": [
       "<Figure size 432x288 with 0 Axes>"
      ]
     },
     "metadata": {},
     "output_type": "display_data"
    },
    {
     "data": {
      "image/png": "[encoded data removed]",
      "text/plain": [
       "<Figure size 1080x5400 with 6 Axes>"
      ]
     },
     "metadata": {
      "needs_background": "light"
     },
     "output_type": "display_data"
    }
   ],
   "source": [
    "imshow_dense(dataset, poses, model=model, device=device)"
   ]
  },
  {
   "cell_type": "code",
   "execution_count": null,
   "metadata": {},
   "outputs": [],
   "source": [
    "orig_hidden_vecs = []\n",
    "orig_hidden_mus = []\n",
    "with torch.no_grad():\n",
    "    for i, (date, batch_imgs) in enumerate(zip(dates, dataloader1)):\n",
    "        mu, logvar = model.encoder(batch_imgs)\n",
    "        orig_hidden_mus.append(mu.to(\"cpu\").numpy())\n",
    "        z = model.reparameterize(mu, logvar)\n",
    "        z = z.to(\"cpu\").numpy()\n",
    "        orig_hidden_vecs.append(z)\n",
    "orig_hidden_vecs = np.array(orig_hidden_vecs)\n",
    "orig_hidden_mus = np.array(orig_hidden_mus)"
   ]
  },
  {
   "cell_type": "code",
   "execution_count": null,
   "metadata": {},
   "outputs": [],
   "source": [
    "hidden_vecs = orig_hidden_vecs.reshape(19154, z_dim)\n",
    "hidden_mus = orig_hidden_mus.reshape(19154, z_dim)\n",
    "print(hidden_vecs.shape)\n",
    "print(hidden_mus.shape)"
   ]
  },
  {
   "cell_type": "code",
   "execution_count": null,
   "metadata": {},
   "outputs": [],
   "source": [
    "with open(data_pkls + \"hidden_vecs_densevaedim\" + str(z_dim) + \".pkl\", \"wb\") as f:\n",
    "    pickle.dump(hidden_vecs, f)\n",
    "with open(data_pkls + \"hidden_mus_densevaedim\" + str(z_dim) + \".pkl\", \"wb\") as f:\n",
    "    pickle.dump(hidden_mus, f)"
   ]
  }
 ],
 "metadata": {
  "kernelspec": {
   "display_name": "Python 3",
   "language": "python",
   "name": "python3"
  },
  "language_info": {
   "codemirror_mode": {
    "name": "ipython",
    "version": 3
   },
   "file_extension": ".py",
   "mimetype": "text/x-python",
   "name": "python",
   "nbconvert_exporter": "python",
   "pygments_lexer": "ipython3",
   "version": "3.7.7"
  }
 },
 "nbformat": 4,
 "nbformat_minor": 4
}
