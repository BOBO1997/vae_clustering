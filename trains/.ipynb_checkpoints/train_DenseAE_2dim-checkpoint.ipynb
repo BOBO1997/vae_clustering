{
 "cells": [
  {
   "cell_type": "markdown",
   "metadata": {},
   "source": [
    "# 訓練 (DenseAE_2dim)\n",
    "\n",
    "## モデル\n",
    "\n",
    "DenseAE_2dim(\n",
    "###  (encoder): Sequential(\n",
    "-     (0): Linear(in_features=16384, out_features=1024, bias=True)\n",
    "-     (1): ReLU(inplace=True)\n",
    "-     (2): Linear(in_features=1024, out_features=128, bias=True)\n",
    "-    (3): ReLU(inplace=True)\n",
    "-    (4): Linear(in_features=128, out_features=64, bias=True)\n",
    "-    (5): ReLU(inplace=True)\n",
    "-    (6): Linear(in_features=64, out_features=12, bias=True)\n",
    "-    (7): ReLU(inplace=True)\n",
    "-    (8): Linear(in_features=12, out_features=2, bias=True)\n",
    "  )\n",
    "  \n",
    "###  (decoder): Sequential(\n",
    "-    (0): Linear(in_features=2, out_features=12, bias=True)\n",
    "-    (1): ReLU(inplace=True)\n",
    "-    (2): Linear(in_features=12, out_features=64, bias=True)\n",
    "-    (3): ReLU(inplace=True)\n",
    "-    (4): Linear(in_features=64, out_features=128, bias=True)\n",
    "-    (5): ReLU(inplace=True)\n",
    "-    (6): Linear(in_features=128, out_features=1024, bias=True)\n",
    "-    (7): ReLU(inplace=True)\n",
    "-    (8): Linear(in_features=1024, out_features=16384, bias=True)\n",
    "-    (9): Sigmoid()\n",
    "  )\n",
    ")\n",
    "\n",
    "\n",
    "### 潜在ベクトル: 64\n",
    "\n",
    "### 訓練\n",
    "\n",
    "- 400 epoch回したけど、もっと回しても良さそう"
   ]
  },
  {
   "cell_type": "code",
   "execution_count": 1,
   "metadata": {},
   "outputs": [],
   "source": [
    "import matplotlib.pyplot as plt\n",
    "%matplotlib inline\n",
    "import numpy as np\n",
    "import pickle\n",
    "from pprint import pprint\n",
    "import sys\n",
    "import time\n",
    "import torch\n",
    "import torch.nn as nn\n",
    "import torch.nn.functional as F\n",
    "import torch.optim as optim"
   ]
  },
  {
   "cell_type": "code",
   "execution_count": null,
   "metadata": {},
   "outputs": [],
   "source": [
    "sys.path.append(\"/home/kwk/share/mizuho/u00257/vae_clustering/src/\")"
   ]
  },
  {
   "cell_type": "code",
   "execution_count": 2,
   "metadata": {},
   "outputs": [
    {
     "name": "stdout",
     "output_type": "stream",
     "text": [
      "cuda\n"
     ]
    }
   ],
   "source": [
    "device = torch.device('cuda' if torch.cuda.is_available() else 'cpu')\n",
    "print(device)"
   ]
  },
  {
   "cell_type": "code",
   "execution_count": 3,
   "metadata": {},
   "outputs": [],
   "source": [
    "from vae_preprocess import dataset2d, dataset1d\n",
    "from vae_model import DenseAE_2dim"
   ]
  },
  {
   "cell_type": "code",
   "execution_count": 4,
   "metadata": {},
   "outputs": [],
   "source": [
    "batch_size = 100\n",
    "data_pkls = \"../data_pkls/\"\n",
    "pkl_files = [data_pkls + \"imgs128_1.pkl\", data_pkls + \"imgs128_2.pkl\", data_pkls + \"imgs128_3.pkl\"]\n",
    "dataset = dataset1d(pkl_files)\n",
    "dataloader = torch.utils.data.DataLoader(dataset, batch_size=batch_size, shuffle=True, drop_last=True)"
   ]
  },
  {
   "cell_type": "code",
   "execution_count": 5,
   "metadata": {},
   "outputs": [
    {
     "name": "stdout",
     "output_type": "stream",
     "text": [
      "torch.Size([16384])\n"
     ]
    }
   ],
   "source": [
    "print(dataset[0].shape)"
   ]
  },
  {
   "cell_type": "code",
   "execution_count": 6,
   "metadata": {
    "scrolled": true
   },
   "outputs": [
    {
     "data": {
      "text/plain": [
       "<matplotlib.image.AxesImage at 0x2b5ff990d210>"
      ]
     },
     "execution_count": 6,
     "metadata": {},
     "output_type": "execute_result"
    },
    {
     "data": {
      "image/png": "[encoded data removed]",
      "text/plain": [
       "<Figure size 432x288 with 1 Axes>"
      ]
     },
     "metadata": {
      "needs_background": "light"
     },
     "output_type": "display_data"
    }
   ],
   "source": [
    "plt.imshow(dataset[1110].to(\"cpu\").reshape(128, 128), cmap = 'gray', vmin = 0, vmax = 1, interpolation = 'none')"
   ]
  },
  {
   "cell_type": "code",
   "execution_count": 12,
   "metadata": {
    "scrolled": false
   },
   "outputs": [
    {
     "name": "stdout",
     "output_type": "stream",
     "text": [
      "DenseAE_2dim(\n",
      "  (encoder): Sequential(\n",
      "    (0): Linear(in_features=16384, out_features=1024, bias=True)\n",
      "    (1): ReLU(inplace=True)\n",
      "    (2): Linear(in_features=1024, out_features=128, bias=True)\n",
      "    (3): ReLU(inplace=True)\n",
      "    (4): Linear(in_features=128, out_features=64, bias=True)\n",
      "    (5): ReLU(inplace=True)\n",
      "    (6): Linear(in_features=64, out_features=12, bias=True)\n",
      "    (7): ReLU(inplace=True)\n",
      "    (8): Linear(in_features=12, out_features=2, bias=True)\n",
      "  )\n",
      "  (decoder): Sequential(\n",
      "    (0): Linear(in_features=2, out_features=12, bias=True)\n",
      "    (1): ReLU(inplace=True)\n",
      "    (2): Linear(in_features=12, out_features=64, bias=True)\n",
      "    (3): ReLU(inplace=True)\n",
      "    (4): Linear(in_features=64, out_features=128, bias=True)\n",
      "    (5): ReLU(inplace=True)\n",
      "    (6): Linear(in_features=128, out_features=1024, bias=True)\n",
      "    (7): ReLU(inplace=True)\n",
      "    (8): Linear(in_features=1024, out_features=16384, bias=True)\n",
      "    (9): Sigmoid()\n",
      "  )\n",
      ")\n"
     ]
    }
   ],
   "source": [
    "model_name = \"DenseAE_2dim\"\n",
    "img_size = 128\n",
    "model = DenseAE_2dim(img_size).to(device)\n",
    "print(model)"
   ]
  },
  {
   "cell_type": "code",
   "execution_count": 13,
   "metadata": {},
   "outputs": [],
   "source": [
    "criterion = nn.BCELoss()\n",
    "optimizer = torch.optim.Adam(model.parameters(), weight_decay=1e-5)"
   ]
  },
  {
   "cell_type": "code",
   "execution_count": 14,
   "metadata": {},
   "outputs": [],
   "source": [
    "num_save = 400\n",
    "num_epochs = 1\n",
    "train_ls = []"
   ]
  },
  {
   "cell_type": "markdown",
   "metadata": {},
   "source": [
    "### 訓練\n",
    "\n",
    "モデルの保存はCPUへ"
   ]
  },
  {
   "cell_type": "code",
   "execution_count": 10,
   "metadata": {},
   "outputs": [],
   "source": [
    "np.set_printoptions(threshold=np.inf)"
   ]
  },
  {
   "cell_type": "code",
   "execution_count": 15,
   "metadata": {},
   "outputs": [
    {
     "name": "stdout",
     "output_type": "stream",
     "text": [
      "epoch --- 1 train_loss: 37.527 (train time: 4.6 s = 0.1 min)\n",
      "epoch --- 2 train_loss: 31.481 (train time: 4.6 s = 0.1 min)\n",
      "epoch --- 3 train_loss: 31.205 (train time: 4.7 s = 0.1 min)\n",
      "epoch --- 4 train_loss: 31.027 (train time: 4.7 s = 0.1 min)\n",
      "epoch --- 5 train_loss: 30.694 (train time: 4.7 s = 0.1 min)\n",
      "epoch --- 6 train_loss: 30.315 (train time: 4.7 s = 0.1 min)\n",
      "epoch --- 7 train_loss: 30.070 (train time: 4.6 s = 0.1 min)\n",
      "epoch --- 8 train_loss: 29.900 (train time: 4.5 s = 0.1 min)\n",
      "epoch --- 9 train_loss: 29.750 (train time: 4.5 s = 0.1 min)\n",
      "epoch --- 10 train_loss: 29.663 (train time: 4.5 s = 0.1 min)\n",
      "epoch --- 11 train_loss: 29.605 (train time: 4.7 s = 0.1 min)\n",
      "epoch --- 12 train_loss: 29.515 (train time: 4.9 s = 0.1 min)\n",
      "epoch --- 13 train_loss: 29.486 (train time: 4.7 s = 0.1 min)\n",
      "epoch --- 14 train_loss: 29.431 (train time: 4.6 s = 0.1 min)\n",
      "epoch --- 15 train_loss: 29.408 (train time: 4.7 s = 0.1 min)\n",
      "epoch --- 16 train_loss: 29.374 (train time: 4.7 s = 0.1 min)\n",
      "epoch --- 17 train_loss: 29.345 (train time: 4.6 s = 0.1 min)\n",
      "epoch --- 18 train_loss: 29.333 (train time: 4.5 s = 0.1 min)\n",
      "epoch --- 19 train_loss: 29.278 (train time: 4.5 s = 0.1 min)\n",
      "epoch --- 20 train_loss: 29.242 (train time: 4.5 s = 0.1 min)\n",
      "epoch --- 21 train_loss: 29.208 (train time: 4.5 s = 0.1 min)\n",
      "epoch --- 22 train_loss: 29.231 (train time: 4.6 s = 0.1 min)\n",
      "epoch --- 23 train_loss: 29.172 (train time: 4.6 s = 0.1 min)\n",
      "epoch --- 24 train_loss: 29.148 (train time: 4.6 s = 0.1 min)\n",
      "epoch --- 25 train_loss: 29.116 (train time: 4.6 s = 0.1 min)\n",
      "epoch --- 26 train_loss: 29.111 (train time: 4.6 s = 0.1 min)\n",
      "epoch --- 27 train_loss: 29.094 (train time: 4.6 s = 0.1 min)\n",
      "epoch --- 28 train_loss: 29.062 (train time: 4.6 s = 0.1 min)\n",
      "epoch --- 29 train_loss: 29.066 (train time: 4.6 s = 0.1 min)\n",
      "epoch --- 30 train_loss: 29.066 (train time: 4.5 s = 0.1 min)\n",
      "epoch --- 31 train_loss: 29.065 (train time: 4.5 s = 0.1 min)\n",
      "epoch --- 32 train_loss: 29.017 (train time: 4.5 s = 0.1 min)\n",
      "epoch --- 33 train_loss: 29.013 (train time: 4.5 s = 0.1 min)\n",
      "epoch --- 34 train_loss: 28.988 (train time: 4.5 s = 0.1 min)\n",
      "epoch --- 35 train_loss: 28.949 (train time: 4.6 s = 0.1 min)\n",
      "epoch --- 36 train_loss: 29.019 (train time: 4.6 s = 0.1 min)\n",
      "epoch --- 37 train_loss: 28.999 (train time: 4.6 s = 0.1 min)\n",
      "epoch --- 38 train_loss: 29.006 (train time: 4.6 s = 0.1 min)\n",
      "epoch --- 39 train_loss: 28.997 (train time: 4.6 s = 0.1 min)\n",
      "epoch --- 40 train_loss: 28.972 (train time: 4.6 s = 0.1 min)\n",
      "epoch --- 41 train_loss: 29.062 (train time: 4.6 s = 0.1 min)\n",
      "epoch --- 42 train_loss: 28.994 (train time: 4.5 s = 0.1 min)\n",
      "epoch --- 43 train_loss: 28.975 (train time: 4.5 s = 0.1 min)\n",
      "epoch --- 44 train_loss: 28.936 (train time: 4.5 s = 0.1 min)\n",
      "epoch --- 45 train_loss: 28.962 (train time: 4.5 s = 0.1 min)\n",
      "epoch --- 46 train_loss: 28.967 (train time: 4.5 s = 0.1 min)\n",
      "epoch --- 47 train_loss: 28.946 (train time: 4.5 s = 0.1 min)\n",
      "epoch --- 48 train_loss: 28.956 (train time: 4.6 s = 0.1 min)\n",
      "epoch --- 49 train_loss: 28.937 (train time: 4.6 s = 0.1 min)\n",
      "epoch --- 50 train_loss: 28.902 (train time: 4.6 s = 0.1 min)\n",
      "epoch --- 51 train_loss: 28.895 (train time: 4.5 s = 0.1 min)\n",
      "epoch --- 52 train_loss: 28.892 (train time: 4.6 s = 0.1 min)\n",
      "epoch --- 53 train_loss: 28.837 (train time: 4.5 s = 0.1 min)\n",
      "epoch --- 54 train_loss: 28.875 (train time: 4.5 s = 0.1 min)\n",
      "epoch --- 55 train_loss: 28.823 (train time: 4.4 s = 0.1 min)\n",
      "epoch --- 56 train_loss: 28.849 (train time: 4.5 s = 0.1 min)\n",
      "epoch --- 57 train_loss: 28.832 (train time: 4.5 s = 0.1 min)\n",
      "epoch --- 58 train_loss: 28.813 (train time: 4.5 s = 0.1 min)\n",
      "epoch --- 59 train_loss: 28.829 (train time: 4.7 s = 0.1 min)\n",
      "epoch --- 60 train_loss: 28.848 (train time: 4.8 s = 0.1 min)\n",
      "epoch --- 61 train_loss: 28.826 (train time: 4.8 s = 0.1 min)\n",
      "epoch --- 62 train_loss: 28.775 (train time: 4.8 s = 0.1 min)\n",
      "epoch --- 63 train_loss: 28.809 (train time: 4.8 s = 0.1 min)\n",
      "epoch --- 64 train_loss: 28.811 (train time: 4.8 s = 0.1 min)\n",
      "epoch --- 65 train_loss: 28.776 (train time: 4.9 s = 0.1 min)\n",
      "epoch --- 66 train_loss: 28.824 (train time: 5.3 s = 0.1 min)\n",
      "epoch --- 67 train_loss: 28.746 (train time: 4.7 s = 0.1 min)\n",
      "epoch --- 68 train_loss: 28.770 (train time: 4.5 s = 0.1 min)\n",
      "epoch --- 69 train_loss: 28.827 (train time: 4.5 s = 0.1 min)\n",
      "epoch --- 70 train_loss: 28.769 (train time: 4.6 s = 0.1 min)\n",
      "epoch --- 71 train_loss: 28.780 (train time: 4.8 s = 0.1 min)\n",
      "epoch --- 72 train_loss: 28.705 (train time: 5.3 s = 0.1 min)\n",
      "epoch --- 73 train_loss: 28.749 (train time: 4.6 s = 0.1 min)\n",
      "epoch --- 74 train_loss: 28.762 (train time: 5.3 s = 0.1 min)\n",
      "epoch --- 75 train_loss: 28.740 (train time: 4.7 s = 0.1 min)\n",
      "epoch --- 76 train_loss: 28.771 (train time: 4.6 s = 0.1 min)\n",
      "epoch --- 77 train_loss: 28.730 (train time: 4.6 s = 0.1 min)\n",
      "epoch --- 78 train_loss: 28.710 (train time: 4.6 s = 0.1 min)\n",
      "epoch --- 79 train_loss: 28.785 (train time: 4.6 s = 0.1 min)\n",
      "epoch --- 80 train_loss: 28.718 (train time: 4.5 s = 0.1 min)\n",
      "epoch --- 81 train_loss: 28.683 (train time: 4.5 s = 0.1 min)\n",
      "epoch --- 82 train_loss: 28.661 (train time: 4.5 s = 0.1 min)\n",
      "epoch --- 83 train_loss: 28.656 (train time: 4.5 s = 0.1 min)\n",
      "epoch --- 84 train_loss: 28.683 (train time: 4.6 s = 0.1 min)\n",
      "epoch --- 85 train_loss: 28.687 (train time: 4.6 s = 0.1 min)\n",
      "epoch --- 86 train_loss: 28.663 (train time: 4.6 s = 0.1 min)\n",
      "epoch --- 87 train_loss: 28.742 (train time: 4.6 s = 0.1 min)\n",
      "epoch --- 88 train_loss: 28.686 (train time: 4.7 s = 0.1 min)\n",
      "epoch --- 89 train_loss: 28.720 (train time: 4.6 s = 0.1 min)\n",
      "epoch --- 90 train_loss: 28.667 (train time: 4.6 s = 0.1 min)\n",
      "epoch --- 91 train_loss: 28.711 (train time: 4.6 s = 0.1 min)\n",
      "epoch --- 92 train_loss: 28.683 (train time: 4.5 s = 0.1 min)\n",
      "epoch --- 93 train_loss: 28.664 (train time: 4.5 s = 0.1 min)\n",
      "epoch --- 94 train_loss: 28.658 (train time: 4.5 s = 0.1 min)\n",
      "epoch --- 95 train_loss: 28.695 (train time: 4.5 s = 0.1 min)\n",
      "epoch --- 96 train_loss: 28.695 (train time: 4.7 s = 0.1 min)\n",
      "epoch --- 97 train_loss: 28.645 (train time: 4.6 s = 0.1 min)\n",
      "epoch --- 98 train_loss: 28.625 (train time: 4.6 s = 0.1 min)\n",
      "epoch --- 99 train_loss: 28.577 (train time: 4.6 s = 0.1 min)\n",
      "epoch --- 100 train_loss: 28.677 (train time: 4.6 s = 0.1 min)\n",
      "epoch --- 101 train_loss: 28.641 (train time: 4.6 s = 0.1 min)\n",
      "epoch --- 102 train_loss: 28.588 (train time: 4.6 s = 0.1 min)\n",
      "epoch --- 103 train_loss: 28.583 (train time: 4.6 s = 0.1 min)\n",
      "epoch --- 104 train_loss: 28.584 (train time: 4.6 s = 0.1 min)\n",
      "epoch --- 105 train_loss: 28.573 (train time: 4.5 s = 0.1 min)\n",
      "epoch --- 106 train_loss: 28.649 (train time: 4.5 s = 0.1 min)\n",
      "epoch --- 107 train_loss: 28.710 (train time: 4.5 s = 0.1 min)\n",
      "epoch --- 108 train_loss: 28.723 (train time: 4.5 s = 0.1 min)\n",
      "epoch --- 109 train_loss: 28.682 (train time: 4.6 s = 0.1 min)\n",
      "epoch --- 110 train_loss: 28.640 (train time: 8.5 s = 0.1 min)\n",
      "epoch --- 111 train_loss: 28.629 (train time: 8.9 s = 0.1 min)\n",
      "epoch --- 112 train_loss: 28.622 (train time: 8.7 s = 0.1 min)\n",
      "epoch --- 113 train_loss: 28.631 (train time: 6.1 s = 0.1 min)\n",
      "epoch --- 114 train_loss: 28.654 (train time: 4.6 s = 0.1 min)\n",
      "epoch --- 115 train_loss: 28.590 (train time: 4.5 s = 0.1 min)\n",
      "epoch --- 116 train_loss: 28.541 (train time: 4.5 s = 0.1 min)\n",
      "epoch --- 117 train_loss: 28.568 (train time: 4.5 s = 0.1 min)\n",
      "epoch --- 118 train_loss: 28.568 (train time: 4.5 s = 0.1 min)\n",
      "epoch --- 119 train_loss: 28.540 (train time: 4.6 s = 0.1 min)\n",
      "epoch --- 120 train_loss: 28.524 (train time: 4.6 s = 0.1 min)\n",
      "epoch --- 121 train_loss: 28.534 (train time: 4.6 s = 0.1 min)\n",
      "epoch --- 122 train_loss: 28.569 (train time: 4.6 s = 0.1 min)\n",
      "epoch --- 123 train_loss: 28.528 (train time: 7.7 s = 0.1 min)\n",
      "epoch --- 124 train_loss: 28.549 (train time: 8.7 s = 0.1 min)\n",
      "epoch --- 125 train_loss: 28.551 (train time: 8.6 s = 0.1 min)\n",
      "epoch --- 126 train_loss: 28.619 (train time: 6.8 s = 0.1 min)\n",
      "epoch --- 127 train_loss: 28.595 (train time: 4.5 s = 0.1 min)\n",
      "epoch --- 128 train_loss: 28.588 (train time: 4.5 s = 0.1 min)\n",
      "epoch --- 129 train_loss: 28.610 (train time: 4.6 s = 0.1 min)\n",
      "epoch --- 130 train_loss: 28.619 (train time: 4.6 s = 0.1 min)\n",
      "epoch --- 131 train_loss: 28.583 (train time: 4.6 s = 0.1 min)\n",
      "epoch --- 132 train_loss: 28.630 (train time: 4.7 s = 0.1 min)\n"
     ]
    },
    {
     "name": "stdout",
     "output_type": "stream",
     "text": [
      "epoch --- 133 train_loss: 28.563 (train time: 4.7 s = 0.1 min)\n",
      "epoch --- 134 train_loss: 28.557 (train time: 4.6 s = 0.1 min)\n",
      "epoch --- 135 train_loss: 28.528 (train time: 4.6 s = 0.1 min)\n",
      "epoch --- 136 train_loss: 28.542 (train time: 4.6 s = 0.1 min)\n",
      "epoch --- 137 train_loss: 28.550 (train time: 4.5 s = 0.1 min)\n",
      "epoch --- 138 train_loss: 28.566 (train time: 4.5 s = 0.1 min)\n",
      "epoch --- 139 train_loss: 28.546 (train time: 4.5 s = 0.1 min)\n",
      "epoch --- 140 train_loss: 28.548 (train time: 4.5 s = 0.1 min)\n",
      "epoch --- 141 train_loss: 28.524 (train time: 4.5 s = 0.1 min)\n",
      "epoch --- 142 train_loss: 28.501 (train time: 4.6 s = 0.1 min)\n",
      "epoch --- 143 train_loss: 28.609 (train time: 4.6 s = 0.1 min)\n",
      "epoch --- 144 train_loss: 28.520 (train time: 4.6 s = 0.1 min)\n",
      "epoch --- 145 train_loss: 28.507 (train time: 4.6 s = 0.1 min)\n",
      "epoch --- 146 train_loss: 28.556 (train time: 4.6 s = 0.1 min)\n",
      "epoch --- 147 train_loss: 28.592 (train time: 4.6 s = 0.1 min)\n",
      "epoch --- 148 train_loss: 28.543 (train time: 4.6 s = 0.1 min)\n",
      "epoch --- 149 train_loss: 28.548 (train time: 4.6 s = 0.1 min)\n",
      "epoch --- 150 train_loss: 28.551 (train time: 4.5 s = 0.1 min)\n",
      "epoch --- 151 train_loss: 28.578 (train time: 4.5 s = 0.1 min)\n",
      "epoch --- 152 train_loss: 28.591 (train time: 4.5 s = 0.1 min)\n",
      "epoch --- 153 train_loss: 28.588 (train time: 4.5 s = 0.1 min)\n",
      "epoch --- 154 train_loss: 28.566 (train time: 4.6 s = 0.1 min)\n",
      "epoch --- 155 train_loss: 28.539 (train time: 4.6 s = 0.1 min)\n",
      "epoch --- 156 train_loss: 28.499 (train time: 4.6 s = 0.1 min)\n",
      "epoch --- 157 train_loss: 28.469 (train time: 4.6 s = 0.1 min)\n",
      "epoch --- 158 train_loss: 28.448 (train time: 4.7 s = 0.1 min)\n",
      "epoch --- 159 train_loss: 28.565 (train time: 4.7 s = 0.1 min)\n",
      "epoch --- 160 train_loss: 28.702 (train time: 4.6 s = 0.1 min)\n",
      "epoch --- 161 train_loss: 28.676 (train time: 4.6 s = 0.1 min)\n",
      "epoch --- 162 train_loss: 28.591 (train time: 4.5 s = 0.1 min)\n",
      "epoch --- 163 train_loss: 28.614 (train time: 4.5 s = 0.1 min)\n",
      "epoch --- 164 train_loss: 28.556 (train time: 4.5 s = 0.1 min)\n",
      "epoch --- 165 train_loss: 28.524 (train time: 4.5 s = 0.1 min)\n",
      "epoch --- 166 train_loss: 28.531 (train time: 4.5 s = 0.1 min)\n",
      "epoch --- 167 train_loss: 28.536 (train time: 4.6 s = 0.1 min)\n",
      "epoch --- 168 train_loss: 28.554 (train time: 4.6 s = 0.1 min)\n",
      "epoch --- 169 train_loss: 28.554 (train time: 4.6 s = 0.1 min)\n",
      "epoch --- 170 train_loss: 28.533 (train time: 4.6 s = 0.1 min)\n",
      "epoch --- 171 train_loss: 28.516 (train time: 4.6 s = 0.1 min)\n",
      "epoch --- 172 train_loss: 28.528 (train time: 4.7 s = 0.1 min)\n",
      "epoch --- 173 train_loss: 28.459 (train time: 4.6 s = 0.1 min)\n",
      "epoch --- 174 train_loss: 28.469 (train time: 4.6 s = 0.1 min)\n",
      "epoch --- 175 train_loss: 28.491 (train time: 4.5 s = 0.1 min)\n",
      "epoch --- 176 train_loss: 28.451 (train time: 4.5 s = 0.1 min)\n",
      "epoch --- 177 train_loss: 28.523 (train time: 4.6 s = 0.1 min)\n",
      "epoch --- 178 train_loss: 28.517 (train time: 4.6 s = 0.1 min)\n",
      "epoch --- 179 train_loss: 28.602 (train time: 4.6 s = 0.1 min)\n",
      "epoch --- 180 train_loss: 28.493 (train time: 4.6 s = 0.1 min)\n",
      "epoch --- 181 train_loss: 28.480 (train time: 4.8 s = 0.1 min)\n",
      "epoch --- 182 train_loss: 28.453 (train time: 5.0 s = 0.1 min)\n",
      "epoch --- 183 train_loss: 28.434 (train time: 4.9 s = 0.1 min)\n"
     ]
    },
    {
     "ename": "KeyboardInterrupt",
     "evalue": "",
     "output_type": "error",
     "traceback": [
      "\u001b[0;31m---------------------------------------------------------------------------\u001b[0m",
      "\u001b[0;31mKeyboardInterrupt\u001b[0m                         Traceback (most recent call last)",
      "\u001b[0;32m<ipython-input-15-f1447175bfbf>\u001b[0m in \u001b[0;36m<module>\u001b[0;34m\u001b[0m\n\u001b[1;32m      8\u001b[0m         \u001b[0mt1\u001b[0m \u001b[0;34m=\u001b[0m \u001b[0mtime\u001b[0m\u001b[0;34m.\u001b[0m\u001b[0mtime\u001b[0m\u001b[0;34m(\u001b[0m\u001b[0;34m)\u001b[0m\u001b[0;34m\u001b[0m\u001b[0;34m\u001b[0m\u001b[0m\n\u001b[1;32m      9\u001b[0m         \u001b[0mloss_sum\u001b[0m \u001b[0;34m=\u001b[0m \u001b[0;36m0.0\u001b[0m\u001b[0;34m\u001b[0m\u001b[0;34m\u001b[0m\u001b[0m\n\u001b[0;32m---> 10\u001b[0;31m         \u001b[0;32mfor\u001b[0m \u001b[0mi\u001b[0m\u001b[0;34m,\u001b[0m \u001b[0mbatch_imgs\u001b[0m \u001b[0;32min\u001b[0m \u001b[0menumerate\u001b[0m\u001b[0;34m(\u001b[0m\u001b[0mdataloader\u001b[0m\u001b[0;34m)\u001b[0m\u001b[0;34m:\u001b[0m\u001b[0;34m\u001b[0m\u001b[0;34m\u001b[0m\u001b[0m\n\u001b[0m\u001b[1;32m     11\u001b[0m             \u001b[0moptimizer\u001b[0m\u001b[0;34m.\u001b[0m\u001b[0mzero_grad\u001b[0m\u001b[0;34m(\u001b[0m\u001b[0;34m)\u001b[0m\u001b[0;34m\u001b[0m\u001b[0;34m\u001b[0m\u001b[0m\n\u001b[1;32m     12\u001b[0m             \u001b[0moutput\u001b[0m \u001b[0;34m=\u001b[0m \u001b[0mmodel\u001b[0m\u001b[0;34m(\u001b[0m\u001b[0mbatch_imgs\u001b[0m\u001b[0;34m.\u001b[0m\u001b[0mto\u001b[0m\u001b[0;34m(\u001b[0m\u001b[0mdevice\u001b[0m\u001b[0;34m)\u001b[0m\u001b[0;34m)\u001b[0m\u001b[0;34m\u001b[0m\u001b[0;34m\u001b[0m\u001b[0m\n",
      "\u001b[0;32m~/anaconda3/lib/python3.7/site-packages/torch/utils/data/dataloader.py\u001b[0m in \u001b[0;36m__next__\u001b[0;34m(self)\u001b[0m\n\u001b[1;32m    343\u001b[0m \u001b[0;34m\u001b[0m\u001b[0m\n\u001b[1;32m    344\u001b[0m     \u001b[0;32mdef\u001b[0m \u001b[0m__next__\u001b[0m\u001b[0;34m(\u001b[0m\u001b[0mself\u001b[0m\u001b[0;34m)\u001b[0m\u001b[0;34m:\u001b[0m\u001b[0;34m\u001b[0m\u001b[0;34m\u001b[0m\u001b[0m\n\u001b[0;32m--> 345\u001b[0;31m         \u001b[0mdata\u001b[0m \u001b[0;34m=\u001b[0m \u001b[0mself\u001b[0m\u001b[0;34m.\u001b[0m\u001b[0m_next_data\u001b[0m\u001b[0;34m(\u001b[0m\u001b[0;34m)\u001b[0m\u001b[0;34m\u001b[0m\u001b[0;34m\u001b[0m\u001b[0m\n\u001b[0m\u001b[1;32m    346\u001b[0m         \u001b[0mself\u001b[0m\u001b[0;34m.\u001b[0m\u001b[0m_num_yielded\u001b[0m \u001b[0;34m+=\u001b[0m \u001b[0;36m1\u001b[0m\u001b[0;34m\u001b[0m\u001b[0;34m\u001b[0m\u001b[0m\n\u001b[1;32m    347\u001b[0m         \u001b[0;32mif\u001b[0m \u001b[0mself\u001b[0m\u001b[0;34m.\u001b[0m\u001b[0m_dataset_kind\u001b[0m \u001b[0;34m==\u001b[0m \u001b[0m_DatasetKind\u001b[0m\u001b[0;34m.\u001b[0m\u001b[0mIterable\u001b[0m \u001b[0;32mand\u001b[0m\u001b[0;31m \u001b[0m\u001b[0;31m\\\u001b[0m\u001b[0;34m\u001b[0m\u001b[0;34m\u001b[0m\u001b[0m\n",
      "\u001b[0;32m~/anaconda3/lib/python3.7/site-packages/torch/utils/data/dataloader.py\u001b[0m in \u001b[0;36m_next_data\u001b[0;34m(self)\u001b[0m\n\u001b[1;32m    383\u001b[0m     \u001b[0;32mdef\u001b[0m \u001b[0m_next_data\u001b[0m\u001b[0;34m(\u001b[0m\u001b[0mself\u001b[0m\u001b[0;34m)\u001b[0m\u001b[0;34m:\u001b[0m\u001b[0;34m\u001b[0m\u001b[0;34m\u001b[0m\u001b[0m\n\u001b[1;32m    384\u001b[0m         \u001b[0mindex\u001b[0m \u001b[0;34m=\u001b[0m \u001b[0mself\u001b[0m\u001b[0;34m.\u001b[0m\u001b[0m_next_index\u001b[0m\u001b[0;34m(\u001b[0m\u001b[0;34m)\u001b[0m  \u001b[0;31m# may raise StopIteration\u001b[0m\u001b[0;34m\u001b[0m\u001b[0;34m\u001b[0m\u001b[0m\n\u001b[0;32m--> 385\u001b[0;31m         \u001b[0mdata\u001b[0m \u001b[0;34m=\u001b[0m \u001b[0mself\u001b[0m\u001b[0;34m.\u001b[0m\u001b[0m_dataset_fetcher\u001b[0m\u001b[0;34m.\u001b[0m\u001b[0mfetch\u001b[0m\u001b[0;34m(\u001b[0m\u001b[0mindex\u001b[0m\u001b[0;34m)\u001b[0m  \u001b[0;31m# may raise StopIteration\u001b[0m\u001b[0;34m\u001b[0m\u001b[0;34m\u001b[0m\u001b[0m\n\u001b[0m\u001b[1;32m    386\u001b[0m         \u001b[0;32mif\u001b[0m \u001b[0mself\u001b[0m\u001b[0;34m.\u001b[0m\u001b[0m_pin_memory\u001b[0m\u001b[0;34m:\u001b[0m\u001b[0;34m\u001b[0m\u001b[0;34m\u001b[0m\u001b[0m\n\u001b[1;32m    387\u001b[0m             \u001b[0mdata\u001b[0m \u001b[0;34m=\u001b[0m \u001b[0m_utils\u001b[0m\u001b[0;34m.\u001b[0m\u001b[0mpin_memory\u001b[0m\u001b[0;34m.\u001b[0m\u001b[0mpin_memory\u001b[0m\u001b[0;34m(\u001b[0m\u001b[0mdata\u001b[0m\u001b[0;34m)\u001b[0m\u001b[0;34m\u001b[0m\u001b[0;34m\u001b[0m\u001b[0m\n",
      "\u001b[0;32m~/anaconda3/lib/python3.7/site-packages/torch/utils/data/_utils/fetch.py\u001b[0m in \u001b[0;36mfetch\u001b[0;34m(self, possibly_batched_index)\u001b[0m\n\u001b[1;32m     42\u001b[0m     \u001b[0;32mdef\u001b[0m \u001b[0mfetch\u001b[0m\u001b[0;34m(\u001b[0m\u001b[0mself\u001b[0m\u001b[0;34m,\u001b[0m \u001b[0mpossibly_batched_index\u001b[0m\u001b[0;34m)\u001b[0m\u001b[0;34m:\u001b[0m\u001b[0;34m\u001b[0m\u001b[0;34m\u001b[0m\u001b[0m\n\u001b[1;32m     43\u001b[0m         \u001b[0;32mif\u001b[0m \u001b[0mself\u001b[0m\u001b[0;34m.\u001b[0m\u001b[0mauto_collation\u001b[0m\u001b[0;34m:\u001b[0m\u001b[0;34m\u001b[0m\u001b[0;34m\u001b[0m\u001b[0m\n\u001b[0;32m---> 44\u001b[0;31m             \u001b[0mdata\u001b[0m \u001b[0;34m=\u001b[0m \u001b[0;34m[\u001b[0m\u001b[0mself\u001b[0m\u001b[0;34m.\u001b[0m\u001b[0mdataset\u001b[0m\u001b[0;34m[\u001b[0m\u001b[0midx\u001b[0m\u001b[0;34m]\u001b[0m \u001b[0;32mfor\u001b[0m \u001b[0midx\u001b[0m \u001b[0;32min\u001b[0m \u001b[0mpossibly_batched_index\u001b[0m\u001b[0;34m]\u001b[0m\u001b[0;34m\u001b[0m\u001b[0;34m\u001b[0m\u001b[0m\n\u001b[0m\u001b[1;32m     45\u001b[0m         \u001b[0;32melse\u001b[0m\u001b[0;34m:\u001b[0m\u001b[0;34m\u001b[0m\u001b[0;34m\u001b[0m\u001b[0m\n\u001b[1;32m     46\u001b[0m             \u001b[0mdata\u001b[0m \u001b[0;34m=\u001b[0m \u001b[0mself\u001b[0m\u001b[0;34m.\u001b[0m\u001b[0mdataset\u001b[0m\u001b[0;34m[\u001b[0m\u001b[0mpossibly_batched_index\u001b[0m\u001b[0;34m]\u001b[0m\u001b[0;34m\u001b[0m\u001b[0;34m\u001b[0m\u001b[0m\n",
      "\u001b[0;32m~/anaconda3/lib/python3.7/site-packages/torch/utils/data/_utils/fetch.py\u001b[0m in \u001b[0;36m<listcomp>\u001b[0;34m(.0)\u001b[0m\n\u001b[1;32m     42\u001b[0m     \u001b[0;32mdef\u001b[0m \u001b[0mfetch\u001b[0m\u001b[0;34m(\u001b[0m\u001b[0mself\u001b[0m\u001b[0;34m,\u001b[0m \u001b[0mpossibly_batched_index\u001b[0m\u001b[0;34m)\u001b[0m\u001b[0;34m:\u001b[0m\u001b[0;34m\u001b[0m\u001b[0;34m\u001b[0m\u001b[0m\n\u001b[1;32m     43\u001b[0m         \u001b[0;32mif\u001b[0m \u001b[0mself\u001b[0m\u001b[0;34m.\u001b[0m\u001b[0mauto_collation\u001b[0m\u001b[0;34m:\u001b[0m\u001b[0;34m\u001b[0m\u001b[0;34m\u001b[0m\u001b[0m\n\u001b[0;32m---> 44\u001b[0;31m             \u001b[0mdata\u001b[0m \u001b[0;34m=\u001b[0m \u001b[0;34m[\u001b[0m\u001b[0mself\u001b[0m\u001b[0;34m.\u001b[0m\u001b[0mdataset\u001b[0m\u001b[0;34m[\u001b[0m\u001b[0midx\u001b[0m\u001b[0;34m]\u001b[0m \u001b[0;32mfor\u001b[0m \u001b[0midx\u001b[0m \u001b[0;32min\u001b[0m \u001b[0mpossibly_batched_index\u001b[0m\u001b[0;34m]\u001b[0m\u001b[0;34m\u001b[0m\u001b[0;34m\u001b[0m\u001b[0m\n\u001b[0m\u001b[1;32m     45\u001b[0m         \u001b[0;32melse\u001b[0m\u001b[0;34m:\u001b[0m\u001b[0;34m\u001b[0m\u001b[0;34m\u001b[0m\u001b[0m\n\u001b[1;32m     46\u001b[0m             \u001b[0mdata\u001b[0m \u001b[0;34m=\u001b[0m \u001b[0mself\u001b[0m\u001b[0;34m.\u001b[0m\u001b[0mdataset\u001b[0m\u001b[0;34m[\u001b[0m\u001b[0mpossibly_batched_index\u001b[0m\u001b[0;34m]\u001b[0m\u001b[0;34m\u001b[0m\u001b[0;34m\u001b[0m\u001b[0m\n",
      "\u001b[0;32m/home/kwk/share/mizuho/u00257/vae_clustering/src/vae_preprocess.py\u001b[0m in \u001b[0;36m__getitem__\u001b[0;34m(self, index)\u001b[0m\n\u001b[1;32m    130\u001b[0m \u001b[0;34m\u001b[0m\u001b[0m\n\u001b[1;32m    131\u001b[0m     \u001b[0;32mdef\u001b[0m \u001b[0m__getitem__\u001b[0m\u001b[0;34m(\u001b[0m\u001b[0mself\u001b[0m\u001b[0;34m,\u001b[0m \u001b[0mindex\u001b[0m\u001b[0;34m)\u001b[0m\u001b[0;34m:\u001b[0m\u001b[0;34m\u001b[0m\u001b[0;34m\u001b[0m\u001b[0m\n\u001b[0;32m--> 132\u001b[0;31m         \u001b[0;32mreturn\u001b[0m \u001b[0mtorch\u001b[0m\u001b[0;34m.\u001b[0m\u001b[0mtensor\u001b[0m\u001b[0;34m(\u001b[0m\u001b[0mself\u001b[0m\u001b[0;34m.\u001b[0m\u001b[0mdata\u001b[0m\u001b[0;34m[\u001b[0m\u001b[0mindex\u001b[0m\u001b[0;34m]\u001b[0m\u001b[0;34m,\u001b[0m \u001b[0mdtype\u001b[0m\u001b[0;34m=\u001b[0m\u001b[0mtorch\u001b[0m\u001b[0;34m.\u001b[0m\u001b[0mfloat32\u001b[0m\u001b[0;34m)\u001b[0m\u001b[0;34m.\u001b[0m\u001b[0mflatten\u001b[0m\u001b[0;34m(\u001b[0m\u001b[0;34m)\u001b[0m\u001b[0;34m.\u001b[0m\u001b[0mto\u001b[0m\u001b[0;34m(\u001b[0m\u001b[0mself\u001b[0m\u001b[0;34m.\u001b[0m\u001b[0mdevice\u001b[0m\u001b[0;34m)\u001b[0m\u001b[0;34m\u001b[0m\u001b[0;34m\u001b[0m\u001b[0m\n\u001b[0m\u001b[1;32m    133\u001b[0m \u001b[0;34m\u001b[0m\u001b[0m\n\u001b[1;32m    134\u001b[0m     \u001b[0;32mdef\u001b[0m \u001b[0mload_pkls\u001b[0m\u001b[0;34m(\u001b[0m\u001b[0mself\u001b[0m\u001b[0;34m)\u001b[0m\u001b[0;34m:\u001b[0m\u001b[0;34m\u001b[0m\u001b[0;34m\u001b[0m\u001b[0m\n",
      "\u001b[0;31mKeyboardInterrupt\u001b[0m: "
     ]
    }
   ],
   "source": [
    "for n in range(num_save):\n",
    "    if n == 325 :\n",
    "        optimizer.defaults[\"lr\"] = 0.0005\n",
    "    if n == 375:\n",
    "        optimizer.defaults[\"lr\"] = 0.0001\n",
    "    for epoch in range(num_epochs):\n",
    "        \n",
    "        t1 = time.time()\n",
    "        loss_sum = 0.0\n",
    "        for i, batch_imgs in enumerate(dataloader):\n",
    "            optimizer.zero_grad()\n",
    "            output = model(batch_imgs.to(device))\n",
    "            # print(\"batch_imgs:\", batch_imgs)\n",
    "            # print(\"output:\", output)\n",
    "            loss = criterion(output, batch_imgs).to(torch.float32).to(device)\n",
    "            # print(np.where(torch.isnan(batch_imgs)[10].cpu().numpy() == True), np.where(torch.isnan(output)[10].cpu().numpy() == True))\n",
    "            # print(\"loss:\", loss.data)\n",
    "            loss.backward()\n",
    "            optimizer.step()\n",
    "            loss_sum += loss.data\n",
    "\n",
    "        t2 = time.time()\n",
    "        train_ls.append(loss_sum)\n",
    "\n",
    "        print(\"epoch --- %d train_loss: %.3f (train time: %.1f s = %.1f min)\" %(n * num_epochs + epoch + 1, loss_sum, t2 - t1, (t2 - t1) / 60))\n",
    "    torch.save(model.state_dict(), \"../model_pths/\" + model_name + \".pth\")"
   ]
  },
  {
   "cell_type": "code",
   "execution_count": null,
   "metadata": {},
   "outputs": [],
   "source": [
    "model.load_state_dict(torch.load(\"../model_pths/\" + model_name + \".pth\", map_location=torch.device(\"cpu\")))"
   ]
  },
  {
   "cell_type": "code",
   "execution_count": 14,
   "metadata": {},
   "outputs": [],
   "source": [
    "def plot_results(result, which_result, condition, save_or_not=True):\n",
    "    plt.clf()\n",
    "    plt.plot(result)\n",
    "    plt.title(condition + \"_\" + which_result)\n",
    "    plt.savefig(condition + \"_\" + which_result + \".png\") if save_or_not else plt.show()"
   ]
  },
  {
   "cell_type": "code",
   "execution_count": 15,
   "metadata": {},
   "outputs": [],
   "source": [
    "loss_img_path = \"./loss_imgs/\"\n",
    "condition = \"ConvAE_128to2\""
   ]
  },
  {
   "cell_type": "code",
   "execution_count": 16,
   "metadata": {},
   "outputs": [
    {
     "data": {
      "image/png": "[encoded data removed]",
      "text/plain": [
       "<Figure size 432x288 with 1 Axes>"
      ]
     },
     "metadata": {
      "needs_background": "light"
     },
     "output_type": "display_data"
    }
   ],
   "source": [
    "plot_results(train_ls, \"train_loss\", loss_img_path + condition)"
   ]
  },
  {
   "cell_type": "code",
   "execution_count": 28,
   "metadata": {
    "scrolled": false
   },
   "outputs": [],
   "source": [
    "def imshow(dataset, poses, model = None, device = \"cpu\"):\n",
    "    plt.clf()\n",
    "    fig = plt.figure(figsize=(15.0, 75.0))\n",
    "    for i, pos in enumerate(poses):\n",
    "        ax = fig.add_subplot(1, len(poses), i + 1)\n",
    "        if model is None:\n",
    "            ax.imshow(dataset[pos][0].to(\"cpu\"), cmap = 'gray', vmin = 0, vmax = 1, interpolation = 'none')\n",
    "        else:\n",
    "            with torch.no_grad():\n",
    "                ax.imshow(model(dataset[pos].unsqueeze(0).to(device)).to(\"cpu\")[0,0], cmap = 'gray', vmin = 0, vmax = 1, interpolation = 'none')\n",
    "    fig.tight_layout()\n",
    "    plt.show()"
   ]
  },
  {
   "cell_type": "code",
   "execution_count": 29,
   "metadata": {},
   "outputs": [],
   "source": [
    "poses = [1000,2000,3000,4000,5000,6000]"
   ]
  },
  {
   "cell_type": "code",
   "execution_count": 30,
   "metadata": {},
   "outputs": [
    {
     "data": {
      "text/plain": [
       "<Figure size 432x288 with 0 Axes>"
      ]
     },
     "metadata": {},
     "output_type": "display_data"
    },
    {
     "data": {
      "image/png": "[encoded data removed]",
      "text/plain": [
       "<Figure size 1080x5400 with 6 Axes>"
      ]
     },
     "metadata": {
      "needs_background": "light"
     },
     "output_type": "display_data"
    }
   ],
   "source": [
    "imshow(dataset, poses)"
   ]
  },
  {
   "cell_type": "code",
   "execution_count": 31,
   "metadata": {
    "scrolled": true
   },
   "outputs": [
    {
     "data": {
      "text/plain": [
       "<Figure size 432x288 with 0 Axes>"
      ]
     },
     "metadata": {},
     "output_type": "display_data"
    },
    {
     "data": {
      "image/png": "[encoded data removed]",
      "text/plain": [
       "<Figure size 1080x5400 with 6 Axes>"
      ]
     },
     "metadata": {
      "needs_background": "light"
     },
     "output_type": "display_data"
    }
   ],
   "source": [
    "imshow(dataset, poses, model=model, device=device)"
   ]
  },
  {
   "cell_type": "code",
   "execution_count": 32,
   "metadata": {},
   "outputs": [
    {
     "data": {
      "text/plain": [
       "CompletedProcess(args=['jupyter', 'nbconvert', '--to', 'python', 'vae_train_ConvAE.ipynb'], returncode=0)"
      ]
     },
     "execution_count": 32,
     "metadata": {},
     "output_type": "execute_result"
    }
   ],
   "source": [
    "import subprocess\n",
    "subprocess.run(['jupyter', 'nbconvert', '--to', 'python', 'vae_train_ConvAE.ipynb'])"
   ]
  }
 ],
 "metadata": {
  "kernelspec": {
   "display_name": "Python 3",
   "language": "python",
   "name": "python3"
  },
  "language_info": {
   "codemirror_mode": {
    "name": "ipython",
    "version": 3
   },
   "file_extension": ".py",
   "mimetype": "text/x-python",
   "name": "python",
   "nbconvert_exporter": "python",
   "pygments_lexer": "ipython3",
   "version": "3.7.7"
  }
 },
 "nbformat": 4,
 "nbformat_minor": 4
}
