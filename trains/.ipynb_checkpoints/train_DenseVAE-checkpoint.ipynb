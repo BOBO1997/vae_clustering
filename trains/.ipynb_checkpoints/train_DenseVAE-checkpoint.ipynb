{
 "cells": [
  {
   "cell_type": "markdown",
   "metadata": {},
   "source": [
    "# 訓練 (DenseAE_2dim)\n",
    "\n",
    "## モデル\n",
    "\n",
    "DenseAE_2dim(\n",
    "###  (encoder): Sequential(\n",
    "-     (0): Linear(in_features=16384, out_features=1024, bias=True)\n",
    "-     (1): ReLU(inplace=True)\n",
    "-     (2): Linear(in_features=1024, out_features=128, bias=True)\n",
    "-    (3): ReLU(inplace=True)\n",
    "-    (4): Linear(in_features=128, out_features=64, bias=True)\n",
    "-    (5): ReLU(inplace=True)\n",
    "-    (6): Linear(in_features=64, out_features=12, bias=True)\n",
    "-    (7): ReLU(inplace=True)\n",
    "-    (8): Linear(in_features=12, out_features=2, bias=True)\n",
    "  )\n",
    "  \n",
    "###  (decoder): Sequential(\n",
    "-    (0): Linear(in_features=2, out_features=12, bias=True)\n",
    "-    (1): ReLU(inplace=True)\n",
    "-    (2): Linear(in_features=12, out_features=64, bias=True)\n",
    "-    (3): ReLU(inplace=True)\n",
    "-    (4): Linear(in_features=64, out_features=128, bias=True)\n",
    "-    (5): ReLU(inplace=True)\n",
    "-    (6): Linear(in_features=128, out_features=1024, bias=True)\n",
    "-    (7): ReLU(inplace=True)\n",
    "-    (8): Linear(in_features=1024, out_features=16384, bias=True)\n",
    "-    (9): Sigmoid()\n",
    "  )\n",
    ")\n",
    "\n",
    "\n",
    "### 潜在ベクトル: 64\n",
    "\n",
    "### 訓練\n",
    "\n",
    "- 400 epoch回したけど、もっと回しても良さそう"
   ]
  },
  {
   "cell_type": "code",
   "execution_count": 1,
   "metadata": {},
   "outputs": [],
   "source": [
    "import matplotlib.pyplot as plt\n",
    "%matplotlib inline\n",
    "import numpy as np\n",
    "import pickle\n",
    "from pprint import pprint\n",
    "import sys\n",
    "import time\n",
    "import torch\n",
    "import torch.nn as nn\n",
    "import torch.nn.functional as F\n",
    "import torch.optim as optim"
   ]
  },
  {
   "cell_type": "code",
   "execution_count": 2,
   "metadata": {},
   "outputs": [],
   "source": [
    "sys.path.append(\"/home/kwk/share/mizuho/u00257/vae_clustering/src/\")"
   ]
  },
  {
   "cell_type": "code",
   "execution_count": 3,
   "metadata": {},
   "outputs": [
    {
     "name": "stdout",
     "output_type": "stream",
     "text": [
      "cuda\n"
     ]
    }
   ],
   "source": [
    "device = torch.device('cuda' if torch.cuda.is_available() else 'cpu')\n",
    "print(device)"
   ]
  },
  {
   "cell_type": "code",
   "execution_count": 4,
   "metadata": {},
   "outputs": [],
   "source": [
    "from vae_preprocess import dataset1d\n",
    "from vae_models import DenseVAE"
   ]
  },
  {
   "cell_type": "code",
   "execution_count": 5,
   "metadata": {},
   "outputs": [],
   "source": [
    "batch_size = 100\n",
    "data_pkls = \"../data_pkls/\"\n",
    "pkl_files = [data_pkls + \"imgs128_1.pkl\", data_pkls + \"imgs128_2.pkl\", data_pkls + \"imgs128_3.pkl\"]\n",
    "dataset = dataset1d(pkl_files)\n",
    "dataloader = torch.utils.data.DataLoader(dataset, batch_size=batch_size, shuffle=True, drop_last=True)"
   ]
  },
  {
   "cell_type": "code",
   "execution_count": 6,
   "metadata": {},
   "outputs": [
    {
     "name": "stdout",
     "output_type": "stream",
     "text": [
      "torch.Size([16384])\n"
     ]
    }
   ],
   "source": [
    "print(dataset[0].shape)"
   ]
  },
  {
   "cell_type": "code",
   "execution_count": 7,
   "metadata": {
    "scrolled": true
   },
   "outputs": [
    {
     "data": {
      "text/plain": [
       "<matplotlib.image.AxesImage at 0x2b1566a74e50>"
      ]
     },
     "execution_count": 7,
     "metadata": {},
     "output_type": "execute_result"
    },
    {
     "data": {
      "image/png": "[encoded data removed]",
      "text/plain": [
       "<Figure size 432x288 with 1 Axes>"
      ]
     },
     "metadata": {
      "needs_background": "light"
     },
     "output_type": "display_data"
    }
   ],
   "source": [
    "plt.imshow(dataset[1110].to(\"cpu\").reshape(128, 128), cmap = 'gray', vmin = 0, vmax = 1, interpolation = 'none')"
   ]
  },
  {
   "cell_type": "code",
   "execution_count": 8,
   "metadata": {
    "scrolled": false
   },
   "outputs": [
    {
     "name": "stdout",
     "output_type": "stream",
     "text": [
      "DenseVAE(\n",
      "  (linear1): Linear(in_features=16384, out_features=4096, bias=True)\n",
      "  (linear2): Linear(in_features=4096, out_features=1024, bias=True)\n",
      "  (linear_mean): Linear(in_features=1024, out_features=64, bias=True)\n",
      "  (linear_logvar): Linear(in_features=1024, out_features=64, bias=True)\n",
      "  (dec_linear3): Linear(in_features=64, out_features=1024, bias=True)\n",
      "  (dec_linear2): Linear(in_features=1024, out_features=4096, bias=True)\n",
      "  (dec_linear1): Linear(in_features=4096, out_features=16384, bias=True)\n",
      ")\n"
     ]
    }
   ],
   "source": [
    "model_name = \"DenseVAE\"\n",
    "img_size = 128\n",
    "model = DenseVAE(img_size).to(device)\n",
    "print(model)"
   ]
  },
  {
   "cell_type": "code",
   "execution_count": 9,
   "metadata": {},
   "outputs": [],
   "source": [
    "def loss_function(reconstructed_x, x, mu, logvar):\n",
    "    BCE = F.binary_cross_entropy(reconstructed_x, x, reduction='sum')\n",
    "    KLD = -0.5 * torch.sum(1 + logvar - mu.pow(2) - logvar.exp())\n",
    "    return BCE + KLD"
   ]
  },
  {
   "cell_type": "code",
   "execution_count": 10,
   "metadata": {},
   "outputs": [],
   "source": [
    "optimizer = torch.optim.Adam(model.parameters(), weight_decay=1e-5)"
   ]
  },
  {
   "cell_type": "code",
   "execution_count": 11,
   "metadata": {},
   "outputs": [],
   "source": [
    "num_save = 400\n",
    "num_epochs = 1\n",
    "train_ls = []"
   ]
  },
  {
   "cell_type": "markdown",
   "metadata": {},
   "source": [
    "### 訓練\n",
    "\n",
    "モデルの保存はCPUへ"
   ]
  },
  {
   "cell_type": "code",
   "execution_count": null,
   "metadata": {},
   "outputs": [
    {
     "name": "stdout",
     "output_type": "stream",
     "text": [
      "epoch --- 1 train_loss: 54923698.062 (train time: 13.1 s = 0.2 min)\n",
      "epoch --- 2 train_loss: 47827187.594 (train time: 12.5 s = 0.2 min)\n",
      "epoch --- 3 train_loss: 44926776.703 (train time: 12.7 s = 0.2 min)\n",
      "epoch --- 4 train_loss: 42679242.125 (train time: 12.4 s = 0.2 min)\n",
      "epoch --- 5 train_loss: 40452016.953 (train time: 12.6 s = 0.2 min)\n",
      "epoch --- 6 train_loss: 38115804.062 (train time: 12.4 s = 0.2 min)\n",
      "epoch --- 7 train_loss: 35622313.672 (train time: 12.4 s = 0.2 min)\n",
      "epoch --- 8 train_loss: 33277369.562 (train time: 12.6 s = 0.2 min)\n",
      "epoch --- 9 train_loss: 31289281.844 (train time: 12.5 s = 0.2 min)\n",
      "epoch --- 10 train_loss: 29483456.188 (train time: 12.3 s = 0.2 min)\n",
      "epoch --- 11 train_loss: 27936955.297 (train time: 12.4 s = 0.2 min)\n",
      "epoch --- 12 train_loss: 26689483.414 (train time: 12.5 s = 0.2 min)\n",
      "epoch --- 13 train_loss: 25588296.445 (train time: 12.4 s = 0.2 min)\n",
      "epoch --- 14 train_loss: 24621268.547 (train time: 12.3 s = 0.2 min)\n",
      "epoch --- 15 train_loss: 23758815.156 (train time: 12.3 s = 0.2 min)\n",
      "epoch --- 16 train_loss: 23044632.734 (train time: 12.5 s = 0.2 min)\n",
      "epoch --- 17 train_loss: 22381100.430 (train time: 12.5 s = 0.2 min)\n",
      "epoch --- 18 train_loss: 21781890.266 (train time: 12.3 s = 0.2 min)\n",
      "epoch --- 19 train_loss: 21319118.500 (train time: 12.3 s = 0.2 min)\n",
      "epoch --- 20 train_loss: 20844735.125 (train time: 12.4 s = 0.2 min)\n",
      "epoch --- 21 train_loss: 20384898.703 (train time: 12.5 s = 0.2 min)\n",
      "epoch --- 22 train_loss: 19999988.469 (train time: 12.4 s = 0.2 min)\n",
      "epoch --- 23 train_loss: 19643126.969 (train time: 12.3 s = 0.2 min)\n",
      "epoch --- 24 train_loss: 19371851.008 (train time: 12.3 s = 0.2 min)\n",
      "epoch --- 25 train_loss: 19057249.805 (train time: 12.5 s = 0.2 min)\n",
      "epoch --- 26 train_loss: 18845180.430 (train time: 12.5 s = 0.2 min)\n",
      "epoch --- 27 train_loss: 18464845.414 (train time: 12.4 s = 0.2 min)\n",
      "epoch --- 28 train_loss: 18283584.516 (train time: 12.3 s = 0.2 min)\n",
      "epoch --- 29 train_loss: 18001814.883 (train time: 12.5 s = 0.2 min)\n",
      "epoch --- 30 train_loss: 17813886.320 (train time: 12.5 s = 0.2 min)\n",
      "epoch --- 31 train_loss: 17620943.648 (train time: 12.4 s = 0.2 min)\n",
      "epoch --- 32 train_loss: 17375349.422 (train time: 12.3 s = 0.2 min)\n",
      "epoch --- 33 train_loss: 17192481.828 (train time: 12.4 s = 0.2 min)\n",
      "epoch --- 34 train_loss: 17051086.383 (train time: 12.5 s = 0.2 min)\n",
      "epoch --- 35 train_loss: 16904886.469 (train time: 12.5 s = 0.2 min)\n",
      "epoch --- 36 train_loss: 16742241.461 (train time: 12.3 s = 0.2 min)\n",
      "epoch --- 37 train_loss: 16505356.562 (train time: 12.3 s = 0.2 min)\n",
      "epoch --- 38 train_loss: 16387325.086 (train time: 12.4 s = 0.2 min)\n",
      "epoch --- 39 train_loss: 16256934.219 (train time: 12.5 s = 0.2 min)\n",
      "epoch --- 40 train_loss: 16183241.211 (train time: 12.4 s = 0.2 min)\n",
      "epoch --- 41 train_loss: 15940779.867 (train time: 12.3 s = 0.2 min)\n",
      "epoch --- 42 train_loss: 15795791.641 (train time: 12.4 s = 0.2 min)\n",
      "epoch --- 43 train_loss: 15741463.234 (train time: 12.5 s = 0.2 min)\n",
      "epoch --- 44 train_loss: 15612288.023 (train time: 12.5 s = 0.2 min)\n",
      "epoch --- 45 train_loss: 15477334.906 (train time: 12.3 s = 0.2 min)\n",
      "epoch --- 46 train_loss: 15388011.234 (train time: 12.3 s = 0.2 min)\n",
      "epoch --- 47 train_loss: 15286487.672 (train time: 12.4 s = 0.2 min)\n",
      "epoch --- 48 train_loss: 15172826.828 (train time: 12.5 s = 0.2 min)\n",
      "epoch --- 49 train_loss: 15075777.805 (train time: 12.4 s = 0.2 min)\n",
      "epoch --- 50 train_loss: 14977048.008 (train time: 12.3 s = 0.2 min)\n",
      "epoch --- 51 train_loss: 14823267.504 (train time: 12.4 s = 0.2 min)\n",
      "epoch --- 52 train_loss: 14725812.906 (train time: 12.5 s = 0.2 min)\n",
      "epoch --- 53 train_loss: 14681466.184 (train time: 12.5 s = 0.2 min)\n",
      "epoch --- 54 train_loss: 14619608.715 (train time: 12.3 s = 0.2 min)\n",
      "epoch --- 55 train_loss: 14490519.652 (train time: 12.3 s = 0.2 min)\n",
      "epoch --- 56 train_loss: 14408132.844 (train time: 12.5 s = 0.2 min)\n",
      "epoch --- 57 train_loss: 14383614.801 (train time: 12.5 s = 0.2 min)\n",
      "epoch --- 58 train_loss: 14225668.418 (train time: 12.4 s = 0.2 min)\n",
      "epoch --- 59 train_loss: 14204005.043 (train time: 12.3 s = 0.2 min)\n",
      "epoch --- 60 train_loss: 14149255.699 (train time: 12.3 s = 0.2 min)\n",
      "epoch --- 61 train_loss: 14006005.613 (train time: 12.5 s = 0.2 min)\n",
      "epoch --- 62 train_loss: 13960814.016 (train time: 12.5 s = 0.2 min)\n",
      "epoch --- 63 train_loss: 13837782.707 (train time: 12.3 s = 0.2 min)\n",
      "epoch --- 64 train_loss: 13798075.824 (train time: 12.3 s = 0.2 min)\n",
      "epoch --- 65 train_loss: 13746438.715 (train time: 12.4 s = 0.2 min)\n",
      "epoch --- 66 train_loss: 13655173.188 (train time: 12.5 s = 0.2 min)\n",
      "epoch --- 67 train_loss: 13655854.316 (train time: 12.4 s = 0.2 min)\n",
      "epoch --- 68 train_loss: 13566202.191 (train time: 12.3 s = 0.2 min)\n",
      "epoch --- 69 train_loss: 13464152.551 (train time: 12.3 s = 0.2 min)\n",
      "epoch --- 70 train_loss: 13417058.949 (train time: 12.5 s = 0.2 min)\n",
      "epoch --- 71 train_loss: 13382546.027 (train time: 12.5 s = 0.2 min)\n",
      "epoch --- 72 train_loss: 13291454.949 (train time: 12.3 s = 0.2 min)\n",
      "epoch --- 73 train_loss: 13245721.371 (train time: 12.3 s = 0.2 min)\n",
      "epoch --- 74 train_loss: 13187875.336 (train time: 12.4 s = 0.2 min)\n",
      "epoch --- 75 train_loss: 13117302.480 (train time: 12.5 s = 0.2 min)\n",
      "epoch --- 76 train_loss: 13087163.242 (train time: 12.4 s = 0.2 min)\n",
      "epoch --- 77 train_loss: 13008971.746 (train time: 12.3 s = 0.2 min)\n",
      "epoch --- 78 train_loss: 12932375.773 (train time: 12.4 s = 0.2 min)\n",
      "epoch --- 79 train_loss: 12934783.617 (train time: 12.5 s = 0.2 min)\n",
      "epoch --- 80 train_loss: 12861578.980 (train time: 12.5 s = 0.2 min)\n",
      "epoch --- 81 train_loss: 12741888.898 (train time: 12.3 s = 0.2 min)\n",
      "epoch --- 82 train_loss: 12689081.719 (train time: 12.3 s = 0.2 min)\n",
      "epoch --- 83 train_loss: 12666438.508 (train time: 12.5 s = 0.2 min)\n",
      "epoch --- 84 train_loss: 12575749.465 (train time: 12.5 s = 0.2 min)\n",
      "epoch --- 85 train_loss: 12517053.012 (train time: 12.4 s = 0.2 min)\n",
      "epoch --- 86 train_loss: 12539288.074 (train time: 12.2 s = 0.2 min)\n",
      "epoch --- 87 train_loss: 12469181.488 (train time: 12.4 s = 0.2 min)\n",
      "epoch --- 88 train_loss: 12421649.211 (train time: 12.5 s = 0.2 min)\n",
      "epoch --- 89 train_loss: 12321984.961 (train time: 12.5 s = 0.2 min)\n",
      "epoch --- 90 train_loss: 12296267.770 (train time: 12.3 s = 0.2 min)\n",
      "epoch --- 91 train_loss: 12259197.168 (train time: 12.3 s = 0.2 min)\n",
      "epoch --- 92 train_loss: 12237307.945 (train time: 12.5 s = 0.2 min)\n",
      "epoch --- 93 train_loss: 12166219.770 (train time: 12.5 s = 0.2 min)\n",
      "epoch --- 94 train_loss: 12115002.070 (train time: 12.4 s = 0.2 min)\n",
      "epoch --- 95 train_loss: 12116528.363 (train time: 12.3 s = 0.2 min)\n",
      "epoch --- 96 train_loss: 12018291.879 (train time: 12.4 s = 0.2 min)\n",
      "epoch --- 97 train_loss: 11951242.383 (train time: 12.5 s = 0.2 min)\n",
      "epoch --- 98 train_loss: 11936877.879 (train time: 12.5 s = 0.2 min)\n",
      "epoch --- 99 train_loss: 11899282.805 (train time: 12.3 s = 0.2 min)\n",
      "epoch --- 100 train_loss: 11846321.918 (train time: 12.3 s = 0.2 min)\n",
      "epoch --- 101 train_loss: 11856153.250 (train time: 12.5 s = 0.2 min)\n",
      "epoch --- 102 train_loss: 11748110.832 (train time: 12.5 s = 0.2 min)\n",
      "epoch --- 103 train_loss: 11719917.516 (train time: 12.4 s = 0.2 min)\n",
      "epoch --- 104 train_loss: 11686543.859 (train time: 12.3 s = 0.2 min)\n",
      "epoch --- 105 train_loss: 11686533.730 (train time: 12.4 s = 0.2 min)\n",
      "epoch --- 106 train_loss: 11655615.383 (train time: 12.5 s = 0.2 min)\n",
      "epoch --- 107 train_loss: 11570052.371 (train time: 12.4 s = 0.2 min)\n",
      "epoch --- 108 train_loss: 11569181.781 (train time: 12.3 s = 0.2 min)\n",
      "epoch --- 109 train_loss: 11500933.043 (train time: 12.3 s = 0.2 min)\n",
      "epoch --- 110 train_loss: 11460418.305 (train time: 12.5 s = 0.2 min)\n",
      "epoch --- 111 train_loss: 11413950.137 (train time: 12.5 s = 0.2 min)\n",
      "epoch --- 112 train_loss: 11413979.207 (train time: 12.3 s = 0.2 min)\n",
      "epoch --- 113 train_loss: 11358148.098 (train time: 12.3 s = 0.2 min)\n",
      "epoch --- 114 train_loss: 11311630.371 (train time: 12.4 s = 0.2 min)\n",
      "epoch --- 115 train_loss: 11235598.379 (train time: 12.5 s = 0.2 min)\n",
      "epoch --- 116 train_loss: 11146065.398 (train time: 12.4 s = 0.2 min)\n",
      "epoch --- 117 train_loss: 11176285.469 (train time: 12.2 s = 0.2 min)\n",
      "epoch --- 118 train_loss: 11092859.848 (train time: 12.4 s = 0.2 min)\n",
      "epoch --- 119 train_loss: 11111214.586 (train time: 12.5 s = 0.2 min)\n"
     ]
    },
    {
     "name": "stdout",
     "output_type": "stream",
     "text": [
      "epoch --- 120 train_loss: 11043407.164 (train time: 12.5 s = 0.2 min)\n",
      "epoch --- 121 train_loss: 11040915.578 (train time: 12.3 s = 0.2 min)\n",
      "epoch --- 122 train_loss: 11016464.676 (train time: 12.3 s = 0.2 min)\n",
      "epoch --- 123 train_loss: 10993041.395 (train time: 12.4 s = 0.2 min)\n",
      "epoch --- 124 train_loss: 10950348.633 (train time: 12.5 s = 0.2 min)\n",
      "epoch --- 125 train_loss: 10959198.250 (train time: 12.4 s = 0.2 min)\n",
      "epoch --- 126 train_loss: 10893222.434 (train time: 12.2 s = 0.2 min)\n",
      "epoch --- 127 train_loss: 10846328.086 (train time: 12.3 s = 0.2 min)\n",
      "epoch --- 128 train_loss: 10902662.363 (train time: 12.5 s = 0.2 min)\n",
      "epoch --- 129 train_loss: 10800633.793 (train time: 12.5 s = 0.2 min)\n",
      "epoch --- 130 train_loss: 10760564.422 (train time: 12.3 s = 0.2 min)\n",
      "epoch --- 131 train_loss: 10730417.512 (train time: 12.3 s = 0.2 min)\n",
      "epoch --- 132 train_loss: 10648460.230 (train time: 12.4 s = 0.2 min)\n",
      "epoch --- 133 train_loss: 10655809.977 (train time: 12.5 s = 0.2 min)\n",
      "epoch --- 134 train_loss: 10696281.562 (train time: 12.4 s = 0.2 min)\n",
      "epoch --- 135 train_loss: 10691393.496 (train time: 12.3 s = 0.2 min)\n",
      "epoch --- 136 train_loss: 10585548.492 (train time: 12.3 s = 0.2 min)\n",
      "epoch --- 137 train_loss: 10566171.160 (train time: 12.5 s = 0.2 min)\n",
      "epoch --- 138 train_loss: 10489579.887 (train time: 12.5 s = 0.2 min)\n"
     ]
    }
   ],
   "source": [
    "for n in range(num_save):\n",
    "    if n == 325 :\n",
    "        optimizer.defaults[\"lr\"] = 0.0005\n",
    "    if n == 375:\n",
    "        optimizer.defaults[\"lr\"] = 0.0001\n",
    "    for epoch in range(num_epochs):\n",
    "        \n",
    "        t1 = time.time()\n",
    "        loss_sum = 0.0\n",
    "        for i, batch_imgs in enumerate(dataloader):\n",
    "            optimizer.zero_grad()\n",
    "            reconstructed_imgs, mu, logvar = model(batch_imgs.to(device))\n",
    "            loss = loss_function(reconstructed_imgs, batch_imgs.to(device), mu, logvar)\n",
    "            loss.backward()\n",
    "            optimizer.step()\n",
    "            loss_sum += loss.item()\n",
    "\n",
    "        t2 = time.time()\n",
    "        train_ls.append(loss_sum)\n",
    "\n",
    "        print(\"epoch --- %d train_loss: %.3f (train time: %.1f s = %.1f min)\" %(n * num_epochs + epoch + 1, loss_sum, t2 - t1, (t2 - t1) / 60))\n",
    "    torch.save(model.state_dict(), \"../model_pths/\" + model_name + \".pth\")"
   ]
  },
  {
   "cell_type": "code",
   "execution_count": 12,
   "metadata": {},
   "outputs": [],
   "source": [
    "model = DenseVAE(img_size)\n",
    "model.load_state_dict(torch.load(\"../model_pths/DenseVAE.pth\"))\n",
    "model.eval()\n",
    "model.to(device)\n",
    "optimizer = torch.optim.Adam(model.parameters(), weight_decay=1e-5)"
   ]
  },
  {
   "cell_type": "code",
   "execution_count": 13,
   "metadata": {},
   "outputs": [],
   "source": [
    "num_save = 400 - 138\n",
    "num_epochs = 1\n",
    "train_ls = []"
   ]
  },
  {
   "cell_type": "code",
   "execution_count": 14,
   "metadata": {
    "scrolled": true
   },
   "outputs": [
    {
     "name": "stdout",
     "output_type": "stream",
     "text": [
      "epoch --- 139 train_loss: 9114526.117 (train time: 14.5 s = 0.2 min)\n",
      "epoch --- 140 train_loss: 8892408.844 (train time: 12.4 s = 0.2 min)\n",
      "epoch --- 141 train_loss: 8892943.180 (train time: 12.2 s = 0.2 min)\n",
      "epoch --- 142 train_loss: 8819457.773 (train time: 12.3 s = 0.2 min)\n",
      "epoch --- 143 train_loss: 8800360.199 (train time: 12.4 s = 0.2 min)\n",
      "epoch --- 144 train_loss: 8752687.793 (train time: 12.3 s = 0.2 min)\n",
      "epoch --- 145 train_loss: 8749042.039 (train time: 12.2 s = 0.2 min)\n",
      "epoch --- 146 train_loss: 8696498.973 (train time: 12.3 s = 0.2 min)\n",
      "epoch --- 147 train_loss: 8692335.059 (train time: 12.4 s = 0.2 min)\n",
      "epoch --- 148 train_loss: 8647768.371 (train time: 12.4 s = 0.2 min)\n",
      "epoch --- 149 train_loss: 8681084.414 (train time: 12.2 s = 0.2 min)\n",
      "epoch --- 150 train_loss: 8668727.016 (train time: 12.2 s = 0.2 min)\n",
      "epoch --- 151 train_loss: 8543682.266 (train time: 12.4 s = 0.2 min)\n",
      "epoch --- 152 train_loss: 8601424.102 (train time: 12.5 s = 0.2 min)\n",
      "epoch --- 153 train_loss: 8566152.781 (train time: 12.3 s = 0.2 min)\n",
      "epoch --- 154 train_loss: 8498982.918 (train time: 12.2 s = 0.2 min)\n",
      "epoch --- 155 train_loss: 8541962.844 (train time: 12.3 s = 0.2 min)\n",
      "epoch --- 156 train_loss: 8469149.152 (train time: 12.4 s = 0.2 min)\n",
      "epoch --- 157 train_loss: 8492551.535 (train time: 12.4 s = 0.2 min)\n",
      "epoch --- 158 train_loss: 8458942.348 (train time: 12.2 s = 0.2 min)\n",
      "epoch --- 159 train_loss: 8500101.992 (train time: 12.3 s = 0.2 min)\n",
      "epoch --- 160 train_loss: 8436577.176 (train time: 12.4 s = 0.2 min)\n",
      "epoch --- 161 train_loss: 8426782.719 (train time: 12.4 s = 0.2 min)\n",
      "epoch --- 162 train_loss: 8384540.516 (train time: 12.3 s = 0.2 min)\n",
      "epoch --- 163 train_loss: 8391699.504 (train time: 12.2 s = 0.2 min)\n",
      "epoch --- 164 train_loss: 8392567.172 (train time: 12.4 s = 0.2 min)\n",
      "epoch --- 165 train_loss: 8395755.340 (train time: 12.4 s = 0.2 min)\n",
      "epoch --- 166 train_loss: 8250455.898 (train time: 12.3 s = 0.2 min)\n",
      "epoch --- 167 train_loss: 8233879.156 (train time: 12.2 s = 0.2 min)\n",
      "epoch --- 168 train_loss: 8251067.340 (train time: 12.3 s = 0.2 min)\n",
      "epoch --- 169 train_loss: 8238350.270 (train time: 12.4 s = 0.2 min)\n",
      "epoch --- 170 train_loss: 8232210.918 (train time: 12.4 s = 0.2 min)\n",
      "epoch --- 171 train_loss: 8231662.133 (train time: 12.3 s = 0.2 min)\n",
      "epoch --- 172 train_loss: 8243068.074 (train time: 12.2 s = 0.2 min)\n",
      "epoch --- 173 train_loss: 8183295.152 (train time: 12.4 s = 0.2 min)\n",
      "epoch --- 174 train_loss: 8130017.777 (train time: 12.4 s = 0.2 min)\n",
      "epoch --- 175 train_loss: 8164447.645 (train time: 12.5 s = 0.2 min)\n",
      "epoch --- 176 train_loss: 8147381.520 (train time: 12.2 s = 0.2 min)\n",
      "epoch --- 177 train_loss: 8118002.484 (train time: 12.3 s = 0.2 min)\n",
      "epoch --- 178 train_loss: 8160134.434 (train time: 12.4 s = 0.2 min)\n",
      "epoch --- 179 train_loss: 8119967.418 (train time: 12.4 s = 0.2 min)\n",
      "epoch --- 180 train_loss: 8079839.320 (train time: 12.3 s = 0.2 min)\n",
      "epoch --- 181 train_loss: 8027976.082 (train time: 12.2 s = 0.2 min)\n",
      "epoch --- 182 train_loss: 7996087.387 (train time: 12.4 s = 0.2 min)\n",
      "epoch --- 183 train_loss: 8015424.297 (train time: 12.4 s = 0.2 min)\n",
      "epoch --- 184 train_loss: 8018100.703 (train time: 12.4 s = 0.2 min)\n",
      "epoch --- 185 train_loss: 8007129.184 (train time: 12.2 s = 0.2 min)\n",
      "epoch --- 186 train_loss: 7900716.625 (train time: 12.3 s = 0.2 min)\n",
      "epoch --- 187 train_loss: 7923592.922 (train time: 12.4 s = 0.2 min)\n",
      "epoch --- 188 train_loss: 8004345.309 (train time: 12.4 s = 0.2 min)\n",
      "epoch --- 189 train_loss: 8030197.129 (train time: 12.3 s = 0.2 min)\n",
      "epoch --- 190 train_loss: 7947566.832 (train time: 12.2 s = 0.2 min)\n",
      "epoch --- 191 train_loss: 7934308.621 (train time: 12.3 s = 0.2 min)\n",
      "epoch --- 192 train_loss: 7855238.652 (train time: 12.4 s = 0.2 min)\n",
      "epoch --- 193 train_loss: 7900801.570 (train time: 12.3 s = 0.2 min)\n",
      "epoch --- 194 train_loss: 7937694.988 (train time: 12.2 s = 0.2 min)\n",
      "epoch --- 195 train_loss: 7866269.930 (train time: 12.2 s = 0.2 min)\n",
      "epoch --- 196 train_loss: 7792304.539 (train time: 12.4 s = 0.2 min)\n",
      "epoch --- 197 train_loss: 7854084.844 (train time: 12.4 s = 0.2 min)\n",
      "epoch --- 198 train_loss: 7883547.219 (train time: 12.3 s = 0.2 min)\n",
      "epoch --- 199 train_loss: 7902627.191 (train time: 12.2 s = 0.2 min)\n",
      "epoch --- 200 train_loss: 7858340.391 (train time: 12.4 s = 0.2 min)\n",
      "epoch --- 201 train_loss: 7737295.203 (train time: 12.4 s = 0.2 min)\n",
      "epoch --- 202 train_loss: 7748391.754 (train time: 12.4 s = 0.2 min)\n",
      "epoch --- 203 train_loss: 7800504.863 (train time: 12.2 s = 0.2 min)\n",
      "epoch --- 204 train_loss: 7802151.215 (train time: 12.3 s = 0.2 min)\n",
      "epoch --- 205 train_loss: 7741278.676 (train time: 12.4 s = 0.2 min)\n",
      "epoch --- 206 train_loss: 7681575.379 (train time: 12.4 s = 0.2 min)\n",
      "epoch --- 207 train_loss: 7690950.262 (train time: 12.3 s = 0.2 min)\n",
      "epoch --- 208 train_loss: 7692254.723 (train time: 12.2 s = 0.2 min)\n",
      "epoch --- 209 train_loss: 7697892.129 (train time: 12.4 s = 0.2 min)\n",
      "epoch --- 210 train_loss: 7656594.371 (train time: 12.4 s = 0.2 min)\n",
      "epoch --- 211 train_loss: 7648428.574 (train time: 12.4 s = 0.2 min)\n",
      "epoch --- 212 train_loss: 7669260.309 (train time: 12.2 s = 0.2 min)\n",
      "epoch --- 213 train_loss: 7655270.012 (train time: 12.3 s = 0.2 min)\n",
      "epoch --- 214 train_loss: 7623777.578 (train time: 12.4 s = 0.2 min)\n",
      "epoch --- 215 train_loss: 7590258.527 (train time: 12.4 s = 0.2 min)\n",
      "epoch --- 216 train_loss: 7616431.488 (train time: 12.2 s = 0.2 min)\n",
      "epoch --- 217 train_loss: 7559777.086 (train time: 12.2 s = 0.2 min)\n",
      "epoch --- 218 train_loss: 7647566.062 (train time: 12.4 s = 0.2 min)\n",
      "epoch --- 219 train_loss: 7567052.004 (train time: 12.4 s = 0.2 min)\n",
      "epoch --- 220 train_loss: 7497935.691 (train time: 12.3 s = 0.2 min)\n",
      "epoch --- 221 train_loss: 7517793.004 (train time: 12.2 s = 0.2 min)\n",
      "epoch --- 222 train_loss: 7550867.730 (train time: 12.3 s = 0.2 min)\n",
      "epoch --- 223 train_loss: 7675424.039 (train time: 12.4 s = 0.2 min)\n",
      "epoch --- 224 train_loss: 7588303.551 (train time: 12.4 s = 0.2 min)\n",
      "epoch --- 225 train_loss: 7480685.938 (train time: 12.3 s = 0.2 min)\n",
      "epoch --- 226 train_loss: 7528515.184 (train time: 12.2 s = 0.2 min)\n",
      "epoch --- 227 train_loss: 7470508.438 (train time: 12.4 s = 0.2 min)\n",
      "epoch --- 228 train_loss: 7486881.312 (train time: 12.4 s = 0.2 min)\n",
      "epoch --- 229 train_loss: 7481481.963 (train time: 12.4 s = 0.2 min)\n",
      "epoch --- 230 train_loss: 7434468.348 (train time: 12.2 s = 0.2 min)\n",
      "epoch --- 231 train_loss: 7457728.961 (train time: 12.3 s = 0.2 min)\n",
      "epoch --- 232 train_loss: 7430972.383 (train time: 12.4 s = 0.2 min)\n",
      "epoch --- 233 train_loss: 7439815.871 (train time: 12.4 s = 0.2 min)\n",
      "epoch --- 234 train_loss: 7414571.445 (train time: 12.3 s = 0.2 min)\n",
      "epoch --- 235 train_loss: 7366561.643 (train time: 12.2 s = 0.2 min)\n",
      "epoch --- 236 train_loss: 7420531.582 (train time: 12.4 s = 0.2 min)\n",
      "epoch --- 237 train_loss: 7403976.875 (train time: 12.4 s = 0.2 min)\n",
      "epoch --- 238 train_loss: 7357445.527 (train time: 12.4 s = 0.2 min)\n",
      "epoch --- 239 train_loss: 7409477.500 (train time: 12.2 s = 0.2 min)\n",
      "epoch --- 240 train_loss: 7346553.496 (train time: 12.3 s = 0.2 min)\n",
      "epoch --- 241 train_loss: 7321675.008 (train time: 12.4 s = 0.2 min)\n",
      "epoch --- 242 train_loss: 7303686.168 (train time: 12.4 s = 0.2 min)\n",
      "epoch --- 243 train_loss: 7337472.789 (train time: 12.3 s = 0.2 min)\n",
      "epoch --- 244 train_loss: 7351858.270 (train time: 12.2 s = 0.2 min)\n",
      "epoch --- 245 train_loss: 7263931.031 (train time: 12.4 s = 0.2 min)\n",
      "epoch --- 246 train_loss: 7333457.406 (train time: 12.4 s = 0.2 min)\n",
      "epoch --- 247 train_loss: 7272548.816 (train time: 12.4 s = 0.2 min)\n",
      "epoch --- 248 train_loss: 7224400.691 (train time: 12.2 s = 0.2 min)\n",
      "epoch --- 249 train_loss: 7193079.516 (train time: 12.3 s = 0.2 min)\n",
      "epoch --- 250 train_loss: 7164729.918 (train time: 12.4 s = 0.2 min)\n",
      "epoch --- 251 train_loss: 7208296.490 (train time: 12.4 s = 0.2 min)\n",
      "epoch --- 252 train_loss: 7116431.572 (train time: 12.2 s = 0.2 min)\n",
      "epoch --- 253 train_loss: 7231167.258 (train time: 12.2 s = 0.2 min)\n",
      "epoch --- 254 train_loss: 7222980.941 (train time: 12.4 s = 0.2 min)\n",
      "epoch --- 255 train_loss: 7203390.166 (train time: 12.4 s = 0.2 min)\n",
      "epoch --- 256 train_loss: 7149572.152 (train time: 12.3 s = 0.2 min)\n",
      "epoch --- 257 train_loss: 7165067.473 (train time: 12.2 s = 0.2 min)\n"
     ]
    },
    {
     "name": "stdout",
     "output_type": "stream",
     "text": [
      "epoch --- 258 train_loss: 7178311.244 (train time: 12.3 s = 0.2 min)\n",
      "epoch --- 259 train_loss: 7157620.375 (train time: 12.4 s = 0.2 min)\n",
      "epoch --- 260 train_loss: 7166728.338 (train time: 12.4 s = 0.2 min)\n",
      "epoch --- 261 train_loss: 7065345.660 (train time: 12.3 s = 0.2 min)\n",
      "epoch --- 262 train_loss: 7034627.359 (train time: 12.2 s = 0.2 min)\n",
      "epoch --- 263 train_loss: 7074488.746 (train time: 12.4 s = 0.2 min)\n",
      "epoch --- 264 train_loss: 7089476.627 (train time: 12.4 s = 0.2 min)\n",
      "epoch --- 265 train_loss: 7104845.273 (train time: 12.4 s = 0.2 min)\n",
      "epoch --- 266 train_loss: 7015911.803 (train time: 12.2 s = 0.2 min)\n",
      "epoch --- 267 train_loss: 7061412.732 (train time: 12.3 s = 0.2 min)\n",
      "epoch --- 268 train_loss: 7017719.721 (train time: 12.4 s = 0.2 min)\n",
      "epoch --- 269 train_loss: 7001173.281 (train time: 12.4 s = 0.2 min)\n",
      "epoch --- 270 train_loss: 6987010.611 (train time: 12.3 s = 0.2 min)\n",
      "epoch --- 271 train_loss: 7011956.309 (train time: 12.2 s = 0.2 min)\n",
      "epoch --- 272 train_loss: 7012930.359 (train time: 12.4 s = 0.2 min)\n",
      "epoch --- 273 train_loss: 6957325.326 (train time: 12.4 s = 0.2 min)\n",
      "epoch --- 274 train_loss: 6922252.613 (train time: 12.4 s = 0.2 min)\n",
      "epoch --- 275 train_loss: 6970560.504 (train time: 12.2 s = 0.2 min)\n",
      "epoch --- 276 train_loss: 6924642.725 (train time: 12.3 s = 0.2 min)\n",
      "epoch --- 277 train_loss: 6992691.303 (train time: 12.4 s = 0.2 min)\n",
      "epoch --- 278 train_loss: 6911665.219 (train time: 12.4 s = 0.2 min)\n",
      "epoch --- 279 train_loss: 6871073.322 (train time: 12.3 s = 0.2 min)\n",
      "epoch --- 280 train_loss: 6837064.445 (train time: 12.2 s = 0.2 min)\n",
      "epoch --- 281 train_loss: 6882875.031 (train time: 12.4 s = 0.2 min)\n",
      "epoch --- 282 train_loss: 6901570.207 (train time: 12.4 s = 0.2 min)\n",
      "epoch --- 283 train_loss: 6905190.848 (train time: 12.4 s = 0.2 min)\n",
      "epoch --- 284 train_loss: 6931374.834 (train time: 12.2 s = 0.2 min)\n",
      "epoch --- 285 train_loss: 6870136.125 (train time: 12.3 s = 0.2 min)\n",
      "epoch --- 286 train_loss: 6875112.846 (train time: 12.4 s = 0.2 min)\n",
      "epoch --- 287 train_loss: 6864401.729 (train time: 12.4 s = 0.2 min)\n",
      "epoch --- 288 train_loss: 6822586.949 (train time: 12.2 s = 0.2 min)\n",
      "epoch --- 289 train_loss: 6820204.855 (train time: 12.2 s = 0.2 min)\n",
      "epoch --- 290 train_loss: 6824489.531 (train time: 12.4 s = 0.2 min)\n",
      "epoch --- 291 train_loss: 6860940.254 (train time: 12.4 s = 0.2 min)\n",
      "epoch --- 292 train_loss: 6739618.479 (train time: 12.3 s = 0.2 min)\n",
      "epoch --- 293 train_loss: 6753895.980 (train time: 12.2 s = 0.2 min)\n",
      "epoch --- 294 train_loss: 6749267.162 (train time: 12.3 s = 0.2 min)\n",
      "epoch --- 295 train_loss: 6756877.881 (train time: 12.4 s = 0.2 min)\n",
      "epoch --- 296 train_loss: 6815977.070 (train time: 12.4 s = 0.2 min)\n",
      "epoch --- 297 train_loss: 6811955.926 (train time: 12.2 s = 0.2 min)\n",
      "epoch --- 298 train_loss: 6842689.262 (train time: 12.2 s = 0.2 min)\n",
      "epoch --- 299 train_loss: 6763313.270 (train time: 12.4 s = 0.2 min)\n",
      "epoch --- 300 train_loss: 6762138.287 (train time: 12.4 s = 0.2 min)\n",
      "epoch --- 301 train_loss: 6733656.740 (train time: 12.3 s = 0.2 min)\n",
      "epoch --- 302 train_loss: 6638109.365 (train time: 12.2 s = 0.2 min)\n",
      "epoch --- 303 train_loss: 6695766.006 (train time: 12.3 s = 0.2 min)\n",
      "epoch --- 304 train_loss: 6636428.123 (train time: 12.4 s = 0.2 min)\n",
      "epoch --- 305 train_loss: 6658313.986 (train time: 12.4 s = 0.2 min)\n",
      "epoch --- 306 train_loss: 6656417.229 (train time: 12.3 s = 0.2 min)\n",
      "epoch --- 307 train_loss: 6672623.131 (train time: 12.3 s = 0.2 min)\n",
      "epoch --- 308 train_loss: 6628334.596 (train time: 12.4 s = 0.2 min)\n",
      "epoch --- 309 train_loss: 6694793.182 (train time: 12.6 s = 0.2 min)\n",
      "epoch --- 310 train_loss: 6701811.998 (train time: 12.4 s = 0.2 min)\n",
      "epoch --- 311 train_loss: 6652550.600 (train time: 12.4 s = 0.2 min)\n",
      "epoch --- 312 train_loss: 6706952.217 (train time: 12.5 s = 0.2 min)\n",
      "epoch --- 313 train_loss: 6665658.961 (train time: 12.8 s = 0.2 min)\n",
      "epoch --- 314 train_loss: 6662932.992 (train time: 12.8 s = 0.2 min)\n",
      "epoch --- 315 train_loss: 6630396.725 (train time: 12.9 s = 0.2 min)\n",
      "epoch --- 316 train_loss: 6581572.391 (train time: 12.3 s = 0.2 min)\n",
      "epoch --- 317 train_loss: 6624582.205 (train time: 25.8 s = 0.4 min)\n",
      "epoch --- 318 train_loss: 6622719.311 (train time: 13.1 s = 0.2 min)\n",
      "epoch --- 319 train_loss: 6562292.576 (train time: 12.3 s = 0.2 min)\n",
      "epoch --- 320 train_loss: 6608750.387 (train time: 12.2 s = 0.2 min)\n",
      "epoch --- 321 train_loss: 6625440.971 (train time: 12.3 s = 0.2 min)\n",
      "epoch --- 322 train_loss: 6569033.160 (train time: 12.4 s = 0.2 min)\n",
      "epoch --- 323 train_loss: 6540415.666 (train time: 12.4 s = 0.2 min)\n",
      "epoch --- 324 train_loss: 6530597.104 (train time: 12.3 s = 0.2 min)\n",
      "epoch --- 325 train_loss: 6570347.480 (train time: 12.2 s = 0.2 min)\n",
      "epoch --- 326 train_loss: 6574359.004 (train time: 12.2 s = 0.2 min)\n",
      "epoch --- 327 train_loss: 6468859.945 (train time: 12.3 s = 0.2 min)\n",
      "epoch --- 328 train_loss: 6465459.166 (train time: 12.4 s = 0.2 min)\n",
      "epoch --- 329 train_loss: 6574430.939 (train time: 12.4 s = 0.2 min)\n",
      "epoch --- 330 train_loss: 6530826.348 (train time: 12.4 s = 0.2 min)\n",
      "epoch --- 331 train_loss: 6557430.328 (train time: 12.3 s = 0.2 min)\n",
      "epoch --- 332 train_loss: 6553066.490 (train time: 12.2 s = 0.2 min)\n",
      "epoch --- 333 train_loss: 6505686.775 (train time: 12.2 s = 0.2 min)\n",
      "epoch --- 334 train_loss: 6527731.525 (train time: 12.3 s = 0.2 min)\n",
      "epoch --- 335 train_loss: 6414536.551 (train time: 12.4 s = 0.2 min)\n",
      "epoch --- 336 train_loss: 6429601.428 (train time: 12.4 s = 0.2 min)\n",
      "epoch --- 337 train_loss: 6419522.645 (train time: 12.4 s = 0.2 min)\n",
      "epoch --- 338 train_loss: 6405092.137 (train time: 12.3 s = 0.2 min)\n",
      "epoch --- 339 train_loss: 6493511.861 (train time: 12.2 s = 0.2 min)\n",
      "epoch --- 340 train_loss: 6506992.043 (train time: 12.2 s = 0.2 min)\n",
      "epoch --- 341 train_loss: 6434835.871 (train time: 12.3 s = 0.2 min)\n",
      "epoch --- 342 train_loss: 6390483.594 (train time: 12.4 s = 0.2 min)\n",
      "epoch --- 343 train_loss: 6448742.969 (train time: 12.4 s = 0.2 min)\n",
      "epoch --- 344 train_loss: 6367018.531 (train time: 12.4 s = 0.2 min)\n",
      "epoch --- 345 train_loss: 6384727.045 (train time: 12.3 s = 0.2 min)\n",
      "epoch --- 346 train_loss: 6357016.799 (train time: 12.2 s = 0.2 min)\n",
      "epoch --- 347 train_loss: 6423725.229 (train time: 12.2 s = 0.2 min)\n",
      "epoch --- 348 train_loss: 6408875.148 (train time: 12.3 s = 0.2 min)\n",
      "epoch --- 349 train_loss: 6413016.064 (train time: 12.3 s = 0.2 min)\n",
      "epoch --- 350 train_loss: 6446650.609 (train time: 12.3 s = 0.2 min)\n",
      "epoch --- 351 train_loss: 6433558.736 (train time: 12.3 s = 0.2 min)\n",
      "epoch --- 352 train_loss: 6405463.631 (train time: 12.2 s = 0.2 min)\n",
      "epoch --- 353 train_loss: 6334644.082 (train time: 12.2 s = 0.2 min)\n",
      "epoch --- 354 train_loss: 6393625.557 (train time: 12.2 s = 0.2 min)\n",
      "epoch --- 355 train_loss: 6345390.133 (train time: 12.3 s = 0.2 min)\n",
      "epoch --- 356 train_loss: 6355100.498 (train time: 12.4 s = 0.2 min)\n",
      "epoch --- 357 train_loss: 6320247.996 (train time: 12.4 s = 0.2 min)\n",
      "epoch --- 358 train_loss: 6378220.492 (train time: 12.3 s = 0.2 min)\n",
      "epoch --- 359 train_loss: 6332241.545 (train time: 12.2 s = 0.2 min)\n",
      "epoch --- 360 train_loss: 6315750.123 (train time: 12.2 s = 0.2 min)\n",
      "epoch --- 361 train_loss: 6333274.129 (train time: 12.3 s = 0.2 min)\n",
      "epoch --- 362 train_loss: 6283376.416 (train time: 12.3 s = 0.2 min)\n",
      "epoch --- 363 train_loss: 6243198.195 (train time: 12.4 s = 0.2 min)\n",
      "epoch --- 364 train_loss: 6244560.756 (train time: 12.4 s = 0.2 min)\n",
      "epoch --- 365 train_loss: 6236524.746 (train time: 12.3 s = 0.2 min)\n",
      "epoch --- 366 train_loss: 6320339.773 (train time: 12.2 s = 0.2 min)\n",
      "epoch --- 367 train_loss: 6212375.543 (train time: 12.2 s = 0.2 min)\n",
      "epoch --- 368 train_loss: 6233841.230 (train time: 12.2 s = 0.2 min)\n",
      "epoch --- 369 train_loss: 6271854.742 (train time: 12.3 s = 0.2 min)\n",
      "epoch --- 370 train_loss: 6270171.170 (train time: 12.4 s = 0.2 min)\n",
      "epoch --- 371 train_loss: 6225670.414 (train time: 12.4 s = 0.2 min)\n",
      "epoch --- 372 train_loss: 6221749.904 (train time: 12.3 s = 0.2 min)\n",
      "epoch --- 373 train_loss: 6290918.721 (train time: 12.2 s = 0.2 min)\n",
      "epoch --- 374 train_loss: 6159046.557 (train time: 12.2 s = 0.2 min)\n",
      "epoch --- 375 train_loss: 6143306.451 (train time: 12.2 s = 0.2 min)\n",
      "epoch --- 376 train_loss: 6184721.426 (train time: 12.3 s = 0.2 min)\n"
     ]
    },
    {
     "name": "stdout",
     "output_type": "stream",
     "text": [
      "epoch --- 377 train_loss: 6183158.385 (train time: 12.4 s = 0.2 min)\n",
      "epoch --- 378 train_loss: 6088581.928 (train time: 12.4 s = 0.2 min)\n",
      "epoch --- 379 train_loss: 6150420.230 (train time: 12.3 s = 0.2 min)\n",
      "epoch --- 380 train_loss: 6233495.029 (train time: 12.2 s = 0.2 min)\n",
      "epoch --- 381 train_loss: 6254768.518 (train time: 12.2 s = 0.2 min)\n",
      "epoch --- 382 train_loss: 6183867.219 (train time: 12.3 s = 0.2 min)\n",
      "epoch --- 383 train_loss: 6235245.773 (train time: 12.3 s = 0.2 min)\n",
      "epoch --- 384 train_loss: 6239997.184 (train time: 12.3 s = 0.2 min)\n",
      "epoch --- 385 train_loss: 6154198.785 (train time: 12.4 s = 0.2 min)\n",
      "epoch --- 386 train_loss: 6216796.209 (train time: 12.3 s = 0.2 min)\n",
      "epoch --- 387 train_loss: 6228405.750 (train time: 12.2 s = 0.2 min)\n",
      "epoch --- 388 train_loss: 6155965.693 (train time: 12.2 s = 0.2 min)\n",
      "epoch --- 389 train_loss: 6170398.732 (train time: 12.3 s = 0.2 min)\n",
      "epoch --- 390 train_loss: 6164091.959 (train time: 12.3 s = 0.2 min)\n",
      "epoch --- 391 train_loss: 6102245.076 (train time: 12.3 s = 0.2 min)\n",
      "epoch --- 392 train_loss: 6088768.047 (train time: 12.3 s = 0.2 min)\n",
      "epoch --- 393 train_loss: 6023949.916 (train time: 12.3 s = 0.2 min)\n",
      "epoch --- 394 train_loss: 6178231.318 (train time: 12.2 s = 0.2 min)\n",
      "epoch --- 395 train_loss: 6212289.859 (train time: 12.2 s = 0.2 min)\n",
      "epoch --- 396 train_loss: 6129567.539 (train time: 12.3 s = 0.2 min)\n",
      "epoch --- 397 train_loss: 6129263.281 (train time: 12.3 s = 0.2 min)\n",
      "epoch --- 398 train_loss: 6169024.146 (train time: 12.3 s = 0.2 min)\n",
      "epoch --- 399 train_loss: 6055388.381 (train time: 12.4 s = 0.2 min)\n",
      "epoch --- 400 train_loss: 6077561.203 (train time: 12.3 s = 0.2 min)\n"
     ]
    }
   ],
   "source": [
    "for n in range(num_save):\n",
    "    if n == 325 - 138:\n",
    "        optimizer.defaults[\"lr\"] = 0.0005\n",
    "    if n == 375 - 138:\n",
    "        optimizer.defaults[\"lr\"] = 0.0001\n",
    "    for epoch in range(num_epochs):\n",
    "        \n",
    "        t1 = time.time()\n",
    "        loss_sum = 0.0\n",
    "        for i, batch_imgs in enumerate(dataloader):\n",
    "            optimizer.zero_grad()\n",
    "            reconstructed_imgs, mu, logvar = model(batch_imgs.to(device))\n",
    "            loss = loss_function(reconstructed_imgs, batch_imgs.to(device), mu, logvar)\n",
    "            loss.backward()\n",
    "            optimizer.step()\n",
    "            loss_sum += loss.item()\n",
    "\n",
    "        t2 = time.time()\n",
    "        train_ls.append(loss_sum)\n",
    "\n",
    "        print(\"epoch --- %d train_loss: %.3f (train time: %.1f s = %.1f min)\" %(n * num_epochs + epoch + 1 + 138, loss_sum, t2 - t1, (t2 - t1) / 60))\n",
    "    torch.save(model.state_dict(), \"../model_pths/\" + model_name + \".pth\")"
   ]
  },
  {
   "cell_type": "code",
   "execution_count": 15,
   "metadata": {},
   "outputs": [],
   "source": [
    "def plot_results(result, which_result, condition, save_or_not=True):\n",
    "    plt.clf()\n",
    "    plt.plot(result)\n",
    "    plt.title(condition + \"_\" + which_result)\n",
    "    plt.savefig(condition + \"_\" + which_result + \".png\") if save_or_not else plt.show()"
   ]
  },
  {
   "cell_type": "code",
   "execution_count": 16,
   "metadata": {},
   "outputs": [],
   "source": [
    "loss_img_path = \"../loss_imgs/\"\n",
    "condition = \"DenseVAE_128to64\""
   ]
  },
  {
   "cell_type": "code",
   "execution_count": 17,
   "metadata": {},
   "outputs": [
    {
     "data": {
      "image/png": "[encoded data removed]",
      "text/plain": [
       "<Figure size 432x288 with 1 Axes>"
      ]
     },
     "metadata": {
      "needs_background": "light"
     },
     "output_type": "display_data"
    }
   ],
   "source": [
    "plot_results(train_ls, \"train_loss\", loss_img_path + condition)"
   ]
  },
  {
   "cell_type": "code",
   "execution_count": 32,
   "metadata": {
    "scrolled": false
   },
   "outputs": [],
   "source": [
    "def imshow(dataset, poses, model = None, device = \"cpu\"):\n",
    "    plt.clf()\n",
    "    fig = plt.figure(figsize=(15.0, 75.0))\n",
    "    for i, pos in enumerate(poses):\n",
    "        ax = fig.add_subplot(1, len(poses), i + 1)\n",
    "        if model is None:\n",
    "            ax.imshow(dataset[pos].to(\"cpu\").reshape(128,128), cmap = 'gray', vmin = 0, vmax = 1, interpolation = 'none')\n",
    "        else:\n",
    "            with torch.no_grad():\n",
    "                output_img, _, _ = model(dataset[pos].unsqueeze(0).to(device))\n",
    "                ax.imshow(output_img.to(\"cpu\")[0].reshape(128,128), cmap = 'gray', vmin = 0, vmax = 1, interpolation = 'none')\n",
    "    fig.tight_layout()\n",
    "    plt.show()"
   ]
  },
  {
   "cell_type": "code",
   "execution_count": 29,
   "metadata": {},
   "outputs": [],
   "source": [
    "poses = [1000,2000,3000,4000,5000,6000]"
   ]
  },
  {
   "cell_type": "code",
   "execution_count": 30,
   "metadata": {},
   "outputs": [
    {
     "data": {
      "text/plain": [
       "<Figure size 432x288 with 0 Axes>"
      ]
     },
     "metadata": {},
     "output_type": "display_data"
    },
    {
     "data": {
      "image/png": "[encoded data removed]",
      "text/plain": [
       "<Figure size 1080x5400 with 6 Axes>"
      ]
     },
     "metadata": {
      "needs_background": "light"
     },
     "output_type": "display_data"
    }
   ],
   "source": [
    "imshow(dataset, poses)"
   ]
  },
  {
   "cell_type": "code",
   "execution_count": 33,
   "metadata": {
    "scrolled": true
   },
   "outputs": [
    {
     "data": {
      "text/plain": [
       "<Figure size 432x288 with 0 Axes>"
      ]
     },
     "metadata": {},
     "output_type": "display_data"
    },
    {
     "data": {
      "image/png": "[encoded data removed]",
      "text/plain": [
       "<Figure size 1080x5400 with 6 Axes>"
      ]
     },
     "metadata": {
      "needs_background": "light"
     },
     "output_type": "display_data"
    }
   ],
   "source": [
    "imshow(dataset, poses, model=model, device=device)"
   ]
  },
  {
   "cell_type": "code",
   "execution_count": null,
   "metadata": {},
   "outputs": [],
   "source": [
    "import subprocess\n",
    "subprocess.run(['jupyter', 'nbconvert', '--to', 'python', 'vae_train_DenseVAE.ipynb'])"
   ]
  }
 ],
 "metadata": {
  "kernelspec": {
   "display_name": "Python 3",
   "language": "python",
   "name": "python3"
  },
  "language_info": {
   "codemirror_mode": {
    "name": "ipython",
    "version": 3
   },
   "file_extension": ".py",
   "mimetype": "text/x-python",
   "name": "python",
   "nbconvert_exporter": "python",
   "pygments_lexer": "ipython3",
   "version": "3.7.7"
  }
 },
 "nbformat": 4,
 "nbformat_minor": 4
}
