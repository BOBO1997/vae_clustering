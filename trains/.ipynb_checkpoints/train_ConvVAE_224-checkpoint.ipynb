{
 "cells": [
  {
   "cell_type": "markdown",
   "metadata": {},
   "source": [
    "# 訓練 (ConvVAE_224)\n",
    "\n",
    "## モデル(潜在ベクトル: 64次元)\n",
    "\n",
    "ConvVAE_224(\n",
    "  - (conv1): Conv2d(1, 16, kernel_size=(5, 5), stride=(2, 2), padding=(2, 2))\n",
    "  - (conv2): Conv2d(16, 64, kernel_size=(5, 5), stride=(2, 2), padding=(2, 2))\n",
    "  - (conv3): Conv2d(64, 128, kernel_size=(5, 5), stride=(2, 2), padding=(2, 2))\n",
    "  - (conv4): Conv2d(128, 256, kernel_size=(3, 3), stride=(2, 2), padding=(1, 1))\n",
    "  - (conv5): Conv2d(256, 512, kernel_size=(3, 3), stride=(2, 2), padding=(1, 1))\n",
    "  - (conv6): Conv2d(512, 1024, kernel_size=(7, 7), stride=(1, 1))\n",
    "  - (conv_mean): Conv2d(1024, 64, kernel_size=(1, 1), stride=(1, 1))\n",
    "  - (conv_var): Conv2d(1024, 64, kernel_size=(1, 1), stride=(1, 1))\n",
    "  - (t_conv7): ConvTranspose2d(64, 1024, kernel_size=(1, 1), stride=(1, 1))\n",
    "  - (t_conv6): ConvTranspose2d(1024, 512, kernel_size=(7, 7), stride=(1, 1))\n",
    "  - (t_conv5): ConvTranspose2d(512, 256, kernel_size=(3, 3), stride=(2, 2))\n",
    "  - (t_conv4): ConvTranspose2d(256, 128, kernel_size=(3, 3), stride=(2, 2))\n",
    "  - (t_conv3): ConvTranspose2d(128, 64, kernel_size=(5, 5), stride=(2, 2))\n",
    "  - (t_conv2): ConvTranspose2d(64, 16, kernel_size=(5, 5), stride=(2, 2))\n",
    "  - (t_conv1): ConvTranspose2d(16, 1, kernel_size=(5, 5), stride=(2, 2))\n",
    ")\n",
    "\n",
    "## 訓練データはimgs224_40_123mから23mのみを使用\n",
    "- 1ヶ月、2ヶ月、3ヶ月の期間を全部使うとメモリに乗らない(解決方法を教えて欲しい)\n",
    "\n",
    "## 訓練\n",
    "\n",
    "- 400 epoch"
   ]
  },
  {
   "cell_type": "code",
   "execution_count": 1,
   "metadata": {},
   "outputs": [],
   "source": [
    "import matplotlib.pyplot as plt\n",
    "%matplotlib inline\n",
    "import numpy as np\n",
    "import pickle\n",
    "from pprint import pprint\n",
    "import sys\n",
    "import time\n",
    "import torch\n",
    "import torch.nn as nn\n",
    "import torch.nn.functional as F\n",
    "import torch.optim as optim"
   ]
  },
  {
   "cell_type": "code",
   "execution_count": 2,
   "metadata": {},
   "outputs": [],
   "source": [
    "sys.path.append(\"/home/kwk/share/mizuho/u00257/vae_clustering/src/\")\n",
    "sys.path.append(\"/home/kwk/share/mizuho/u00257/vae_clustering/src/lib\")\n",
    "sys.path.append(\"/home/kwk/share/mizuho/u00257/vae_clustering/src/data_pkls\")"
   ]
  },
  {
   "cell_type": "code",
   "execution_count": 3,
   "metadata": {
    "scrolled": true
   },
   "outputs": [
    {
     "name": "stdout",
     "output_type": "stream",
     "text": [
      "cuda\n"
     ]
    }
   ],
   "source": [
    "device = torch.device('cuda' if torch.cuda.is_available() else 'cpu')\n",
    "print(device)"
   ]
  },
  {
   "cell_type": "code",
   "execution_count": 4,
   "metadata": {
    "scrolled": true
   },
   "outputs": [],
   "source": [
    "import importlib\n",
    "import vae_models\n",
    "# importlib.reload(vae_models)"
   ]
  },
  {
   "cell_type": "code",
   "execution_count": 5,
   "metadata": {},
   "outputs": [],
   "source": [
    "from vae_datasets import dataset2d\n",
    "from vae_models import ConvVAE_224\n",
    "from img_shows import *"
   ]
  },
  {
   "cell_type": "code",
   "execution_count": null,
   "metadata": {},
   "outputs": [],
   "source": [
    "batch_size = 100\n",
    "data_pkls = \"../data_pkls/imgs224_40_123m/\"\n",
    "pkl_files = [data_pkls + str(i+1) + \".pkl\" for i in range(10, 30)]\n",
    "dataset = dataset2d(pkl_files)\n",
    "dataloader = torch.utils.data.DataLoader(dataset, batch_size=batch_size, shuffle=True, drop_last=True)"
   ]
  },
  {
   "cell_type": "code",
   "execution_count": 7,
   "metadata": {},
   "outputs": [
    {
     "name": "stdout",
     "output_type": "stream",
     "text": [
      "torch.Size([1, 224, 224])\n"
     ]
    }
   ],
   "source": [
    "print(dataset[0].shape, len(dataset))"
   ]
  },
  {
   "cell_type": "code",
   "execution_count": 8,
   "metadata": {
    "scrolled": false
   },
   "outputs": [
    {
     "data": {
      "text/plain": [
       "<matplotlib.image.AxesImage at 0x2acab17ff9d0>"
      ]
     },
     "execution_count": 8,
     "metadata": {},
     "output_type": "execute_result"
    },
    {
     "data": {
      "image/png": "[encoded data removed]",
      "text/plain": [
       "<Figure size 432x288 with 1 Axes>"
      ]
     },
     "metadata": {
      "needs_background": "light"
     },
     "output_type": "display_data"
    }
   ],
   "source": [
    "plt.imshow(dataset[25000].to(\"cpu\").reshape(dataset[0].shape[1], dataset[0].shape[1]), cmap = 'gray', vmin = 0, vmax = 1, interpolation = 'none')"
   ]
  },
  {
   "cell_type": "code",
   "execution_count": 10,
   "metadata": {
    "scrolled": false
   },
   "outputs": [
    {
     "name": "stdout",
     "output_type": "stream",
     "text": [
      "ConvVAE_224(\n",
      "  (conv1): Conv2d(1, 16, kernel_size=(5, 5), stride=(2, 2), padding=(2, 2))\n",
      "  (conv2): Conv2d(16, 64, kernel_size=(5, 5), stride=(2, 2), padding=(2, 2))\n",
      "  (conv3): Conv2d(64, 128, kernel_size=(5, 5), stride=(2, 2), padding=(2, 2))\n",
      "  (conv4): Conv2d(128, 256, kernel_size=(3, 3), stride=(2, 2), padding=(1, 1))\n",
      "  (conv5): Conv2d(256, 512, kernel_size=(3, 3), stride=(2, 2), padding=(1, 1))\n",
      "  (conv6): Conv2d(512, 1024, kernel_size=(7, 7), stride=(1, 1))\n",
      "  (conv_mean): Conv2d(1024, 64, kernel_size=(1, 1), stride=(1, 1))\n",
      "  (conv_var): Conv2d(1024, 64, kernel_size=(1, 1), stride=(1, 1))\n",
      "  (t_conv7): ConvTranspose2d(64, 1024, kernel_size=(1, 1), stride=(1, 1))\n",
      "  (t_conv6): ConvTranspose2d(1024, 512, kernel_size=(7, 7), stride=(1, 1))\n",
      "  (t_conv5): ConvTranspose2d(512, 256, kernel_size=(3, 3), stride=(2, 2))\n",
      "  (t_conv4): ConvTranspose2d(256, 128, kernel_size=(3, 3), stride=(2, 2))\n",
      "  (t_conv3): ConvTranspose2d(128, 64, kernel_size=(5, 5), stride=(2, 2))\n",
      "  (t_conv2): ConvTranspose2d(64, 16, kernel_size=(5, 5), stride=(2, 2))\n",
      "  (t_conv1): ConvTranspose2d(16, 1, kernel_size=(5, 5), stride=(2, 2))\n",
      ")\n"
     ]
    }
   ],
   "source": [
    "model_name = \"ConvVAE_224\"\n",
    "img_size = dataset[0].shape[1]\n",
    "model = ConvVAE_224(img_size).to(device)\n",
    "print(model)"
   ]
  },
  {
   "cell_type": "code",
   "execution_count": 11,
   "metadata": {},
   "outputs": [],
   "source": [
    "def loss_function(reconstructed_x, x, mu, logvar):\n",
    "    BCE = F.binary_cross_entropy(reconstructed_x, x, reduction='sum')\n",
    "    KLD = -0.5 * torch.sum(1 + logvar - mu.pow(2) - logvar.exp())\n",
    "    return BCE + KLD"
   ]
  },
  {
   "cell_type": "code",
   "execution_count": 12,
   "metadata": {},
   "outputs": [],
   "source": [
    "optimizer = torch.optim.Adam(model.parameters())"
   ]
  },
  {
   "cell_type": "code",
   "execution_count": 13,
   "metadata": {},
   "outputs": [],
   "source": [
    "num_save = 400\n",
    "num_epochs = 1\n",
    "train_ls = []"
   ]
  },
  {
   "cell_type": "markdown",
   "metadata": {},
   "source": [
    "### 訓練\n",
    "\n",
    "モデルの保存はCPUへ"
   ]
  },
  {
   "cell_type": "code",
   "execution_count": null,
   "metadata": {
    "scrolled": true
   },
   "outputs": [
    {
     "name": "stdout",
     "output_type": "stream",
     "text": [
      "epoch --- 1 train_loss: 38212876.371 (train time: 68.4 s = 1.1 min)\n",
      "epoch --- 2 train_loss: 13824242.125 (train time: 65.7 s = 1.1 min)\n",
      "epoch --- 3 train_loss: 12985234.680 (train time: 65.4 s = 1.1 min)\n",
      "epoch --- 4 train_loss: 12582535.195 (train time: 64.8 s = 1.1 min)\n",
      "epoch --- 5 train_loss: 12248654.379 (train time: 57.4 s = 1.0 min)\n",
      "epoch --- 6 train_loss: 11988557.156 (train time: 55.6 s = 0.9 min)\n",
      "epoch --- 7 train_loss: 11761224.316 (train time: 55.5 s = 0.9 min)\n",
      "epoch --- 8 train_loss: 11547801.941 (train time: 55.6 s = 0.9 min)\n",
      "epoch --- 9 train_loss: 11307194.230 (train time: 55.6 s = 0.9 min)\n",
      "epoch --- 10 train_loss: 11108124.332 (train time: 55.6 s = 0.9 min)\n",
      "epoch --- 11 train_loss: 10891396.090 (train time: 55.6 s = 0.9 min)\n",
      "epoch --- 12 train_loss: 10693475.254 (train time: 55.6 s = 0.9 min)\n",
      "epoch --- 13 train_loss: 10505089.738 (train time: 55.5 s = 0.9 min)\n",
      "epoch --- 14 train_loss: 10291307.367 (train time: 55.6 s = 0.9 min)\n",
      "epoch --- 15 train_loss: 10054751.656 (train time: 55.5 s = 0.9 min)\n",
      "epoch --- 16 train_loss: 9862620.977 (train time: 55.6 s = 0.9 min)\n",
      "epoch --- 17 train_loss: 9663547.113 (train time: 55.6 s = 0.9 min)\n",
      "epoch --- 18 train_loss: 9445387.152 (train time: 55.6 s = 0.9 min)\n",
      "epoch --- 19 train_loss: 9272612.289 (train time: 55.6 s = 0.9 min)\n",
      "epoch --- 20 train_loss: 9083043.656 (train time: 55.6 s = 0.9 min)\n",
      "epoch --- 21 train_loss: 8907501.293 (train time: 55.6 s = 0.9 min)\n",
      "epoch --- 22 train_loss: 8745013.773 (train time: 55.6 s = 0.9 min)\n",
      "epoch --- 23 train_loss: 8588508.738 (train time: 55.6 s = 0.9 min)\n",
      "epoch --- 24 train_loss: 8456493.705 (train time: 55.6 s = 0.9 min)\n",
      "epoch --- 25 train_loss: 8268240.150 (train time: 55.5 s = 0.9 min)\n",
      "epoch --- 26 train_loss: 8141546.521 (train time: 55.6 s = 0.9 min)\n",
      "epoch --- 27 train_loss: 8039909.627 (train time: 55.6 s = 0.9 min)\n",
      "epoch --- 28 train_loss: 7895683.436 (train time: 55.6 s = 0.9 min)\n",
      "epoch --- 29 train_loss: 7815383.125 (train time: 55.6 s = 0.9 min)\n",
      "epoch --- 30 train_loss: 7704991.150 (train time: 55.5 s = 0.9 min)\n",
      "epoch --- 31 train_loss: 7594902.562 (train time: 55.5 s = 0.9 min)\n",
      "epoch --- 32 train_loss: 7482593.326 (train time: 55.5 s = 0.9 min)\n",
      "epoch --- 33 train_loss: 7436835.084 (train time: 55.6 s = 0.9 min)\n",
      "epoch --- 34 train_loss: 7335778.074 (train time: 55.7 s = 0.9 min)\n",
      "epoch --- 35 train_loss: 7240335.428 (train time: 55.7 s = 0.9 min)\n",
      "epoch --- 36 train_loss: 7122982.129 (train time: 55.6 s = 0.9 min)\n",
      "epoch --- 37 train_loss: 7075124.131 (train time: 55.5 s = 0.9 min)\n",
      "epoch --- 38 train_loss: 6991609.205 (train time: 55.6 s = 0.9 min)\n",
      "epoch --- 39 train_loss: 6925466.496 (train time: 55.6 s = 0.9 min)\n",
      "epoch --- 40 train_loss: 6868328.553 (train time: 55.6 s = 0.9 min)\n",
      "epoch --- 41 train_loss: 6781155.344 (train time: 55.6 s = 0.9 min)\n",
      "epoch --- 42 train_loss: 6736743.061 (train time: 55.5 s = 0.9 min)\n",
      "epoch --- 43 train_loss: 6691003.473 (train time: 55.5 s = 0.9 min)\n",
      "epoch --- 44 train_loss: 6628097.926 (train time: 55.5 s = 0.9 min)\n",
      "epoch --- 45 train_loss: 6593740.645 (train time: 55.6 s = 0.9 min)\n",
      "epoch --- 46 train_loss: 6534497.389 (train time: 55.6 s = 0.9 min)\n",
      "epoch --- 47 train_loss: 6471404.379 (train time: 55.5 s = 0.9 min)\n",
      "epoch --- 48 train_loss: 6424924.891 (train time: 55.6 s = 0.9 min)\n",
      "epoch --- 49 train_loss: 6371912.100 (train time: 55.5 s = 0.9 min)\n",
      "epoch --- 50 train_loss: 6343692.586 (train time: 55.6 s = 0.9 min)\n",
      "epoch --- 51 train_loss: 6306079.428 (train time: 55.6 s = 0.9 min)\n",
      "epoch --- 52 train_loss: 6263691.479 (train time: 55.5 s = 0.9 min)\n",
      "epoch --- 53 train_loss: 6210508.482 (train time: 55.6 s = 0.9 min)\n",
      "epoch --- 54 train_loss: 6184001.797 (train time: 55.6 s = 0.9 min)\n",
      "epoch --- 55 train_loss: 6131217.193 (train time: 55.5 s = 0.9 min)\n",
      "epoch --- 56 train_loss: 6101492.812 (train time: 55.5 s = 0.9 min)\n",
      "epoch --- 57 train_loss: 6075117.604 (train time: 55.6 s = 0.9 min)\n",
      "epoch --- 58 train_loss: 6058516.074 (train time: 55.6 s = 0.9 min)\n",
      "epoch --- 59 train_loss: 6030565.799 (train time: 55.6 s = 0.9 min)\n",
      "epoch --- 60 train_loss: 5997654.248 (train time: 55.6 s = 0.9 min)\n",
      "epoch --- 61 train_loss: 5945729.271 (train time: 55.6 s = 0.9 min)\n",
      "epoch --- 62 train_loss: 5921610.320 (train time: 55.5 s = 0.9 min)\n",
      "epoch --- 63 train_loss: 5911275.146 (train time: 55.7 s = 0.9 min)\n",
      "epoch --- 64 train_loss: 5880716.969 (train time: 55.7 s = 0.9 min)\n",
      "epoch --- 65 train_loss: 5820685.342 (train time: 55.7 s = 0.9 min)\n",
      "epoch --- 66 train_loss: 5815734.873 (train time: 55.6 s = 0.9 min)\n",
      "epoch --- 67 train_loss: 5792654.590 (train time: 55.6 s = 0.9 min)\n",
      "epoch --- 68 train_loss: 5739811.266 (train time: 55.6 s = 0.9 min)\n",
      "epoch --- 69 train_loss: 5753349.686 (train time: 55.6 s = 0.9 min)\n",
      "epoch --- 70 train_loss: 5724686.189 (train time: 55.6 s = 0.9 min)\n",
      "epoch --- 71 train_loss: 5699113.068 (train time: 55.6 s = 0.9 min)\n",
      "epoch --- 72 train_loss: 5666496.604 (train time: 55.6 s = 0.9 min)\n",
      "epoch --- 73 train_loss: 5626941.879 (train time: 55.6 s = 0.9 min)\n",
      "epoch --- 74 train_loss: 5612545.359 (train time: 55.6 s = 0.9 min)\n",
      "epoch --- 75 train_loss: 5614879.926 (train time: 55.7 s = 0.9 min)\n",
      "epoch --- 76 train_loss: 5620623.408 (train time: 55.6 s = 0.9 min)\n",
      "epoch --- 77 train_loss: 5548252.869 (train time: 55.6 s = 0.9 min)\n",
      "epoch --- 78 train_loss: 5559314.324 (train time: 55.6 s = 0.9 min)\n",
      "epoch --- 79 train_loss: 5626087.777 (train time: 55.6 s = 0.9 min)\n",
      "epoch --- 80 train_loss: 5504844.070 (train time: 55.6 s = 0.9 min)\n",
      "epoch --- 81 train_loss: 5486043.490 (train time: 55.5 s = 0.9 min)\n",
      "epoch --- 82 train_loss: 5466950.164 (train time: 55.6 s = 0.9 min)\n",
      "epoch --- 83 train_loss: 5454878.158 (train time: 55.6 s = 0.9 min)\n",
      "epoch --- 84 train_loss: 5459801.688 (train time: 55.6 s = 0.9 min)\n",
      "epoch --- 85 train_loss: 5453435.504 (train time: 55.5 s = 0.9 min)\n",
      "epoch --- 86 train_loss: 5394554.283 (train time: 55.6 s = 0.9 min)\n",
      "epoch --- 87 train_loss: 5376188.754 (train time: 55.7 s = 0.9 min)\n",
      "epoch --- 88 train_loss: 5359150.414 (train time: 55.6 s = 0.9 min)\n",
      "epoch --- 89 train_loss: 5346193.094 (train time: 55.7 s = 0.9 min)\n",
      "epoch --- 90 train_loss: 5335626.215 (train time: 55.7 s = 0.9 min)\n",
      "epoch --- 91 train_loss: 5346727.283 (train time: 55.5 s = 0.9 min)\n",
      "epoch --- 92 train_loss: 5322287.607 (train time: 55.6 s = 0.9 min)\n",
      "epoch --- 93 train_loss: 5282340.270 (train time: 55.6 s = 0.9 min)\n",
      "epoch --- 94 train_loss: 5242925.025 (train time: 55.6 s = 0.9 min)\n",
      "epoch --- 95 train_loss: 5284255.322 (train time: 55.6 s = 0.9 min)\n",
      "epoch --- 96 train_loss: 5242207.457 (train time: 55.6 s = 0.9 min)\n",
      "epoch --- 97 train_loss: 5254915.365 (train time: 55.6 s = 0.9 min)\n",
      "epoch --- 98 train_loss: 5234439.197 (train time: 55.6 s = 0.9 min)\n",
      "epoch --- 99 train_loss: 5211828.762 (train time: 55.6 s = 0.9 min)\n",
      "epoch --- 100 train_loss: 5204543.930 (train time: 55.7 s = 0.9 min)\n",
      "epoch --- 101 train_loss: 5207241.750 (train time: 55.6 s = 0.9 min)\n",
      "epoch --- 102 train_loss: 5151841.221 (train time: 55.9 s = 0.9 min)\n",
      "epoch --- 103 train_loss: 5163837.154 (train time: 55.7 s = 0.9 min)\n",
      "epoch --- 104 train_loss: 5135138.283 (train time: 55.6 s = 0.9 min)\n",
      "epoch --- 105 train_loss: 5120956.055 (train time: 56.0 s = 0.9 min)\n"
     ]
    }
   ],
   "source": [
    "for n in range(num_save):\n",
    "    if n == 325 :\n",
    "        optimizer.defaults[\"lr\"] = 0.0005\n",
    "    if n == 375:\n",
    "        optimizer.defaults[\"lr\"] = 0.0001\n",
    "    for epoch in range(num_epochs):\n",
    "        \n",
    "        t1 = time.time()\n",
    "        loss_sum = 0.0\n",
    "        for i, batch_imgs in enumerate(dataloader):\n",
    "            optimizer.zero_grad()\n",
    "            reconstructed_imgs, mu, logvar = model(batch_imgs.to(device))\n",
    "            loss = loss_function(reconstructed_imgs, batch_imgs.to(device), mu, logvar)\n",
    "            loss.backward()\n",
    "            optimizer.step()\n",
    "            loss_sum += loss.item()\n",
    "\n",
    "        t2 = time.time()\n",
    "        train_ls.append(loss_sum)\n",
    "\n",
    "        print(\"epoch --- %d train_loss: %.3f (train time: %.1f s = %.1f min)\" %(n * num_epochs + epoch + 1, loss_sum, t2 - t1, (t2 - t1) / 60))\n",
    "    if n % 10 == 0:\n",
    "        torch.save(model.state_dict(), \"../model_pths/\" + model_name + \".pth\")\n",
    "        with open(\"train_ls.pkl\", \"wb\") as f:\n",
    "            pickle.dump(train_ls, f)"
   ]
  },
  {
   "cell_type": "code",
   "execution_count": null,
   "metadata": {},
   "outputs": [],
   "source": [
    "torch.save(model.state_dict(), \"../model_pths/\" + model_name + \".pth\")\n",
    "with open(\"train_ls.pkl\", \"wb\") as f:\n",
    "    pickle.dump(train_ls, f)"
   ]
  },
  {
   "cell_type": "code",
   "execution_count": 31,
   "metadata": {},
   "outputs": [],
   "source": [
    "def plot_results(result, which_result, condition, save_or_not=True):\n",
    "    plt.clf()\n",
    "    plt.plot(result)\n",
    "    plt.title(condition + \"_\" + which_result)\n",
    "    plt.savefig(condition + \"_\" + which_result + \".png\") if save_or_not else plt.show()"
   ]
  },
  {
   "cell_type": "code",
   "execution_count": 32,
   "metadata": {},
   "outputs": [],
   "source": [
    "loss_img_path = \"../loss_imgs/\"\n",
    "condition = \"ConvVAE_224to64\""
   ]
  },
  {
   "cell_type": "code",
   "execution_count": 33,
   "metadata": {},
   "outputs": [
    {
     "data": {
      "image/png": "[encoded data removed]",
      "text/plain": [
       "<Figure size 432x288 with 1 Axes>"
      ]
     },
     "metadata": {
      "needs_background": "light"
     },
     "output_type": "display_data"
    }
   ],
   "source": [
    "plot_results(train_ls, \"train_loss\", loss_img_path + condition)"
   ]
  },
  {
   "cell_type": "code",
   "execution_count": 34,
   "metadata": {},
   "outputs": [],
   "source": [
    "poses = [1000,2000,3000,4000,5000,6000]"
   ]
  },
  {
   "cell_type": "code",
   "execution_count": 37,
   "metadata": {
    "scrolled": true
   },
   "outputs": [
    {
     "data": {
      "text/plain": [
       "<Figure size 432x288 with 0 Axes>"
      ]
     },
     "metadata": {},
     "output_type": "display_data"
    },
    {
     "data": {
      "image/png": "[encoded data removed]",
      "text/plain": [
       "<Figure size 1080x5400 with 6 Axes>"
      ]
     },
     "metadata": {
      "needs_background": "light"
     },
     "output_type": "display_data"
    }
   ],
   "source": [
    "imshow_conv(dataset, poses)"
   ]
  },
  {
   "cell_type": "code",
   "execution_count": 44,
   "metadata": {
    "scrolled": true
   },
   "outputs": [
    {
     "data": {
      "text/plain": [
       "<Figure size 432x288 with 0 Axes>"
      ]
     },
     "metadata": {},
     "output_type": "display_data"
    },
    {
     "data": {
      "image/png": "[encoded data removed]",
      "text/plain": [
       "<Figure size 1080x5400 with 6 Axes>"
      ]
     },
     "metadata": {
      "needs_background": "light"
     },
     "output_type": "display_data"
    }
   ],
   "source": [
    "imshow_conv(dataset, poses, model=model, device=device)"
   ]
  }
 ],
 "metadata": {
  "kernelspec": {
   "display_name": "Python 3",
   "language": "python",
   "name": "python3"
  },
  "language_info": {
   "codemirror_mode": {
    "name": "ipython",
    "version": 3
   },
   "file_extension": ".py",
   "mimetype": "text/x-python",
   "name": "python",
   "nbconvert_exporter": "python",
   "pygments_lexer": "ipython3",
   "version": "3.7.7"
  }
 },
 "nbformat": 4,
 "nbformat_minor": 4
}
