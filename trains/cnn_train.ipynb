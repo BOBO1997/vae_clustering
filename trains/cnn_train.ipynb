{
 "cells": [
  {
   "cell_type": "code",
   "execution_count": 1,
   "metadata": {},
   "outputs": [],
   "source": [
    "import importlib\n",
    "import matplotlib.pyplot as plt\n",
    "%matplotlib inline\n",
    "import numpy as np\n",
    "import os\n",
    "import pickle\n",
    "from pprint import pprint\n",
    "import random\n",
    "import sys\n",
    "import time\n",
    "import torch\n",
    "import torch.nn as nn\n",
    "import torch.nn.functional as F\n",
    "import torch.optim as optim\n",
    "import torchvision\n",
    "from torchvision import datasets,models, transforms\n",
    "from torch.utils import data\n",
    "import random"
   ]
  },
  {
   "cell_type": "code",
   "execution_count": 2,
   "metadata": {},
   "outputs": [],
   "source": [
    "sys.path.append(\"/home/kwk/share/mizuho/u00257/vae_clustering/src/\")\n",
    "sys.path.append(\"/home/kwk/share/mizuho/u00257/vae_clustering/src/lib/\")"
   ]
  },
  {
   "cell_type": "code",
   "execution_count": 3,
   "metadata": {},
   "outputs": [],
   "source": [
    "# import cnn_dataset\n",
    "# importlib.reload(cnn_dataset)\n",
    "from cnn_dataset import cnn_dataset\n",
    "from skimage import io, transform"
   ]
  },
  {
   "cell_type": "markdown",
   "metadata": {},
   "source": [
    "## num_classesを変更してください！"
   ]
  },
  {
   "cell_type": "code",
   "execution_count": 1,
   "metadata": {},
   "outputs": [
    {
     "ename": "NameError",
     "evalue": "name 'cnn_dataset' is not defined",
     "output_type": "error",
     "traceback": [
      "\u001b[0;31m---------------------------------------------------------------------------\u001b[0m",
      "\u001b[0;31mNameError\u001b[0m                                 Traceback (most recent call last)",
      "\u001b[0;32m<ipython-input-1-b1ae28bcc83e>\u001b[0m in \u001b[0;36m<module>\u001b[0;34m\u001b[0m\n\u001b[1;32m      5\u001b[0m \u001b[0mnum_clusters\u001b[0m \u001b[0;34m=\u001b[0m \u001b[0;36m1000\u001b[0m \u001b[0;31m### num_classes 要変更!!\u001b[0m\u001b[0;34m\u001b[0m\u001b[0;34m\u001b[0m\u001b[0m\n\u001b[1;32m      6\u001b[0m \u001b[0mpkl_labels\u001b[0m \u001b[0;34m=\u001b[0m \u001b[0mdata_pkls\u001b[0m \u001b[0;34m+\u001b[0m \u001b[0;34m\"labels\"\u001b[0m \u001b[0;34m+\u001b[0m \u001b[0mstr\u001b[0m\u001b[0;34m(\u001b[0m\u001b[0mnum_clusters\u001b[0m\u001b[0;34m)\u001b[0m \u001b[0;34m+\u001b[0m  \u001b[0;34m\"_convvae\"\u001b[0m \u001b[0;34m+\u001b[0m \u001b[0;34m\".pkl\"\u001b[0m\u001b[0;34m\u001b[0m\u001b[0;34m\u001b[0m\u001b[0m\n\u001b[0;32m----> 7\u001b[0;31m \u001b[0mdataset\u001b[0m \u001b[0;34m=\u001b[0m \u001b[0mcnn_dataset\u001b[0m\u001b[0;34m(\u001b[0m\u001b[0mpkl_files\u001b[0m\u001b[0;34m,\u001b[0m \u001b[0mpkl_labels\u001b[0m\u001b[0;34m,\u001b[0m \u001b[0mclasses\u001b[0m\u001b[0;34m=\u001b[0m\u001b[0mnum_clusters\u001b[0m\u001b[0;34m)\u001b[0m\u001b[0;34m\u001b[0m\u001b[0;34m\u001b[0m\u001b[0m\n\u001b[0m\u001b[1;32m      8\u001b[0m \u001b[0;34m\u001b[0m\u001b[0m\n\u001b[1;32m      9\u001b[0m \u001b[0mtrain_size\u001b[0m \u001b[0;34m=\u001b[0m \u001b[0mint\u001b[0m\u001b[0;34m(\u001b[0m\u001b[0mlen\u001b[0m\u001b[0;34m(\u001b[0m\u001b[0mdataset\u001b[0m\u001b[0;34m)\u001b[0m \u001b[0;34m*\u001b[0m \u001b[0;36m0.8\u001b[0m\u001b[0;34m)\u001b[0m\u001b[0;34m\u001b[0m\u001b[0;34m\u001b[0m\u001b[0m\n",
      "\u001b[0;31mNameError\u001b[0m: name 'cnn_dataset' is not defined"
     ]
    }
   ],
   "source": [
    "batch_size = 50\n",
    "\n",
    "data_pkls = \"../data_pkls/\"\n",
    "pkl_files = [data_pkls + \"imgs128_1.pkl\", data_pkls + \"imgs128_2.pkl\", data_pkls + \"imgs128_3.pkl\"]\n",
    "num_clusters = 1000 ### num_classes 要変更!!\n",
    "pkl_labels = data_pkls + \"labels\" + str(num_clusters) +  \"_convvae\" + \".pkl\"\n",
    "dataset = cnn_dataset(pkl_files, pkl_labels, classes=num_clusters) \n",
    "\n",
    "train_size = int(len(dataset) * 0.8)\n",
    "test_size = len(dataset) - train_size\n",
    "train_dataset, test_dataset = torch.utils.data.random_split(dataset, [train_size, test_size])\n",
    "\n",
    "trainloader = torch.utils.data.DataLoader(train_dataset, batch_size=batch_size, shuffle=True, drop_last=True)\n",
    "testloader = torch.utils.data.DataLoader(train_dataset, batch_size=batch_size, shuffle=True, drop_last=True)"
   ]
  },
  {
   "cell_type": "code",
   "execution_count": 5,
   "metadata": {
    "scrolled": true
   },
   "outputs": [
    {
     "name": "stdout",
     "output_type": "stream",
     "text": [
      "tensor([[[0., 0., 0.,  ..., 0., 0., 0.],\n",
      "         [0., 0., 0.,  ..., 0., 0., 0.],\n",
      "         [0., 0., 0.,  ..., 0., 0., 0.],\n",
      "         ...,\n",
      "         [0., 0., 0.,  ..., 0., 0., 0.],\n",
      "         [0., 0., 0.,  ..., 0., 0., 0.],\n",
      "         [0., 0., 0.,  ..., 0., 0., 0.]],\n",
      "\n",
      "        [[0., 0., 0.,  ..., 0., 0., 0.],\n",
      "         [0., 0., 0.,  ..., 0., 0., 0.],\n",
      "         [0., 0., 0.,  ..., 0., 0., 0.],\n",
      "         ...,\n",
      "         [0., 0., 0.,  ..., 0., 0., 0.],\n",
      "         [0., 0., 0.,  ..., 0., 0., 0.],\n",
      "         [0., 0., 0.,  ..., 0., 0., 0.]],\n",
      "\n",
      "        [[0., 0., 0.,  ..., 0., 0., 0.],\n",
      "         [0., 0., 0.,  ..., 0., 0., 0.],\n",
      "         [0., 0., 0.,  ..., 0., 0., 0.],\n",
      "         ...,\n",
      "         [0., 0., 0.,  ..., 0., 0., 0.],\n",
      "         [0., 0., 0.,  ..., 0., 0., 0.],\n",
      "         [0., 0., 0.,  ..., 0., 0., 0.]]], device='cuda:0') torch.Size([3, 224, 224])\n",
      "621\n"
     ]
    }
   ],
   "source": [
    "img, label = dataset[0]\n",
    "print(img, img.shape)\n",
    "print(label)"
   ]
  },
  {
   "cell_type": "code",
   "execution_count": 6,
   "metadata": {
    "scrolled": true
   },
   "outputs": [
    {
     "name": "stdout",
     "output_type": "stream",
     "text": [
      "cuda\n"
     ]
    }
   ],
   "source": [
    "device = torch.device('cuda' if torch.cuda.is_available() else 'cpu')\n",
    "print(device)"
   ]
  },
  {
   "cell_type": "code",
   "execution_count": 7,
   "metadata": {},
   "outputs": [],
   "source": [
    "def train(net, criterion, optimizer, n_epoch = 2, model_name = \"cnn\"):\n",
    "\n",
    "    net.train()  # ネットワークを訓練状態へ切り替える\n",
    "    train_loss = []\n",
    "    test_loss = []\n",
    "    loss_interval = 2000 // 50\n",
    "    for epoch in range(n_epoch):  # 訓練データを複数回(n_epoch 周分)学習する\n",
    "        t1 = time.time()\n",
    "        for i, data in enumerate(trainloader, 0):\n",
    "            # ローダからデータを読み込む; データは [inputs, labels] の形で取得される\n",
    "            inputs, labels = data[0].to(device), data[1].to(device)\n",
    "\n",
    "            # 勾配を0に初期化する(逆伝播に備える)\n",
    "            optimizer.zero_grad()\n",
    "\n",
    "            # 順伝播 + 逆伝播 + 最適化\n",
    "            outputs = net(inputs)\n",
    "            loss = criterion(outputs, labels.to(torch.long))\n",
    "            loss.backward()\n",
    "            optimizer.step()\n",
    "\n",
    "            # 統計を計算する\n",
    "            if i % loss_interval == (loss_interval - 1):    # loss_interval ミニバッチ毎に計算する\n",
    "                train_loss.append(loss.item())\n",
    "\n",
    "                # テストデータに対する損失を計算する(訓練はしない)\n",
    "                with torch.no_grad():  #勾配計算をしない宣言(逆伝播用の計算グラフを作成しないことでメモリ節約、速度向上する)\n",
    "                    data = iter(testloader).next()  #  テストデータを1ミニバッチ取得する\n",
    "                    inputs, labels = data[0].to(device), data[1].to(device)\n",
    "                    outputs = net(inputs)\n",
    "                    loss = criterion(outputs, labels.to(torch.long))\n",
    "                    test_loss.append(loss.item())\n",
    "        t2 = time.time()\n",
    "        print('epoch {}/{} finished, loss: {}, time: {}s'.format(epoch+1,n_epoch, train_loss[-1], t2 - t1))\n",
    "        torch.save(net.state_dict(), \"../model_pths/\" + model_name + \".pth\")\n",
    "            \n",
    "    print('Finished Training')\n",
    "    return train_loss, test_loss\n",
    "\n",
    "# 損失の変遷を表示する関数\n",
    "def show_loss(train_loss, test_loss):\n",
    "    plt.xlabel(\"iter\")\n",
    "    plt.ylabel(\"loss\")\n",
    "    x = [i*loss_interval for i in range(len(train_loss))]\n",
    "    plt.plot(x, train_loss, label='train_loss')\n",
    "    plt.plot(x, test_loss, label='test_loss')\n",
    "    plt.legend()\n",
    "    plt.show()\n",
    "\n",
    "# ネットワークの予測精度を計算する関数\n",
    "def check_accuracy(net):\n",
    "    net.eval()  # ネットワークを評価状態へ切り替える\n",
    "    ret = []\n",
    "    with torch.no_grad():  #勾配計算をしない宣言(逆伝播用の計算グラフを作成しないことでメモリ節約、速度向上する)\n",
    "        for loader, name in [[trainloader, 'train'], [testloader, 'test']]:\n",
    "            correct = 0\n",
    "            total = 0\n",
    "            for data in loader:\n",
    "                images, labels = data[0].to(device), data[1]\n",
    "                labels = labels.to(device=device, dtype=torch.int64)\n",
    "                outputs = net(images)\n",
    "                _, predicted = torch.max(outputs.data, 1)\n",
    "                total += labels.size(0)\n",
    "                correct += (predicted == labels).sum().item()\n",
    "            ret.append(100 * correct / total)\n",
    "            print('Accuracy of the network on the {} images: {:.2f} %'.format(name, ret[-1]))\n",
    "\n",
    "    return ret"
   ]
  },
  {
   "cell_type": "code",
   "execution_count": 8,
   "metadata": {
    "scrolled": true
   },
   "outputs": [
    {
     "data": {
      "text/plain": [
       "VGG(\n",
       "  (features): Sequential(\n",
       "    (0): Conv2d(3, 64, kernel_size=(3, 3), stride=(1, 1), padding=(1, 1))\n",
       "    (1): ReLU(inplace=True)\n",
       "    (2): Conv2d(64, 64, kernel_size=(3, 3), stride=(1, 1), padding=(1, 1))\n",
       "    (3): ReLU(inplace=True)\n",
       "    (4): MaxPool2d(kernel_size=2, stride=2, padding=0, dilation=1, ceil_mode=False)\n",
       "    (5): Conv2d(64, 128, kernel_size=(3, 3), stride=(1, 1), padding=(1, 1))\n",
       "    (6): ReLU(inplace=True)\n",
       "    (7): Conv2d(128, 128, kernel_size=(3, 3), stride=(1, 1), padding=(1, 1))\n",
       "    (8): ReLU(inplace=True)\n",
       "    (9): MaxPool2d(kernel_size=2, stride=2, padding=0, dilation=1, ceil_mode=False)\n",
       "    (10): Conv2d(128, 256, kernel_size=(3, 3), stride=(1, 1), padding=(1, 1))\n",
       "    (11): ReLU(inplace=True)\n",
       "    (12): Conv2d(256, 256, kernel_size=(3, 3), stride=(1, 1), padding=(1, 1))\n",
       "    (13): ReLU(inplace=True)\n",
       "    (14): Conv2d(256, 256, kernel_size=(3, 3), stride=(1, 1), padding=(1, 1))\n",
       "    (15): ReLU(inplace=True)\n",
       "    (16): MaxPool2d(kernel_size=2, stride=2, padding=0, dilation=1, ceil_mode=False)\n",
       "    (17): Conv2d(256, 512, kernel_size=(3, 3), stride=(1, 1), padding=(1, 1))\n",
       "    (18): ReLU(inplace=True)\n",
       "    (19): Conv2d(512, 512, kernel_size=(3, 3), stride=(1, 1), padding=(1, 1))\n",
       "    (20): ReLU(inplace=True)\n",
       "    (21): Conv2d(512, 512, kernel_size=(3, 3), stride=(1, 1), padding=(1, 1))\n",
       "    (22): ReLU(inplace=True)\n",
       "    (23): MaxPool2d(kernel_size=2, stride=2, padding=0, dilation=1, ceil_mode=False)\n",
       "    (24): Conv2d(512, 512, kernel_size=(3, 3), stride=(1, 1), padding=(1, 1))\n",
       "    (25): ReLU(inplace=True)\n",
       "    (26): Conv2d(512, 512, kernel_size=(3, 3), stride=(1, 1), padding=(1, 1))\n",
       "    (27): ReLU(inplace=True)\n",
       "    (28): Conv2d(512, 512, kernel_size=(3, 3), stride=(1, 1), padding=(1, 1))\n",
       "    (29): ReLU(inplace=True)\n",
       "    (30): MaxPool2d(kernel_size=2, stride=2, padding=0, dilation=1, ceil_mode=False)\n",
       "  )\n",
       "  (avgpool): AdaptiveAvgPool2d(output_size=(7, 7))\n",
       "  (classifier): Sequential(\n",
       "    (0): Linear(in_features=25088, out_features=4096, bias=True)\n",
       "    (1): ReLU(inplace=True)\n",
       "    (2): Dropout(p=0.5, inplace=False)\n",
       "    (3): Linear(in_features=4096, out_features=4096, bias=True)\n",
       "    (4): ReLU(inplace=True)\n",
       "    (5): Dropout(p=0.5, inplace=False)\n",
       "    (6): Linear(in_features=4096, out_features=1000, bias=True)\n",
       "  )\n",
       ")"
      ]
     },
     "execution_count": 8,
     "metadata": {},
     "output_type": "execute_result"
    }
   ],
   "source": [
    "net = models.vgg16()\n",
    "net.classifier[6] = nn.Linear(in_features=4096, out_features=num_clusters)\n",
    "net.to(device)"
   ]
  },
  {
   "cell_type": "markdown",
   "metadata": {},
   "source": [
    "## エポック数を変更してください！！"
   ]
  },
  {
   "cell_type": "code",
   "execution_count": 9,
   "metadata": {},
   "outputs": [],
   "source": [
    "model_name = \"cnn1000classes\""
   ]
  },
  {
   "cell_type": "code",
   "execution_count": 10,
   "metadata": {
    "scrolled": true
   },
   "outputs": [
    {
     "name": "stdout",
     "output_type": "stream",
     "text": [
      "epoch 1/50 finished, loss: 6.822393894195557, time: 213.33466339111328s\n",
      "epoch 2/50 finished, loss: 6.823824405670166, time: 212.28481483459473s\n",
      "epoch 3/50 finished, loss: 6.902531623840332, time: 212.19919610023499s\n",
      "epoch 4/50 finished, loss: 6.893877029418945, time: 212.55189776420593s\n",
      "epoch 5/50 finished, loss: 6.923060894012451, time: 212.45243191719055s\n",
      "epoch 6/50 finished, loss: 6.835181713104248, time: 212.18410539627075s\n",
      "epoch 7/50 finished, loss: 6.7937493324279785, time: 212.19052910804749s\n",
      "epoch 8/50 finished, loss: 6.823001861572266, time: 212.4788212776184s\n",
      "epoch 9/50 finished, loss: 6.834223747253418, time: 212.1166250705719s\n",
      "epoch 10/50 finished, loss: 6.85548210144043, time: 212.07891464233398s\n",
      "epoch 11/50 finished, loss: 6.829977512359619, time: 212.58235669136047s\n",
      "epoch 12/50 finished, loss: 6.900691032409668, time: 212.43163514137268s\n",
      "epoch 13/50 finished, loss: 6.829103469848633, time: 211.9722399711609s\n",
      "epoch 14/50 finished, loss: 6.818103790283203, time: 212.08832716941833s\n",
      "epoch 15/50 finished, loss: 6.905309677124023, time: 212.34689211845398s\n",
      "epoch 16/50 finished, loss: 6.786248683929443, time: 213.3991425037384s\n",
      "epoch 17/50 finished, loss: 6.786611557006836, time: 212.31372952461243s\n",
      "epoch 18/50 finished, loss: 6.8198747634887695, time: 212.81299495697021s\n",
      "epoch 19/50 finished, loss: 6.905099391937256, time: 212.58936715126038s\n"
     ]
    },
    {
     "name": "stderr",
     "output_type": "stream",
     "text": [
      "ERROR:root:Internal Python error in the inspect module.\n",
      "Below is the traceback from this internal error.\n",
      "\n"
     ]
    },
    {
     "name": "stdout",
     "output_type": "stream",
     "text": [
      "Traceback (most recent call last):\n",
      "  File \"/home/u00257/anaconda3/lib/python3.7/site-packages/IPython/core/interactiveshell.py\", line 3331, in run_code\n",
      "    exec(code_obj, self.user_global_ns, self.user_ns)\n",
      "  File \"<ipython-input-10-e53e60db18ae>\", line 7, in <module>\n",
      "    train_loss, test_loss = train(net, criterion, optimizer, n_epoch = n_epoch, model_name=model_name)  # ネットワークを訓練する\n",
      "  File \"<ipython-input-7-42ed0c5f5d43>\", line 9, in train\n",
      "    for i, data in enumerate(trainloader, 0):\n",
      "  File \"/home/u00257/anaconda3/lib/python3.7/site-packages/torch/utils/data/dataloader.py\", line 345, in __next__\n",
      "    data = self._next_data()\n",
      "  File \"/home/u00257/anaconda3/lib/python3.7/site-packages/torch/utils/data/dataloader.py\", line 385, in _next_data\n",
      "    data = self._dataset_fetcher.fetch(index)  # may raise StopIteration\n",
      "  File \"/home/u00257/anaconda3/lib/python3.7/site-packages/torch/utils/data/_utils/fetch.py\", line 44, in fetch\n",
      "    data = [self.dataset[idx] for idx in possibly_batched_index]\n",
      "  File \"/home/u00257/anaconda3/lib/python3.7/site-packages/torch/utils/data/_utils/fetch.py\", line 44, in <listcomp>\n",
      "    data = [self.dataset[idx] for idx in possibly_batched_index]\n",
      "  File \"/home/u00257/anaconda3/lib/python3.7/site-packages/torch/utils/data/dataset.py\", line 257, in __getitem__\n",
      "    return self.dataset[self.indices[idx]]\n",
      "  File \"/home/kwk/share/mizuho/u00257/vae_clustering/src/lib/cnn_dataset.py\", line 44, in __getitem__\n",
      "    img = torch.tensor(img, dtype=torch.float32).expand(3, img.shape[0], img.shape[1]) # (-1, 3, -1, -1)\n",
      "KeyboardInterrupt\n",
      "\n",
      "During handling of the above exception, another exception occurred:\n",
      "\n",
      "Traceback (most recent call last):\n",
      "  File \"/home/u00257/anaconda3/lib/python3.7/site-packages/IPython/core/interactiveshell.py\", line 2044, in showtraceback\n",
      "    stb = value._render_traceback_()\n",
      "AttributeError: 'KeyboardInterrupt' object has no attribute '_render_traceback_'\n",
      "\n",
      "During handling of the above exception, another exception occurred:\n",
      "\n",
      "Traceback (most recent call last):\n",
      "  File \"/home/u00257/anaconda3/lib/python3.7/site-packages/IPython/core/ultratb.py\", line 1148, in get_records\n",
      "    return _fixed_getinnerframes(etb, number_of_lines_of_context, tb_offset)\n",
      "  File \"/home/u00257/anaconda3/lib/python3.7/site-packages/IPython/core/ultratb.py\", line 316, in wrapped\n",
      "    return f(*args, **kwargs)\n",
      "  File \"/home/u00257/anaconda3/lib/python3.7/site-packages/IPython/core/ultratb.py\", line 350, in _fixed_getinnerframes\n",
      "    records = fix_frame_records_filenames(inspect.getinnerframes(etb, context))\n",
      "  File \"/home/u00257/anaconda3/lib/python3.7/inspect.py\", line 1502, in getinnerframes\n",
      "    frameinfo = (tb.tb_frame,) + getframeinfo(tb, context)\n",
      "  File \"/home/u00257/anaconda3/lib/python3.7/inspect.py\", line 1460, in getframeinfo\n",
      "    filename = getsourcefile(frame) or getfile(frame)\n",
      "  File \"/home/u00257/anaconda3/lib/python3.7/inspect.py\", line 696, in getsourcefile\n",
      "    if getattr(getmodule(object, filename), '__loader__', None) is not None:\n",
      "  File \"/home/u00257/anaconda3/lib/python3.7/inspect.py\", line 739, in getmodule\n",
      "    f = getabsfile(module)\n",
      "  File \"/home/u00257/anaconda3/lib/python3.7/inspect.py\", line 708, in getabsfile\n",
      "    _filename = getsourcefile(object) or getfile(object)\n",
      "  File \"/home/u00257/anaconda3/lib/python3.7/inspect.py\", line 693, in getsourcefile\n",
      "    if os.path.exists(filename):\n",
      "  File \"/home/u00257/anaconda3/lib/python3.7/genericpath.py\", line 19, in exists\n",
      "    os.stat(path)\n",
      "KeyboardInterrupt\n"
     ]
    },
    {
     "ename": "KeyboardInterrupt",
     "evalue": "",
     "output_type": "error",
     "traceback": [
      "\u001b[0;31m---------------------------------------------------------------------------\u001b[0m"
     ]
    }
   ],
   "source": [
    "n_epoch = 50\n",
    "\n",
    "#損失関数と optimizer の定義\n",
    "criterion = nn.CrossEntropyLoss()\n",
    "optimizer = optim.Adam(net.parameters(), lr=0.001)\n",
    "\n",
    "train_loss, test_loss = train(net, criterion, optimizer, n_epoch = n_epoch, model_name=model_name)  # ネットワークを訓練する\n",
    "show_loss(train_loss, test_loss) # 損失の変遷を表示する\n",
    "acc = check_accuracy(net) # ネットワークの予測精度を計算する関数"
   ]
  }
 ],
 "metadata": {
  "kernelspec": {
   "display_name": "Python 3",
   "language": "python",
   "name": "python3"
  },
  "language_info": {
   "codemirror_mode": {
    "name": "ipython",
    "version": 3
   },
   "file_extension": ".py",
   "mimetype": "text/x-python",
   "name": "python",
   "nbconvert_exporter": "python",
   "pygments_lexer": "ipython3",
   "version": "3.7.7"
  }
 },
 "nbformat": 4,
 "nbformat_minor": 4
}
