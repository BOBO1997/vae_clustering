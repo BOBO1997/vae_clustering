{
 "cells": [
  {
   "cell_type": "markdown",
   "metadata": {},
   "source": [
    "# 訓練 (DenseVAE_2dim)\n",
    "\n",
    "## モデル\n",
    "\n",
    "### DenseVAE_2dim(\n",
    "\n",
    "-  (linear1): Linear(in_features=16384, out_features=4096, bias=True)\n",
    "-  (linear2): Linear(in_features=4096, out_features=1024, bias=True)\n",
    "-  (linear3): Linear(in_features=1024, out_features=256, bias=True)\n",
    "-  (linear4): Linear(in_features=256, out_features=64, bias=True)\n",
    "-  (linear5): Linear(in_features=64, out_features=16, bias=True)\n",
    "-  (linear_mean): Linear(in_features=16, out_features=2, bias=True)\n",
    "-  (linear_logvar): Linear(in_features=16, out_features=2, bias=True)\n",
    "-  (dec_linear6): Linear(in_features=2, out_features=16, bias=True)\n",
    "-  (dec_linear5): Linear(in_features=16, out_features=64, bias=True)\n",
    "-  (dec_linear4): Linear(in_features=64, out_features=256, bias=True)\n",
    "-  (dec_linear3): Linear(in_features=256, out_features=1024, bias=True)\n",
    "-  (dec_linear2): Linear(in_features=1024, out_features=4096, bias=True)\n",
    "-  (dec_linear1): Linear(in_features=4096, out_features=16384, bias=True)\n",
    ")\n",
    "\n",
    "### 潜在ベクトル: 64\n",
    "\n",
    "### 訓練\n",
    "\n",
    "- 400 epoch回したけど、もっと回しても良さそう"
   ]
  },
  {
   "cell_type": "code",
   "execution_count": 1,
   "metadata": {},
   "outputs": [],
   "source": [
    "import matplotlib.pyplot as plt\n",
    "%matplotlib inline\n",
    "import numpy as np\n",
    "import pickle\n",
    "from pprint import pprint\n",
    "import sys\n",
    "import time\n",
    "import torch\n",
    "import torch.nn as nn\n",
    "import torch.nn.functional as F\n",
    "import torch.optim as optim "
   ]
  },
  {
   "cell_type": "code",
   "execution_count": null,
   "metadata": {},
   "outputs": [],
   "source": [
    "sys.path.append(\"/home/kwk/share/mizuho/u00257/vae_clustering/src/\")"
   ]
  },
  {
   "cell_type": "code",
   "execution_count": 2,
   "metadata": {
    "scrolled": true
   },
   "outputs": [
    {
     "name": "stdout",
     "output_type": "stream",
     "text": [
      "cuda\n"
     ]
    }
   ],
   "source": [
    "device = torch.device('cuda' if torch.cuda.is_available() else 'cpu')\n",
    "print(device)"
   ]
  },
  {
   "cell_type": "code",
   "execution_count": 3,
   "metadata": {},
   "outputs": [
    {
     "data": {
      "text/plain": [
       "<module 'vae_model' from '/home/kwk/share/mizuho/u00257/vae_clustering/src/vae_model.py'>"
      ]
     },
     "execution_count": 3,
     "metadata": {},
     "output_type": "execute_result"
    }
   ],
   "source": [
    "import importlib\n",
    "import vae_model\n",
    "importlib.reload(vae_model)"
   ]
  },
  {
   "cell_type": "code",
   "execution_count": 4,
   "metadata": {},
   "outputs": [],
   "source": [
    "from vae_preprocess import dataset1d\n",
    "from vae_model import DenseVAE_2dim\n",
    "from img_shows import *"
   ]
  },
  {
   "cell_type": "code",
   "execution_count": 5,
   "metadata": {},
   "outputs": [],
   "source": [
    "batch_size = 100\n",
    "data_pkls = \"../data_pkls/\"\n",
    "pkl_files = [data_pkls + \"imgs128_1.pkl\", data_pkls + \"imgs128_2.pkl\", data_pkls + \"imgs128_3.pkl\"]\n",
    "dataset = dataset1d(pkl_files)\n",
    "dataloader = torch.utils.data.DataLoader(dataset, batch_size=batch_size, shuffle=True, drop_last=True)"
   ]
  },
  {
   "cell_type": "code",
   "execution_count": 6,
   "metadata": {},
   "outputs": [
    {
     "name": "stdout",
     "output_type": "stream",
     "text": [
      "torch.Size([16384])\n"
     ]
    }
   ],
   "source": [
    "print(dataset[0].shape)"
   ]
  },
  {
   "cell_type": "code",
   "execution_count": 7,
   "metadata": {
    "scrolled": false
   },
   "outputs": [
    {
     "data": {
      "text/plain": [
       "<matplotlib.image.AxesImage at 0x2b2dbadcbe90>"
      ]
     },
     "execution_count": 7,
     "metadata": {},
     "output_type": "execute_result"
    },
    {
     "data": {
      "image/png": "[encoded data removed]",
      "text/plain": [
       "<Figure size 432x288 with 1 Axes>"
      ]
     },
     "metadata": {
      "needs_background": "light"
     },
     "output_type": "display_data"
    }
   ],
   "source": [
    "plt.imshow(dataset[0].to(\"cpu\").reshape(128, 128), cmap = 'gray', vmin = 0, vmax = 1, interpolation = 'none')"
   ]
  },
  {
   "cell_type": "code",
   "execution_count": 8,
   "metadata": {
    "scrolled": true
   },
   "outputs": [
    {
     "name": "stdout",
     "output_type": "stream",
     "text": [
      "DenseVAE_2dim(\n",
      "  (linear1): Linear(in_features=16384, out_features=4096, bias=True)\n",
      "  (linear2): Linear(in_features=4096, out_features=1024, bias=True)\n",
      "  (linear3): Linear(in_features=1024, out_features=256, bias=True)\n",
      "  (linear4): Linear(in_features=256, out_features=64, bias=True)\n",
      "  (linear5): Linear(in_features=64, out_features=16, bias=True)\n",
      "  (linear_mean): Linear(in_features=16, out_features=2, bias=True)\n",
      "  (linear_logvar): Linear(in_features=16, out_features=2, bias=True)\n",
      "  (dec_linear6): Linear(in_features=2, out_features=16, bias=True)\n",
      "  (dec_linear5): Linear(in_features=16, out_features=64, bias=True)\n",
      "  (dec_linear4): Linear(in_features=64, out_features=256, bias=True)\n",
      "  (dec_linear3): Linear(in_features=256, out_features=1024, bias=True)\n",
      "  (dec_linear2): Linear(in_features=1024, out_features=4096, bias=True)\n",
      "  (dec_linear1): Linear(in_features=4096, out_features=16384, bias=True)\n",
      ")\n"
     ]
    }
   ],
   "source": [
    "model_name = \"DenseVAE_2dim\"\n",
    "img_size = 128\n",
    "model = DenseVAE_2dim(img_size).to(device)\n",
    "print(model)"
   ]
  },
  {
   "cell_type": "code",
   "execution_count": 9,
   "metadata": {},
   "outputs": [],
   "source": [
    "def loss_function(reconstructed_x, x, mu, logvar):\n",
    "    BCE = F.binary_cross_entropy(reconstructed_x, x, reduction='sum')\n",
    "    KLD = -0.5 * torch.sum(1 + logvar - mu.pow(2) - logvar.exp())\n",
    "    return BCE + KLD"
   ]
  },
  {
   "cell_type": "code",
   "execution_count": 10,
   "metadata": {},
   "outputs": [],
   "source": [
    "# criterion = nn.BCELoss()\n",
    "optimizer = torch.optim.Adam(model.parameters())"
   ]
  },
  {
   "cell_type": "code",
   "execution_count": 11,
   "metadata": {},
   "outputs": [],
   "source": [
    "num_save = 400\n",
    "num_epochs = 1\n",
    "train_ls = []"
   ]
  },
  {
   "cell_type": "markdown",
   "metadata": {},
   "source": [
    "### 訓練\n",
    "\n",
    "モデルの保存はCPUへ"
   ]
  },
  {
   "cell_type": "code",
   "execution_count": 12,
   "metadata": {
    "scrolled": true
   },
   "outputs": [
    {
     "name": "stdout",
     "output_type": "stream",
     "text": [
      "epoch --- 1 train_loss: 57223330.281 (train time: 12.8 s = 0.2 min)\n",
      "epoch --- 2 train_loss: 50990464.500 (train time: 12.1 s = 0.2 min)\n",
      "epoch --- 3 train_loss: 50463057.297 (train time: 12.3 s = 0.2 min)\n",
      "epoch --- 4 train_loss: 50171152.781 (train time: 12.0 s = 0.2 min)\n",
      "epoch --- 5 train_loss: 49810972.266 (train time: 12.2 s = 0.2 min)\n",
      "epoch --- 6 train_loss: 49532186.844 (train time: 12.0 s = 0.2 min)\n",
      "epoch --- 7 train_loss: 49363367.203 (train time: 11.9 s = 0.2 min)\n",
      "epoch --- 8 train_loss: 49213167.266 (train time: 12.1 s = 0.2 min)\n",
      "epoch --- 9 train_loss: 49077445.438 (train time: 12.1 s = 0.2 min)\n",
      "epoch --- 10 train_loss: 48956497.594 (train time: 12.0 s = 0.2 min)\n",
      "epoch --- 11 train_loss: 48864321.375 (train time: 12.0 s = 0.2 min)\n",
      "epoch --- 12 train_loss: 48775565.312 (train time: 12.1 s = 0.2 min)\n",
      "epoch --- 13 train_loss: 48703948.703 (train time: 12.1 s = 0.2 min)\n",
      "epoch --- 14 train_loss: 48627196.719 (train time: 11.9 s = 0.2 min)\n",
      "epoch --- 15 train_loss: 48572783.922 (train time: 11.8 s = 0.2 min)\n",
      "epoch --- 16 train_loss: 48526275.703 (train time: 12.0 s = 0.2 min)\n",
      "epoch --- 17 train_loss: 48453237.578 (train time: 12.1 s = 0.2 min)\n",
      "epoch --- 18 train_loss: 48440995.297 (train time: 12.0 s = 0.2 min)\n",
      "epoch --- 19 train_loss: 48424948.484 (train time: 11.9 s = 0.2 min)\n",
      "epoch --- 20 train_loss: 48344162.062 (train time: 11.9 s = 0.2 min)\n",
      "epoch --- 21 train_loss: 48284770.094 (train time: 12.0 s = 0.2 min)\n",
      "epoch --- 22 train_loss: 48339377.953 (train time: 12.1 s = 0.2 min)\n",
      "epoch --- 23 train_loss: 48209083.656 (train time: 12.0 s = 0.2 min)\n",
      "epoch --- 24 train_loss: 48194892.406 (train time: 11.8 s = 0.2 min)\n",
      "epoch --- 25 train_loss: 48157807.016 (train time: 11.9 s = 0.2 min)\n",
      "epoch --- 26 train_loss: 48134394.391 (train time: 12.1 s = 0.2 min)\n",
      "epoch --- 27 train_loss: 48133052.328 (train time: 12.1 s = 0.2 min)\n",
      "epoch --- 28 train_loss: 48114283.688 (train time: 11.9 s = 0.2 min)\n",
      "epoch --- 29 train_loss: 48104417.719 (train time: 11.8 s = 0.2 min)\n",
      "epoch --- 30 train_loss: 48026900.844 (train time: 12.0 s = 0.2 min)\n",
      "epoch --- 31 train_loss: 48009463.859 (train time: 12.0 s = 0.2 min)\n",
      "epoch --- 32 train_loss: 48055025.469 (train time: 12.0 s = 0.2 min)\n",
      "epoch --- 33 train_loss: 47968494.984 (train time: 11.8 s = 0.2 min)\n",
      "epoch --- 34 train_loss: 47933482.594 (train time: 11.8 s = 0.2 min)\n",
      "epoch --- 35 train_loss: 47889611.203 (train time: 12.0 s = 0.2 min)\n",
      "epoch --- 36 train_loss: 47834078.703 (train time: 12.0 s = 0.2 min)\n",
      "epoch --- 37 train_loss: 47882408.781 (train time: 11.9 s = 0.2 min)\n",
      "epoch --- 38 train_loss: 47848398.391 (train time: 11.8 s = 0.2 min)\n",
      "epoch --- 39 train_loss: 47917165.422 (train time: 11.9 s = 0.2 min)\n",
      "epoch --- 40 train_loss: 47794387.344 (train time: 12.1 s = 0.2 min)\n",
      "epoch --- 41 train_loss: 47779149.109 (train time: 12.1 s = 0.2 min)\n",
      "epoch --- 42 train_loss: 47794497.781 (train time: 11.9 s = 0.2 min)\n",
      "epoch --- 43 train_loss: 47804359.719 (train time: 11.8 s = 0.2 min)\n",
      "epoch --- 44 train_loss: 47868110.594 (train time: 12.0 s = 0.2 min)\n",
      "epoch --- 45 train_loss: 47695626.328 (train time: 12.1 s = 0.2 min)\n",
      "epoch --- 46 train_loss: 47818452.984 (train time: 12.0 s = 0.2 min)\n",
      "epoch --- 47 train_loss: 47711554.922 (train time: 11.8 s = 0.2 min)\n",
      "epoch --- 48 train_loss: 47712411.391 (train time: 11.9 s = 0.2 min)\n",
      "epoch --- 49 train_loss: 47667085.344 (train time: 12.1 s = 0.2 min)\n",
      "epoch --- 50 train_loss: 47589930.906 (train time: 12.1 s = 0.2 min)\n",
      "epoch --- 51 train_loss: 47623774.656 (train time: 12.0 s = 0.2 min)\n",
      "epoch --- 52 train_loss: 47620924.234 (train time: 11.8 s = 0.2 min)\n",
      "epoch --- 53 train_loss: 47581130.938 (train time: 12.0 s = 0.2 min)\n",
      "epoch --- 54 train_loss: 47633506.891 (train time: 12.1 s = 0.2 min)\n",
      "epoch --- 55 train_loss: 47620178.234 (train time: 12.1 s = 0.2 min)\n",
      "epoch --- 56 train_loss: 47523941.641 (train time: 11.9 s = 0.2 min)\n",
      "epoch --- 57 train_loss: 47508880.172 (train time: 11.8 s = 0.2 min)\n",
      "epoch --- 58 train_loss: 47532530.047 (train time: 12.0 s = 0.2 min)\n",
      "epoch --- 59 train_loss: 47595823.062 (train time: 12.1 s = 0.2 min)\n",
      "epoch --- 60 train_loss: 47482010.734 (train time: 12.0 s = 0.2 min)\n",
      "epoch --- 61 train_loss: 47471700.250 (train time: 11.8 s = 0.2 min)\n",
      "epoch --- 62 train_loss: 47433242.672 (train time: 11.9 s = 0.2 min)\n",
      "epoch --- 63 train_loss: 47525822.203 (train time: 12.1 s = 0.2 min)\n",
      "epoch --- 64 train_loss: 47402765.672 (train time: 12.1 s = 0.2 min)\n",
      "epoch --- 65 train_loss: 47333158.516 (train time: 12.0 s = 0.2 min)\n",
      "epoch --- 66 train_loss: 47450764.438 (train time: 11.8 s = 0.2 min)\n",
      "epoch --- 67 train_loss: 47351617.500 (train time: 11.9 s = 0.2 min)\n",
      "epoch --- 68 train_loss: 47336524.859 (train time: 12.1 s = 0.2 min)\n",
      "epoch --- 69 train_loss: 47448282.922 (train time: 12.1 s = 0.2 min)\n",
      "epoch --- 70 train_loss: 47369402.578 (train time: 11.9 s = 0.2 min)\n",
      "epoch --- 71 train_loss: 47294193.812 (train time: 11.8 s = 0.2 min)\n",
      "epoch --- 72 train_loss: 47293831.078 (train time: 12.0 s = 0.2 min)\n",
      "epoch --- 73 train_loss: 47385840.938 (train time: 12.1 s = 0.2 min)\n",
      "epoch --- 74 train_loss: 47418624.562 (train time: 12.1 s = 0.2 min)\n",
      "epoch --- 75 train_loss: 47344266.859 (train time: 11.9 s = 0.2 min)\n",
      "epoch --- 76 train_loss: 47345557.406 (train time: 11.9 s = 0.2 min)\n",
      "epoch --- 77 train_loss: 47297374.828 (train time: 12.0 s = 0.2 min)\n",
      "epoch --- 78 train_loss: 47400309.844 (train time: 12.1 s = 0.2 min)\n",
      "epoch --- 79 train_loss: 47270070.953 (train time: 12.0 s = 0.2 min)\n",
      "epoch --- 80 train_loss: 47338286.219 (train time: 11.8 s = 0.2 min)\n",
      "epoch --- 81 train_loss: 47421589.672 (train time: 11.9 s = 0.2 min)\n",
      "epoch --- 82 train_loss: 47221201.000 (train time: 12.1 s = 0.2 min)\n",
      "epoch --- 83 train_loss: 47229901.969 (train time: 12.1 s = 0.2 min)\n",
      "epoch --- 84 train_loss: 47290465.562 (train time: 12.0 s = 0.2 min)\n",
      "epoch --- 85 train_loss: 47285206.859 (train time: 11.8 s = 0.2 min)\n",
      "epoch --- 86 train_loss: 47160743.172 (train time: 12.0 s = 0.2 min)\n",
      "epoch --- 87 train_loss: 47235092.672 (train time: 12.1 s = 0.2 min)\n",
      "epoch --- 88 train_loss: 47187743.438 (train time: 12.1 s = 0.2 min)\n",
      "epoch --- 89 train_loss: 47224765.938 (train time: 11.9 s = 0.2 min)\n",
      "epoch --- 90 train_loss: 47209323.484 (train time: 11.9 s = 0.2 min)\n",
      "epoch --- 91 train_loss: 47087329.250 (train time: 12.0 s = 0.2 min)\n",
      "epoch --- 92 train_loss: 47157490.156 (train time: 12.1 s = 0.2 min)\n",
      "epoch --- 93 train_loss: 47085168.094 (train time: 12.0 s = 0.2 min)\n",
      "epoch --- 94 train_loss: 47276319.906 (train time: 11.8 s = 0.2 min)\n",
      "epoch --- 95 train_loss: 47295574.797 (train time: 11.9 s = 0.2 min)\n",
      "epoch --- 96 train_loss: 47140443.562 (train time: 12.1 s = 0.2 min)\n",
      "epoch --- 97 train_loss: 47168737.875 (train time: 12.1 s = 0.2 min)\n",
      "epoch --- 98 train_loss: 47128085.906 (train time: 11.9 s = 0.2 min)\n",
      "epoch --- 99 train_loss: 47123222.984 (train time: 11.8 s = 0.2 min)\n",
      "epoch --- 100 train_loss: 47032345.641 (train time: 11.9 s = 0.2 min)\n",
      "epoch --- 101 train_loss: 47155164.562 (train time: 12.0 s = 0.2 min)\n",
      "epoch --- 102 train_loss: 47051722.766 (train time: 12.0 s = 0.2 min)\n",
      "epoch --- 103 train_loss: 47039218.031 (train time: 11.8 s = 0.2 min)\n",
      "epoch --- 104 train_loss: 47100280.375 (train time: 11.8 s = 0.2 min)\n",
      "epoch --- 105 train_loss: 46993385.547 (train time: 12.0 s = 0.2 min)\n",
      "epoch --- 106 train_loss: 47007730.953 (train time: 12.0 s = 0.2 min)\n",
      "epoch --- 107 train_loss: 47034357.578 (train time: 11.9 s = 0.2 min)\n",
      "epoch --- 108 train_loss: 47036486.922 (train time: 11.8 s = 0.2 min)\n",
      "epoch --- 109 train_loss: 47100131.719 (train time: 11.8 s = 0.2 min)\n",
      "epoch --- 110 train_loss: 47081001.625 (train time: 12.0 s = 0.2 min)\n",
      "epoch --- 111 train_loss: 47021004.125 (train time: 12.1 s = 0.2 min)\n",
      "epoch --- 112 train_loss: 47042564.703 (train time: 11.9 s = 0.2 min)\n",
      "epoch --- 113 train_loss: 46976404.906 (train time: 11.8 s = 0.2 min)\n",
      "epoch --- 114 train_loss: 47016226.234 (train time: 11.9 s = 0.2 min)\n",
      "epoch --- 115 train_loss: 46994034.016 (train time: 12.0 s = 0.2 min)\n",
      "epoch --- 116 train_loss: 47123874.938 (train time: 12.0 s = 0.2 min)\n",
      "epoch --- 117 train_loss: 46903515.688 (train time: 11.9 s = 0.2 min)\n",
      "epoch --- 118 train_loss: 47042029.250 (train time: 11.9 s = 0.2 min)\n",
      "epoch --- 119 train_loss: 46956271.797 (train time: 12.0 s = 0.2 min)\n"
     ]
    },
    {
     "name": "stdout",
     "output_type": "stream",
     "text": [
      "epoch --- 120 train_loss: 46949485.109 (train time: 12.1 s = 0.2 min)\n",
      "epoch --- 121 train_loss: 47002443.609 (train time: 12.0 s = 0.2 min)\n",
      "epoch --- 122 train_loss: 46979559.828 (train time: 11.8 s = 0.2 min)\n",
      "epoch --- 123 train_loss: 46991751.797 (train time: 11.9 s = 0.2 min)\n",
      "epoch --- 124 train_loss: 46895905.328 (train time: 12.1 s = 0.2 min)\n",
      "epoch --- 125 train_loss: 46914461.422 (train time: 12.1 s = 0.2 min)\n",
      "epoch --- 126 train_loss: 46963485.031 (train time: 12.0 s = 0.2 min)\n",
      "epoch --- 127 train_loss: 46834918.859 (train time: 11.8 s = 0.2 min)\n",
      "epoch --- 128 train_loss: 47089916.625 (train time: 12.0 s = 0.2 min)\n",
      "epoch --- 129 train_loss: 47040594.172 (train time: 12.1 s = 0.2 min)\n",
      "epoch --- 130 train_loss: 46902646.078 (train time: 12.1 s = 0.2 min)\n",
      "epoch --- 131 train_loss: 46816124.203 (train time: 11.9 s = 0.2 min)\n",
      "epoch --- 132 train_loss: 46922895.438 (train time: 11.8 s = 0.2 min)\n",
      "epoch --- 133 train_loss: 46820302.547 (train time: 12.0 s = 0.2 min)\n",
      "epoch --- 134 train_loss: 46893570.734 (train time: 12.1 s = 0.2 min)\n",
      "epoch --- 135 train_loss: 46858691.672 (train time: 12.0 s = 0.2 min)\n",
      "epoch --- 136 train_loss: 46870033.781 (train time: 11.8 s = 0.2 min)\n",
      "epoch --- 137 train_loss: 46940033.750 (train time: 11.9 s = 0.2 min)\n",
      "epoch --- 138 train_loss: 46842168.906 (train time: 12.1 s = 0.2 min)\n",
      "epoch --- 139 train_loss: 46875019.703 (train time: 12.1 s = 0.2 min)\n",
      "epoch --- 140 train_loss: 46894626.688 (train time: 11.9 s = 0.2 min)\n",
      "epoch --- 141 train_loss: 46841438.344 (train time: 11.8 s = 0.2 min)\n",
      "epoch --- 142 train_loss: 46909415.672 (train time: 12.0 s = 0.2 min)\n",
      "epoch --- 143 train_loss: 46854336.516 (train time: 12.1 s = 0.2 min)\n",
      "epoch --- 144 train_loss: 46908703.141 (train time: 12.1 s = 0.2 min)\n",
      "epoch --- 145 train_loss: 46771825.891 (train time: 11.9 s = 0.2 min)\n",
      "epoch --- 146 train_loss: 46809230.781 (train time: 11.9 s = 0.2 min)\n",
      "epoch --- 147 train_loss: 46917386.047 (train time: 12.0 s = 0.2 min)\n",
      "epoch --- 148 train_loss: 46831075.391 (train time: 12.1 s = 0.2 min)\n",
      "epoch --- 149 train_loss: 46775766.969 (train time: 12.0 s = 0.2 min)\n",
      "epoch --- 150 train_loss: 46887713.406 (train time: 11.8 s = 0.2 min)\n",
      "epoch --- 151 train_loss: 46871395.094 (train time: 11.9 s = 0.2 min)\n",
      "epoch --- 152 train_loss: 46823284.828 (train time: 12.1 s = 0.2 min)\n",
      "epoch --- 153 train_loss: 46736157.047 (train time: 12.1 s = 0.2 min)\n",
      "epoch --- 154 train_loss: 46767891.766 (train time: 11.9 s = 0.2 min)\n",
      "epoch --- 155 train_loss: 46702227.781 (train time: 11.8 s = 0.2 min)\n",
      "epoch --- 156 train_loss: 46772193.750 (train time: 12.0 s = 0.2 min)\n",
      "epoch --- 157 train_loss: 46656243.344 (train time: 12.1 s = 0.2 min)\n",
      "epoch --- 158 train_loss: 46786783.125 (train time: 12.0 s = 0.2 min)\n",
      "epoch --- 159 train_loss: 46782135.578 (train time: 11.9 s = 0.2 min)\n",
      "epoch --- 160 train_loss: 46797608.578 (train time: 11.9 s = 0.2 min)\n",
      "epoch --- 161 train_loss: 46713143.391 (train time: 12.0 s = 0.2 min)\n",
      "epoch --- 162 train_loss: 46775714.172 (train time: 12.1 s = 0.2 min)\n",
      "epoch --- 163 train_loss: 46768310.406 (train time: 12.0 s = 0.2 min)\n",
      "epoch --- 164 train_loss: 46731057.297 (train time: 11.8 s = 0.2 min)\n",
      "epoch --- 165 train_loss: 46731301.219 (train time: 11.9 s = 0.2 min)\n",
      "epoch --- 166 train_loss: 46599186.594 (train time: 12.1 s = 0.2 min)\n",
      "epoch --- 167 train_loss: 46700354.438 (train time: 12.1 s = 0.2 min)\n",
      "epoch --- 168 train_loss: 46755246.000 (train time: 11.9 s = 0.2 min)\n",
      "epoch --- 169 train_loss: 46646400.250 (train time: 11.8 s = 0.2 min)\n",
      "epoch --- 170 train_loss: 46786567.562 (train time: 11.9 s = 0.2 min)\n",
      "epoch --- 171 train_loss: 46703926.156 (train time: 12.0 s = 0.2 min)\n",
      "epoch --- 172 train_loss: 46791841.188 (train time: 12.0 s = 0.2 min)\n",
      "epoch --- 173 train_loss: 46640028.453 (train time: 11.8 s = 0.2 min)\n",
      "epoch --- 174 train_loss: 46677931.125 (train time: 11.8 s = 0.2 min)\n",
      "epoch --- 175 train_loss: 46691937.453 (train time: 12.0 s = 0.2 min)\n",
      "epoch --- 176 train_loss: 46747058.109 (train time: 12.0 s = 0.2 min)\n",
      "epoch --- 177 train_loss: 46660445.969 (train time: 12.0 s = 0.2 min)\n",
      "epoch --- 178 train_loss: 46659486.656 (train time: 11.8 s = 0.2 min)\n",
      "epoch --- 179 train_loss: 46766296.188 (train time: 11.9 s = 0.2 min)\n",
      "epoch --- 180 train_loss: 46624179.422 (train time: 12.1 s = 0.2 min)\n",
      "epoch --- 181 train_loss: 46719980.750 (train time: 12.1 s = 0.2 min)\n",
      "epoch --- 182 train_loss: 46620452.938 (train time: 11.9 s = 0.2 min)\n",
      "epoch --- 183 train_loss: 46691679.750 (train time: 11.8 s = 0.2 min)\n",
      "epoch --- 184 train_loss: 46553658.094 (train time: 12.0 s = 0.2 min)\n",
      "epoch --- 185 train_loss: 46745080.781 (train time: 12.1 s = 0.2 min)\n",
      "epoch --- 186 train_loss: 46614388.641 (train time: 12.0 s = 0.2 min)\n",
      "epoch --- 187 train_loss: 46655514.453 (train time: 11.9 s = 0.2 min)\n",
      "epoch --- 188 train_loss: 46568439.828 (train time: 11.9 s = 0.2 min)\n",
      "epoch --- 189 train_loss: 46576506.906 (train time: 12.0 s = 0.2 min)\n",
      "epoch --- 190 train_loss: 46678943.828 (train time: 12.1 s = 0.2 min)\n",
      "epoch --- 191 train_loss: 46643030.141 (train time: 12.0 s = 0.2 min)\n",
      "epoch --- 192 train_loss: 46629004.797 (train time: 11.8 s = 0.2 min)\n",
      "epoch --- 193 train_loss: 46598087.703 (train time: 11.9 s = 0.2 min)\n",
      "epoch --- 194 train_loss: 46603339.766 (train time: 12.1 s = 0.2 min)\n",
      "epoch --- 195 train_loss: 46653862.672 (train time: 12.1 s = 0.2 min)\n",
      "epoch --- 196 train_loss: 46578039.188 (train time: 11.9 s = 0.2 min)\n",
      "epoch --- 197 train_loss: 46706046.297 (train time: 11.8 s = 0.2 min)\n",
      "epoch --- 198 train_loss: 46668881.938 (train time: 12.0 s = 0.2 min)\n",
      "epoch --- 199 train_loss: 46540783.250 (train time: 12.1 s = 0.2 min)\n",
      "epoch --- 200 train_loss: 46628090.391 (train time: 12.0 s = 0.2 min)\n",
      "epoch --- 201 train_loss: 46570749.453 (train time: 11.9 s = 0.2 min)\n",
      "epoch --- 202 train_loss: 46609120.438 (train time: 11.9 s = 0.2 min)\n",
      "epoch --- 203 train_loss: 46567751.984 (train time: 12.1 s = 0.2 min)\n",
      "epoch --- 204 train_loss: 46590870.016 (train time: 12.1 s = 0.2 min)\n",
      "epoch --- 205 train_loss: 46560124.453 (train time: 12.0 s = 0.2 min)\n",
      "epoch --- 206 train_loss: 46611037.281 (train time: 11.8 s = 0.2 min)\n",
      "epoch --- 207 train_loss: 46599651.516 (train time: 11.9 s = 0.2 min)\n",
      "epoch --- 208 train_loss: 46705340.281 (train time: 12.1 s = 0.2 min)\n",
      "epoch --- 209 train_loss: 46618159.656 (train time: 12.1 s = 0.2 min)\n",
      "epoch --- 210 train_loss: 46538724.344 (train time: 11.9 s = 0.2 min)\n",
      "epoch --- 211 train_loss: 46593455.125 (train time: 11.8 s = 0.2 min)\n",
      "epoch --- 212 train_loss: 46431276.359 (train time: 12.0 s = 0.2 min)\n",
      "epoch --- 213 train_loss: 46502939.750 (train time: 12.1 s = 0.2 min)\n",
      "epoch --- 214 train_loss: 46515877.281 (train time: 12.0 s = 0.2 min)\n",
      "epoch --- 215 train_loss: 46546710.781 (train time: 11.9 s = 0.2 min)\n",
      "epoch --- 216 train_loss: 46536161.938 (train time: 11.9 s = 0.2 min)\n",
      "epoch --- 217 train_loss: 46664280.156 (train time: 12.1 s = 0.2 min)\n",
      "epoch --- 218 train_loss: 46601932.734 (train time: 12.1 s = 0.2 min)\n",
      "epoch --- 219 train_loss: 46429009.094 (train time: 12.0 s = 0.2 min)\n",
      "epoch --- 220 train_loss: 46499919.516 (train time: 11.8 s = 0.2 min)\n",
      "epoch --- 221 train_loss: 46575700.969 (train time: 11.9 s = 0.2 min)\n",
      "epoch --- 222 train_loss: 46530966.750 (train time: 12.1 s = 0.2 min)\n",
      "epoch --- 223 train_loss: 46427835.094 (train time: 12.1 s = 0.2 min)\n",
      "epoch --- 224 train_loss: 46452261.578 (train time: 11.9 s = 0.2 min)\n",
      "epoch --- 225 train_loss: 46591054.625 (train time: 11.8 s = 0.2 min)\n",
      "epoch --- 226 train_loss: 46467008.953 (train time: 12.0 s = 0.2 min)\n",
      "epoch --- 227 train_loss: 46488302.359 (train time: 12.0 s = 0.2 min)\n",
      "epoch --- 228 train_loss: 46501659.969 (train time: 12.0 s = 0.2 min)\n",
      "epoch --- 229 train_loss: 46499248.828 (train time: 11.8 s = 0.2 min)\n",
      "epoch --- 230 train_loss: 46571821.984 (train time: 11.8 s = 0.2 min)\n",
      "epoch --- 231 train_loss: 46505161.562 (train time: 12.0 s = 0.2 min)\n",
      "epoch --- 232 train_loss: 46376645.094 (train time: 12.1 s = 0.2 min)\n",
      "epoch --- 233 train_loss: 46522098.750 (train time: 12.0 s = 0.2 min)\n",
      "epoch --- 234 train_loss: 46514797.859 (train time: 11.8 s = 0.2 min)\n",
      "epoch --- 235 train_loss: 46511039.281 (train time: 11.9 s = 0.2 min)\n",
      "epoch --- 236 train_loss: 46369842.344 (train time: 12.1 s = 0.2 min)\n",
      "epoch --- 237 train_loss: 46601802.859 (train time: 12.1 s = 0.2 min)\n"
     ]
    },
    {
     "name": "stdout",
     "output_type": "stream",
     "text": [
      "epoch --- 238 train_loss: 46416857.500 (train time: 11.9 s = 0.2 min)\n",
      "epoch --- 239 train_loss: 46597800.203 (train time: 11.8 s = 0.2 min)\n",
      "epoch --- 240 train_loss: 46544351.781 (train time: 12.0 s = 0.2 min)\n",
      "epoch --- 241 train_loss: 46490739.172 (train time: 12.0 s = 0.2 min)\n",
      "epoch --- 242 train_loss: 46469622.109 (train time: 12.0 s = 0.2 min)\n",
      "epoch --- 243 train_loss: 46385660.312 (train time: 11.8 s = 0.2 min)\n",
      "epoch --- 244 train_loss: 46485559.656 (train time: 11.8 s = 0.2 min)\n",
      "epoch --- 245 train_loss: 46439427.828 (train time: 12.0 s = 0.2 min)\n",
      "epoch --- 246 train_loss: 46570481.188 (train time: 12.0 s = 0.2 min)\n",
      "epoch --- 247 train_loss: 46379871.000 (train time: 11.9 s = 0.2 min)\n",
      "epoch --- 248 train_loss: 46519829.453 (train time: 11.8 s = 0.2 min)\n",
      "epoch --- 249 train_loss: 46520057.000 (train time: 11.9 s = 0.2 min)\n",
      "epoch --- 250 train_loss: 46636684.766 (train time: 12.1 s = 0.2 min)\n",
      "epoch --- 251 train_loss: 46493917.375 (train time: 12.1 s = 0.2 min)\n",
      "epoch --- 252 train_loss: 46375224.750 (train time: 11.9 s = 0.2 min)\n",
      "epoch --- 253 train_loss: 46463866.281 (train time: 11.8 s = 0.2 min)\n",
      "epoch --- 254 train_loss: 46438944.609 (train time: 12.0 s = 0.2 min)\n",
      "epoch --- 255 train_loss: 46256391.781 (train time: 12.1 s = 0.2 min)\n",
      "epoch --- 256 train_loss: 46491337.000 (train time: 12.0 s = 0.2 min)\n",
      "epoch --- 257 train_loss: 46424173.672 (train time: 11.8 s = 0.2 min)\n",
      "epoch --- 258 train_loss: 46457340.766 (train time: 11.9 s = 0.2 min)\n",
      "epoch --- 259 train_loss: 46465347.844 (train time: 12.1 s = 0.2 min)\n",
      "epoch --- 260 train_loss: 46417343.266 (train time: 12.1 s = 0.2 min)\n",
      "epoch --- 261 train_loss: 46492020.578 (train time: 12.0 s = 0.2 min)\n",
      "epoch --- 262 train_loss: 46389769.000 (train time: 11.8 s = 0.2 min)\n",
      "epoch --- 263 train_loss: 46386906.484 (train time: 11.9 s = 0.2 min)\n",
      "epoch --- 264 train_loss: 46407938.891 (train time: 12.1 s = 0.2 min)\n",
      "epoch --- 265 train_loss: 46398734.953 (train time: 12.1 s = 0.2 min)\n",
      "epoch --- 266 train_loss: 46427997.359 (train time: 11.9 s = 0.2 min)\n",
      "epoch --- 267 train_loss: 46654724.031 (train time: 11.8 s = 0.2 min)\n",
      "epoch --- 268 train_loss: 46402176.094 (train time: 12.0 s = 0.2 min)\n",
      "epoch --- 269 train_loss: 46286930.828 (train time: 12.1 s = 0.2 min)\n",
      "epoch --- 270 train_loss: 46305920.453 (train time: 12.0 s = 0.2 min)\n",
      "epoch --- 271 train_loss: 46407462.500 (train time: 11.8 s = 0.2 min)\n",
      "epoch --- 272 train_loss: 46434772.906 (train time: 11.9 s = 0.2 min)\n",
      "epoch --- 273 train_loss: 46395952.891 (train time: 12.0 s = 0.2 min)\n",
      "epoch --- 274 train_loss: 46385400.953 (train time: 12.1 s = 0.2 min)\n",
      "epoch --- 275 train_loss: 46328952.000 (train time: 12.0 s = 0.2 min)\n",
      "epoch --- 276 train_loss: 46342045.219 (train time: 11.8 s = 0.2 min)\n",
      "epoch --- 277 train_loss: 46326394.672 (train time: 11.9 s = 0.2 min)\n",
      "epoch --- 278 train_loss: 46561625.688 (train time: 12.1 s = 0.2 min)\n",
      "epoch --- 279 train_loss: 46450577.172 (train time: 12.1 s = 0.2 min)\n",
      "epoch --- 280 train_loss: 46385530.984 (train time: 11.9 s = 0.2 min)\n",
      "epoch --- 281 train_loss: 46383517.234 (train time: 11.8 s = 0.2 min)\n",
      "epoch --- 282 train_loss: 46418336.656 (train time: 12.0 s = 0.2 min)\n",
      "epoch --- 283 train_loss: 46343860.031 (train time: 12.1 s = 0.2 min)\n",
      "epoch --- 284 train_loss: 46480357.531 (train time: 12.1 s = 0.2 min)\n",
      "epoch --- 285 train_loss: 46332996.078 (train time: 11.9 s = 0.2 min)\n",
      "epoch --- 286 train_loss: 46440390.625 (train time: 11.9 s = 0.2 min)\n",
      "epoch --- 287 train_loss: 46300069.906 (train time: 12.0 s = 0.2 min)\n",
      "epoch --- 288 train_loss: 46402073.562 (train time: 12.1 s = 0.2 min)\n",
      "epoch --- 289 train_loss: 46361214.141 (train time: 12.0 s = 0.2 min)\n",
      "epoch --- 290 train_loss: 46406218.453 (train time: 11.8 s = 0.2 min)\n",
      "epoch --- 291 train_loss: 46365090.781 (train time: 11.9 s = 0.2 min)\n",
      "epoch --- 292 train_loss: 46335942.266 (train time: 12.1 s = 0.2 min)\n",
      "epoch --- 293 train_loss: 46353910.688 (train time: 12.1 s = 0.2 min)\n",
      "epoch --- 294 train_loss: 46376161.281 (train time: 11.9 s = 0.2 min)\n",
      "epoch --- 295 train_loss: 46251255.031 (train time: 11.8 s = 0.2 min)\n",
      "epoch --- 296 train_loss: 46389338.438 (train time: 12.0 s = 0.2 min)\n",
      "epoch --- 297 train_loss: 46350245.359 (train time: 12.1 s = 0.2 min)\n",
      "epoch --- 298 train_loss: 46328913.391 (train time: 12.1 s = 0.2 min)\n",
      "epoch --- 299 train_loss: 46395628.078 (train time: 11.9 s = 0.2 min)\n",
      "epoch --- 300 train_loss: 46392721.203 (train time: 11.9 s = 0.2 min)\n",
      "epoch --- 301 train_loss: 46217216.828 (train time: 12.0 s = 0.2 min)\n",
      "epoch --- 302 train_loss: 46401331.078 (train time: 12.1 s = 0.2 min)\n",
      "epoch --- 303 train_loss: 46284530.016 (train time: 12.0 s = 0.2 min)\n",
      "epoch --- 304 train_loss: 46282199.062 (train time: 11.8 s = 0.2 min)\n",
      "epoch --- 305 train_loss: 46326661.625 (train time: 11.9 s = 0.2 min)\n",
      "epoch --- 306 train_loss: 46303419.953 (train time: 12.1 s = 0.2 min)\n",
      "epoch --- 307 train_loss: 46338393.438 (train time: 12.1 s = 0.2 min)\n",
      "epoch --- 308 train_loss: 46198587.656 (train time: 11.9 s = 0.2 min)\n",
      "epoch --- 309 train_loss: 46437075.734 (train time: 11.8 s = 0.2 min)\n",
      "epoch --- 310 train_loss: 46250841.719 (train time: 11.9 s = 0.2 min)\n",
      "epoch --- 311 train_loss: 46357202.203 (train time: 12.0 s = 0.2 min)\n",
      "epoch --- 312 train_loss: 46389038.719 (train time: 12.0 s = 0.2 min)\n",
      "epoch --- 313 train_loss: 46359716.422 (train time: 11.8 s = 0.2 min)\n",
      "epoch --- 314 train_loss: 46237190.688 (train time: 11.8 s = 0.2 min)\n",
      "epoch --- 315 train_loss: 46276463.734 (train time: 12.0 s = 0.2 min)\n",
      "epoch --- 316 train_loss: 46389105.625 (train time: 12.0 s = 0.2 min)\n",
      "epoch --- 317 train_loss: 46310315.250 (train time: 12.0 s = 0.2 min)\n",
      "epoch --- 318 train_loss: 46214539.016 (train time: 11.8 s = 0.2 min)\n",
      "epoch --- 319 train_loss: 46280948.047 (train time: 11.9 s = 0.2 min)\n",
      "epoch --- 320 train_loss: 46290054.859 (train time: 12.1 s = 0.2 min)\n",
      "epoch --- 321 train_loss: 46315461.172 (train time: 12.1 s = 0.2 min)\n",
      "epoch --- 322 train_loss: 46249867.719 (train time: 11.9 s = 0.2 min)\n",
      "epoch --- 323 train_loss: 46374440.672 (train time: 11.8 s = 0.2 min)\n",
      "epoch --- 324 train_loss: 46285362.797 (train time: 12.0 s = 0.2 min)\n",
      "epoch --- 325 train_loss: 46323298.156 (train time: 12.1 s = 0.2 min)\n",
      "epoch --- 326 train_loss: 46435274.141 (train time: 12.1 s = 0.2 min)\n",
      "epoch --- 327 train_loss: 46158322.812 (train time: 11.9 s = 0.2 min)\n",
      "epoch --- 328 train_loss: 46346325.172 (train time: 11.9 s = 0.2 min)\n",
      "epoch --- 329 train_loss: 46153616.562 (train time: 12.0 s = 0.2 min)\n",
      "epoch --- 330 train_loss: 46224647.672 (train time: 12.1 s = 0.2 min)\n",
      "epoch --- 331 train_loss: 46323591.516 (train time: 12.0 s = 0.2 min)\n",
      "epoch --- 332 train_loss: 46188014.250 (train time: 11.8 s = 0.2 min)\n",
      "epoch --- 333 train_loss: 46399902.328 (train time: 11.9 s = 0.2 min)\n",
      "epoch --- 334 train_loss: 46224106.859 (train time: 12.1 s = 0.2 min)\n",
      "epoch --- 335 train_loss: 46217855.672 (train time: 12.1 s = 0.2 min)\n",
      "epoch --- 336 train_loss: 46351311.219 (train time: 11.9 s = 0.2 min)\n",
      "epoch --- 337 train_loss: 46342206.016 (train time: 11.8 s = 0.2 min)\n",
      "epoch --- 338 train_loss: 46182408.219 (train time: 12.0 s = 0.2 min)\n",
      "epoch --- 339 train_loss: 46140951.266 (train time: 12.1 s = 0.2 min)\n",
      "epoch --- 340 train_loss: 46167357.703 (train time: 12.0 s = 0.2 min)\n",
      "epoch --- 341 train_loss: 46381773.438 (train time: 11.8 s = 0.2 min)\n",
      "epoch --- 342 train_loss: 46125055.781 (train time: 11.8 s = 0.2 min)\n",
      "epoch --- 343 train_loss: 46153097.891 (train time: 12.0 s = 0.2 min)\n",
      "epoch --- 344 train_loss: 46305028.828 (train time: 12.0 s = 0.2 min)\n",
      "epoch --- 345 train_loss: 46209663.844 (train time: 12.0 s = 0.2 min)\n",
      "epoch --- 346 train_loss: 46255199.234 (train time: 11.8 s = 0.2 min)\n",
      "epoch --- 347 train_loss: 46543945.250 (train time: 11.9 s = 0.2 min)\n",
      "epoch --- 348 train_loss: 46151321.453 (train time: 12.0 s = 0.2 min)\n",
      "epoch --- 349 train_loss: 46303891.422 (train time: 12.0 s = 0.2 min)\n",
      "epoch --- 350 train_loss: 46257256.438 (train time: 11.9 s = 0.2 min)\n",
      "epoch --- 351 train_loss: 46226982.000 (train time: 11.8 s = 0.2 min)\n",
      "epoch --- 352 train_loss: 46218552.984 (train time: 12.0 s = 0.2 min)\n",
      "epoch --- 353 train_loss: 46081880.484 (train time: 12.1 s = 0.2 min)\n",
      "epoch --- 354 train_loss: 46237341.422 (train time: 12.0 s = 0.2 min)\n",
      "epoch --- 355 train_loss: 46068118.375 (train time: 11.9 s = 0.2 min)\n"
     ]
    },
    {
     "name": "stdout",
     "output_type": "stream",
     "text": [
      "epoch --- 356 train_loss: 46190964.594 (train time: 11.9 s = 0.2 min)\n",
      "epoch --- 357 train_loss: 46282224.953 (train time: 12.0 s = 0.2 min)\n",
      "epoch --- 358 train_loss: 46296185.891 (train time: 12.1 s = 0.2 min)\n",
      "epoch --- 359 train_loss: 46126597.062 (train time: 12.0 s = 0.2 min)\n",
      "epoch --- 360 train_loss: 46148046.891 (train time: 11.8 s = 0.2 min)\n",
      "epoch --- 361 train_loss: 46362435.469 (train time: 11.9 s = 0.2 min)\n",
      "epoch --- 362 train_loss: 46178516.844 (train time: 12.1 s = 0.2 min)\n",
      "epoch --- 363 train_loss: 46231538.719 (train time: 12.1 s = 0.2 min)\n",
      "epoch --- 364 train_loss: 46278509.406 (train time: 11.9 s = 0.2 min)\n",
      "epoch --- 365 train_loss: 46353895.562 (train time: 11.8 s = 0.2 min)\n",
      "epoch --- 366 train_loss: 46169900.266 (train time: 12.0 s = 0.2 min)\n",
      "epoch --- 367 train_loss: 46140722.328 (train time: 12.1 s = 0.2 min)\n",
      "epoch --- 368 train_loss: 46165599.328 (train time: 12.0 s = 0.2 min)\n",
      "epoch --- 369 train_loss: 46287940.594 (train time: 11.9 s = 0.2 min)\n",
      "epoch --- 370 train_loss: 46262646.422 (train time: 11.9 s = 0.2 min)\n",
      "epoch --- 371 train_loss: 46116470.719 (train time: 12.1 s = 0.2 min)\n",
      "epoch --- 372 train_loss: 46351363.406 (train time: 12.1 s = 0.2 min)\n",
      "epoch --- 373 train_loss: 46095863.703 (train time: 12.0 s = 0.2 min)\n",
      "epoch --- 374 train_loss: 46128926.484 (train time: 11.8 s = 0.2 min)\n",
      "epoch --- 375 train_loss: 46202768.938 (train time: 11.9 s = 0.2 min)\n",
      "epoch --- 376 train_loss: 46192566.484 (train time: 12.1 s = 0.2 min)\n",
      "epoch --- 377 train_loss: 46347965.297 (train time: 12.1 s = 0.2 min)\n",
      "epoch --- 378 train_loss: 46056774.984 (train time: 11.9 s = 0.2 min)\n",
      "epoch --- 379 train_loss: 46164588.859 (train time: 11.8 s = 0.2 min)\n",
      "epoch --- 380 train_loss: 46223563.406 (train time: 12.0 s = 0.2 min)\n",
      "epoch --- 381 train_loss: 46255838.594 (train time: 12.0 s = 0.2 min)\n",
      "epoch --- 382 train_loss: 46075470.938 (train time: 12.0 s = 0.2 min)\n",
      "epoch --- 383 train_loss: 46199118.594 (train time: 11.8 s = 0.2 min)\n",
      "epoch --- 384 train_loss: 46142663.922 (train time: 11.8 s = 0.2 min)\n",
      "epoch --- 385 train_loss: 46051351.672 (train time: 12.0 s = 0.2 min)\n",
      "epoch --- 386 train_loss: 46076591.547 (train time: 12.0 s = 0.2 min)\n",
      "epoch --- 387 train_loss: 46170063.172 (train time: 11.9 s = 0.2 min)\n",
      "epoch --- 388 train_loss: 46155610.422 (train time: 11.8 s = 0.2 min)\n",
      "epoch --- 389 train_loss: 46278896.875 (train time: 11.9 s = 0.2 min)\n",
      "epoch --- 390 train_loss: 46109363.156 (train time: 12.0 s = 0.2 min)\n",
      "epoch --- 391 train_loss: 46207378.828 (train time: 12.1 s = 0.2 min)\n",
      "epoch --- 392 train_loss: 46288143.531 (train time: 11.9 s = 0.2 min)\n",
      "epoch --- 393 train_loss: 46315935.266 (train time: 11.8 s = 0.2 min)\n",
      "epoch --- 394 train_loss: 46064199.828 (train time: 12.0 s = 0.2 min)\n",
      "epoch --- 395 train_loss: 46080971.141 (train time: 12.1 s = 0.2 min)\n",
      "epoch --- 396 train_loss: 46193609.516 (train time: 12.0 s = 0.2 min)\n",
      "epoch --- 397 train_loss: 46128746.125 (train time: 11.9 s = 0.2 min)\n",
      "epoch --- 398 train_loss: 46161264.156 (train time: 11.9 s = 0.2 min)\n",
      "epoch --- 399 train_loss: 46080087.219 (train time: 12.0 s = 0.2 min)\n",
      "epoch --- 400 train_loss: 46183041.875 (train time: 12.1 s = 0.2 min)\n"
     ]
    }
   ],
   "source": [
    "for n in range(num_save):\n",
    "    if n == 325 :\n",
    "        optimizer.defaults[\"lr\"] = 0.0005\n",
    "    if n == 375:\n",
    "        optimizer.defaults[\"lr\"] = 0.0001\n",
    "    for epoch in range(num_epochs):\n",
    "        \n",
    "        t1 = time.time()\n",
    "        loss_sum = 0.0\n",
    "        for i, batch_imgs in enumerate(dataloader):\n",
    "            optimizer.zero_grad()\n",
    "            reconstructed_imgs, mu, logvar = model(batch_imgs.to(device))\n",
    "            loss = loss_function(reconstructed_imgs, batch_imgs.to(device), mu, logvar)\n",
    "            loss.backward()\n",
    "            optimizer.step()\n",
    "            loss_sum += loss.item()\n",
    "\n",
    "        t2 = time.time()\n",
    "        train_ls.append(loss_sum)\n",
    "\n",
    "        print(\"epoch --- %d train_loss: %.3f (train time: %.1f s = %.1f min)\" %(n * num_epochs + epoch + 1, loss_sum, t2 - t1, (t2 - t1) / 60))\n",
    "    torch.save(model.state_dict(), \"../model_pths/\" + model_name + \".pth\")"
   ]
  },
  {
   "cell_type": "code",
   "execution_count": 13,
   "metadata": {},
   "outputs": [],
   "source": [
    "def plot_results(result, which_result, condition, save_or_not=True):\n",
    "    plt.clf()\n",
    "    plt.plot(result)\n",
    "    plt.title(condition + \"_\" + which_result)\n",
    "    plt.savefig(condition + \"_\" + which_result + \".png\") if save_or_not else plt.show()"
   ]
  },
  {
   "cell_type": "code",
   "execution_count": 14,
   "metadata": {},
   "outputs": [],
   "source": [
    "loss_img_path = \"../loss_imgs/\"\n",
    "condition = \"DenseVAE_128to2\""
   ]
  },
  {
   "cell_type": "code",
   "execution_count": 15,
   "metadata": {},
   "outputs": [
    {
     "data": {
      "image/png": "[encoded data removed]",
      "text/plain": [
       "<Figure size 432x288 with 1 Axes>"
      ]
     },
     "metadata": {
      "needs_background": "light"
     },
     "output_type": "display_data"
    }
   ],
   "source": [
    "plot_results(train_ls, \"train_loss\", loss_img_path + condition)"
   ]
  },
  {
   "cell_type": "code",
   "execution_count": 17,
   "metadata": {},
   "outputs": [],
   "source": [
    "poses = [1000,2000,3000,4000,5000,6000]"
   ]
  },
  {
   "cell_type": "code",
   "execution_count": 18,
   "metadata": {},
   "outputs": [
    {
     "ename": "TypeError",
     "evalue": "Invalid shape () for image data",
     "output_type": "error",
     "traceback": [
      "\u001b[0;31m---------------------------------------------------------------------------\u001b[0m",
      "\u001b[0;31mTypeError\u001b[0m                                 Traceback (most recent call last)",
      "\u001b[0;32m<ipython-input-18-6a7af49cfd8e>\u001b[0m in \u001b[0;36m<module>\u001b[0;34m\u001b[0m\n\u001b[0;32m----> 1\u001b[0;31m \u001b[0mimshow\u001b[0m\u001b[0;34m(\u001b[0m\u001b[0mdataset\u001b[0m\u001b[0;34m,\u001b[0m \u001b[0mposes\u001b[0m\u001b[0;34m)\u001b[0m\u001b[0;34m\u001b[0m\u001b[0;34m\u001b[0m\u001b[0m\n\u001b[0m",
      "\u001b[0;32m<ipython-input-16-7bba295cec08>\u001b[0m in \u001b[0;36mimshow\u001b[0;34m(dataset, poses, model, device)\u001b[0m\n\u001b[1;32m      5\u001b[0m         \u001b[0max\u001b[0m \u001b[0;34m=\u001b[0m \u001b[0mfig\u001b[0m\u001b[0;34m.\u001b[0m\u001b[0madd_subplot\u001b[0m\u001b[0;34m(\u001b[0m\u001b[0;36m1\u001b[0m\u001b[0;34m,\u001b[0m \u001b[0mlen\u001b[0m\u001b[0;34m(\u001b[0m\u001b[0mposes\u001b[0m\u001b[0;34m)\u001b[0m\u001b[0;34m,\u001b[0m \u001b[0mi\u001b[0m \u001b[0;34m+\u001b[0m \u001b[0;36m1\u001b[0m\u001b[0;34m)\u001b[0m\u001b[0;34m\u001b[0m\u001b[0;34m\u001b[0m\u001b[0m\n\u001b[1;32m      6\u001b[0m         \u001b[0;32mif\u001b[0m \u001b[0mmodel\u001b[0m \u001b[0;32mis\u001b[0m \u001b[0;32mNone\u001b[0m\u001b[0;34m:\u001b[0m\u001b[0;34m\u001b[0m\u001b[0;34m\u001b[0m\u001b[0m\n\u001b[0;32m----> 7\u001b[0;31m             \u001b[0max\u001b[0m\u001b[0;34m.\u001b[0m\u001b[0mimshow\u001b[0m\u001b[0;34m(\u001b[0m\u001b[0mdataset\u001b[0m\u001b[0;34m[\u001b[0m\u001b[0mpos\u001b[0m\u001b[0;34m]\u001b[0m\u001b[0;34m[\u001b[0m\u001b[0;36m0\u001b[0m\u001b[0;34m]\u001b[0m\u001b[0;34m.\u001b[0m\u001b[0mto\u001b[0m\u001b[0;34m(\u001b[0m\u001b[0;34m\"cpu\"\u001b[0m\u001b[0;34m)\u001b[0m\u001b[0;34m,\u001b[0m \u001b[0mcmap\u001b[0m \u001b[0;34m=\u001b[0m \u001b[0;34m'gray'\u001b[0m\u001b[0;34m,\u001b[0m \u001b[0mvmin\u001b[0m \u001b[0;34m=\u001b[0m \u001b[0;36m0\u001b[0m\u001b[0;34m,\u001b[0m \u001b[0mvmax\u001b[0m \u001b[0;34m=\u001b[0m \u001b[0;36m1\u001b[0m\u001b[0;34m,\u001b[0m \u001b[0minterpolation\u001b[0m \u001b[0;34m=\u001b[0m \u001b[0;34m'none'\u001b[0m\u001b[0;34m)\u001b[0m\u001b[0;34m\u001b[0m\u001b[0;34m\u001b[0m\u001b[0m\n\u001b[0m\u001b[1;32m      8\u001b[0m         \u001b[0;32melse\u001b[0m\u001b[0;34m:\u001b[0m\u001b[0;34m\u001b[0m\u001b[0;34m\u001b[0m\u001b[0m\n\u001b[1;32m      9\u001b[0m             \u001b[0;32mwith\u001b[0m \u001b[0mtorch\u001b[0m\u001b[0;34m.\u001b[0m\u001b[0mno_grad\u001b[0m\u001b[0;34m(\u001b[0m\u001b[0;34m)\u001b[0m\u001b[0;34m:\u001b[0m\u001b[0;34m\u001b[0m\u001b[0;34m\u001b[0m\u001b[0m\n",
      "\u001b[0;32m~/anaconda3/lib/python3.7/site-packages/matplotlib/__init__.py\u001b[0m in \u001b[0;36minner\u001b[0;34m(ax, data, *args, **kwargs)\u001b[0m\n\u001b[1;32m   1597\u001b[0m     \u001b[0;32mdef\u001b[0m \u001b[0minner\u001b[0m\u001b[0;34m(\u001b[0m\u001b[0max\u001b[0m\u001b[0;34m,\u001b[0m \u001b[0;34m*\u001b[0m\u001b[0margs\u001b[0m\u001b[0;34m,\u001b[0m \u001b[0mdata\u001b[0m\u001b[0;34m=\u001b[0m\u001b[0;32mNone\u001b[0m\u001b[0;34m,\u001b[0m \u001b[0;34m**\u001b[0m\u001b[0mkwargs\u001b[0m\u001b[0;34m)\u001b[0m\u001b[0;34m:\u001b[0m\u001b[0;34m\u001b[0m\u001b[0;34m\u001b[0m\u001b[0m\n\u001b[1;32m   1598\u001b[0m         \u001b[0;32mif\u001b[0m \u001b[0mdata\u001b[0m \u001b[0;32mis\u001b[0m \u001b[0;32mNone\u001b[0m\u001b[0;34m:\u001b[0m\u001b[0;34m\u001b[0m\u001b[0;34m\u001b[0m\u001b[0m\n\u001b[0;32m-> 1599\u001b[0;31m             \u001b[0;32mreturn\u001b[0m \u001b[0mfunc\u001b[0m\u001b[0;34m(\u001b[0m\u001b[0max\u001b[0m\u001b[0;34m,\u001b[0m \u001b[0;34m*\u001b[0m\u001b[0mmap\u001b[0m\u001b[0;34m(\u001b[0m\u001b[0msanitize_sequence\u001b[0m\u001b[0;34m,\u001b[0m \u001b[0margs\u001b[0m\u001b[0;34m)\u001b[0m\u001b[0;34m,\u001b[0m \u001b[0;34m**\u001b[0m\u001b[0mkwargs\u001b[0m\u001b[0;34m)\u001b[0m\u001b[0;34m\u001b[0m\u001b[0;34m\u001b[0m\u001b[0m\n\u001b[0m\u001b[1;32m   1600\u001b[0m \u001b[0;34m\u001b[0m\u001b[0m\n\u001b[1;32m   1601\u001b[0m         \u001b[0mbound\u001b[0m \u001b[0;34m=\u001b[0m \u001b[0mnew_sig\u001b[0m\u001b[0;34m.\u001b[0m\u001b[0mbind\u001b[0m\u001b[0;34m(\u001b[0m\u001b[0max\u001b[0m\u001b[0;34m,\u001b[0m \u001b[0;34m*\u001b[0m\u001b[0margs\u001b[0m\u001b[0;34m,\u001b[0m \u001b[0;34m**\u001b[0m\u001b[0mkwargs\u001b[0m\u001b[0;34m)\u001b[0m\u001b[0;34m\u001b[0m\u001b[0;34m\u001b[0m\u001b[0m\n",
      "\u001b[0;32m~/anaconda3/lib/python3.7/site-packages/matplotlib/cbook/deprecation.py\u001b[0m in \u001b[0;36mwrapper\u001b[0;34m(*args, **kwargs)\u001b[0m\n\u001b[1;32m    367\u001b[0m                 \u001b[0;34mf\"%(removal)s.  If any parameter follows {name!r}, they \"\u001b[0m\u001b[0;34m\u001b[0m\u001b[0;34m\u001b[0m\u001b[0m\n\u001b[1;32m    368\u001b[0m                 f\"should be pass as keyword, not positionally.\")\n\u001b[0;32m--> 369\u001b[0;31m         \u001b[0;32mreturn\u001b[0m \u001b[0mfunc\u001b[0m\u001b[0;34m(\u001b[0m\u001b[0;34m*\u001b[0m\u001b[0margs\u001b[0m\u001b[0;34m,\u001b[0m \u001b[0;34m**\u001b[0m\u001b[0mkwargs\u001b[0m\u001b[0;34m)\u001b[0m\u001b[0;34m\u001b[0m\u001b[0;34m\u001b[0m\u001b[0m\n\u001b[0m\u001b[1;32m    370\u001b[0m \u001b[0;34m\u001b[0m\u001b[0m\n\u001b[1;32m    371\u001b[0m     \u001b[0;32mreturn\u001b[0m \u001b[0mwrapper\u001b[0m\u001b[0;34m\u001b[0m\u001b[0;34m\u001b[0m\u001b[0m\n",
      "\u001b[0;32m~/anaconda3/lib/python3.7/site-packages/matplotlib/cbook/deprecation.py\u001b[0m in \u001b[0;36mwrapper\u001b[0;34m(*args, **kwargs)\u001b[0m\n\u001b[1;32m    367\u001b[0m                 \u001b[0;34mf\"%(removal)s.  If any parameter follows {name!r}, they \"\u001b[0m\u001b[0;34m\u001b[0m\u001b[0;34m\u001b[0m\u001b[0m\n\u001b[1;32m    368\u001b[0m                 f\"should be pass as keyword, not positionally.\")\n\u001b[0;32m--> 369\u001b[0;31m         \u001b[0;32mreturn\u001b[0m \u001b[0mfunc\u001b[0m\u001b[0;34m(\u001b[0m\u001b[0;34m*\u001b[0m\u001b[0margs\u001b[0m\u001b[0;34m,\u001b[0m \u001b[0;34m**\u001b[0m\u001b[0mkwargs\u001b[0m\u001b[0;34m)\u001b[0m\u001b[0;34m\u001b[0m\u001b[0;34m\u001b[0m\u001b[0m\n\u001b[0m\u001b[1;32m    370\u001b[0m \u001b[0;34m\u001b[0m\u001b[0m\n\u001b[1;32m    371\u001b[0m     \u001b[0;32mreturn\u001b[0m \u001b[0mwrapper\u001b[0m\u001b[0;34m\u001b[0m\u001b[0;34m\u001b[0m\u001b[0m\n",
      "\u001b[0;32m~/anaconda3/lib/python3.7/site-packages/matplotlib/axes/_axes.py\u001b[0m in \u001b[0;36mimshow\u001b[0;34m(self, X, cmap, norm, aspect, interpolation, alpha, vmin, vmax, origin, extent, shape, filternorm, filterrad, imlim, resample, url, **kwargs)\u001b[0m\n\u001b[1;32m   5677\u001b[0m                               resample=resample, **kwargs)\n\u001b[1;32m   5678\u001b[0m \u001b[0;34m\u001b[0m\u001b[0m\n\u001b[0;32m-> 5679\u001b[0;31m         \u001b[0mim\u001b[0m\u001b[0;34m.\u001b[0m\u001b[0mset_data\u001b[0m\u001b[0;34m(\u001b[0m\u001b[0mX\u001b[0m\u001b[0;34m)\u001b[0m\u001b[0;34m\u001b[0m\u001b[0;34m\u001b[0m\u001b[0m\n\u001b[0m\u001b[1;32m   5680\u001b[0m         \u001b[0mim\u001b[0m\u001b[0;34m.\u001b[0m\u001b[0mset_alpha\u001b[0m\u001b[0;34m(\u001b[0m\u001b[0malpha\u001b[0m\u001b[0;34m)\u001b[0m\u001b[0;34m\u001b[0m\u001b[0;34m\u001b[0m\u001b[0m\n\u001b[1;32m   5681\u001b[0m         \u001b[0;32mif\u001b[0m \u001b[0mim\u001b[0m\u001b[0;34m.\u001b[0m\u001b[0mget_clip_path\u001b[0m\u001b[0;34m(\u001b[0m\u001b[0;34m)\u001b[0m \u001b[0;32mis\u001b[0m \u001b[0;32mNone\u001b[0m\u001b[0;34m:\u001b[0m\u001b[0;34m\u001b[0m\u001b[0;34m\u001b[0m\u001b[0m\n",
      "\u001b[0;32m~/anaconda3/lib/python3.7/site-packages/matplotlib/image.py\u001b[0m in \u001b[0;36mset_data\u001b[0;34m(self, A)\u001b[0m\n\u001b[1;32m    688\u001b[0m                 or self._A.ndim == 3 and self._A.shape[-1] in [3, 4]):\n\u001b[1;32m    689\u001b[0m             raise TypeError(\"Invalid shape {} for image data\"\n\u001b[0;32m--> 690\u001b[0;31m                             .format(self._A.shape))\n\u001b[0m\u001b[1;32m    691\u001b[0m \u001b[0;34m\u001b[0m\u001b[0m\n\u001b[1;32m    692\u001b[0m         \u001b[0;32mif\u001b[0m \u001b[0mself\u001b[0m\u001b[0;34m.\u001b[0m\u001b[0m_A\u001b[0m\u001b[0;34m.\u001b[0m\u001b[0mndim\u001b[0m \u001b[0;34m==\u001b[0m \u001b[0;36m3\u001b[0m\u001b[0;34m:\u001b[0m\u001b[0;34m\u001b[0m\u001b[0;34m\u001b[0m\u001b[0m\n",
      "\u001b[0;31mTypeError\u001b[0m: Invalid shape () for image data"
     ]
    },
    {
     "data": {
      "text/plain": [
       "<Figure size 432x288 with 0 Axes>"
      ]
     },
     "metadata": {},
     "output_type": "display_data"
    },
    {
     "data": {
      "image/png": "[encoded data removed]",
      "text/plain": [
       "<Figure size 1080x5400 with 1 Axes>"
      ]
     },
     "metadata": {
      "needs_background": "light"
     },
     "output_type": "display_data"
    }
   ],
   "source": [
    "imshow_dense(dataset, poses)"
   ]
  },
  {
   "cell_type": "code",
   "execution_count": null,
   "metadata": {
    "scrolled": true
   },
   "outputs": [],
   "source": [
    "imshow(dataset, poses, model=model, device=device)"
   ]
  },
  {
   "cell_type": "code",
   "execution_count": null,
   "metadata": {},
   "outputs": [],
   "source": [
    "hidden_vecs = []\n",
    "with torch.no_grad():\n",
    "    for i, batch_imgs in enumerate(dataloader):\n",
    "        mu, logvar = model.encoder(batch_imgs)\n",
    "        z = model.reparameterize(mu, logvar)\n",
    "        z = z.to(\"cpu\").numpy()\n",
    "        hidden_vecs.append(z)\n",
    "hidden_vecs = np.array(hidden_vecs)\n",
    "hidden_vecs = hidden_vecs.reshape(19154, 64)\n",
    "print(hidden_vecs.shape)"
   ]
  },
  {
   "cell_type": "code",
   "execution_count": null,
   "metadata": {},
   "outputs": [],
   "source": [
    "with open(data_pkls + \"hidden_vecs_densevaedim2.pkl\", \"wb\") as f:\n",
    "    pickle.dump(hidden_vecs, f)"
   ]
  },
  {
   "cell_type": "code",
   "execution_count": null,
   "metadata": {},
   "outputs": [],
   "source": [
    "plt.clf()\n",
    "plt.scatter(hidden_vecs.transpose()[0], hidden_vecs.transpose()[1], )\n",
    "plt.show()"
   ]
  },
  {
   "cell_type": "code",
   "execution_count": null,
   "metadata": {},
   "outputs": [],
   "source": [
    "import subprocess\n",
    "subprocess.run(['jupyter', 'nbconvert', '--to', 'python', 'vae_train_DenseVAE_2dim.ipynb'])"
   ]
  }
 ],
 "metadata": {
  "kernelspec": {
   "display_name": "Python 3",
   "language": "python",
   "name": "python3"
  },
  "language_info": {
   "codemirror_mode": {
    "name": "ipython",
    "version": 3
   },
   "file_extension": ".py",
   "mimetype": "text/x-python",
   "name": "python",
   "nbconvert_exporter": "python",
   "pygments_lexer": "ipython3",
   "version": "3.7.7"
  }
 },
 "nbformat": 4,
 "nbformat_minor": 4
}
