{
 "cells": [
  {
   "cell_type": "markdown",
   "metadata": {},
   "source": [
    "# CNNの性能評価"
   ]
  },
  {
   "cell_type": "code",
   "execution_count": 1,
   "metadata": {},
   "outputs": [],
   "source": [
    "import importlib\n",
    "import matplotlib.pyplot as plt\n",
    "%matplotlib inline\n",
    "import numpy as np\n",
    "import pickle\n",
    "from pprint import pprint\n",
    "import sklearn\n",
    "from sklearn import datasets\n",
    "from sklearn.cluster import KMeans, MeanShift, AgglomerativeClustering\n",
    "from sklearn.manifold import TSNE, MDS, SpectralEmbedding\n",
    "from scipy.cluster.hierarchy import linkage, fcluster, dendrogram\n",
    "from scipy.spatial import distance\n",
    "import sys\n",
    "import torch\n",
    "import torch.nn as nn\n",
    "import torch.nn.functional as F\n",
    "from torchvision import datasets,models, transforms\n",
    "from tqdm import tqdm"
   ]
  },
  {
   "cell_type": "code",
   "execution_count": 2,
   "metadata": {},
   "outputs": [],
   "source": [
    "sys.path.append(\"/home/kwk/share/mizuho/u00257/vae_clustering/src/\")\n",
    "sys.path.append(\"/home/kwk/share/mizuho/u00257/vae_clustering/src/lib/\")\n",
    "sys.path.append(\"/home/kwk/share/mizuho/u00257/vae_clustering/src/data_pkls/\")"
   ]
  },
  {
   "cell_type": "code",
   "execution_count": 51,
   "metadata": {},
   "outputs": [],
   "source": [
    "from vae_datasets import dataset2d\n",
    "from vae_models import ConvVAE_224\n",
    "from cnn_dataset import cnn_dataset\n",
    "import img_shows\n",
    "importlib.reload(img_shows)\n",
    "from img_shows import *"
   ]
  },
  {
   "cell_type": "code",
   "execution_count": 4,
   "metadata": {},
   "outputs": [
    {
     "name": "stdout",
     "output_type": "stream",
     "text": [
      "cuda\n"
     ]
    }
   ],
   "source": [
    "device = torch.device('cuda' if torch.cuda.is_available() else 'cpu')\n",
    "print(device)"
   ]
  },
  {
   "cell_type": "code",
   "execution_count": 5,
   "metadata": {},
   "outputs": [],
   "source": [
    "batch_size = 1\n",
    "num_clusters = 20\n",
    "data_pkls = \"../data_pkls/imgs224_40_123m/\"\n",
    "pkl_files = [data_pkls + str(i+1) + \".pkl\" for i in range(10, 30)]\n",
    "data_pkls = \"../data_pkls/labels/\"\n",
    "pkl_labels = data_pkls + \"labels\" + str(num_clusters) +  \"_23m\" + \".pkl\"\n",
    "dataset = cnn_dataset(pkl_files, pkl_labels, classes=num_clusters)\n",
    "dataloader = torch.utils.data.DataLoader(dataset, batch_size=batch_size, shuffle=False, drop_last=False)"
   ]
  },
  {
   "cell_type": "code",
   "execution_count": 6,
   "metadata": {},
   "outputs": [
    {
     "name": "stdout",
     "output_type": "stream",
     "text": [
      "43446\n",
      "14513 14481 14452\n",
      "43446\n",
      "28933\n"
     ]
    }
   ],
   "source": [
    "data_pkls = \"../data_pkls/\"\n",
    "dates = None\n",
    "with open(data_pkls + \"dates123m.pkl\", \"rb\") as pkl:\n",
    "    dates = pickle.load(pkl)\n",
    "print(len(dates))\n",
    "len1 = 14513\n",
    "pos2 = 28994\n",
    "len2 = pos2 - len1\n",
    "len3 = len(dates) - pos2\n",
    "print(len1, len2, len3)\n",
    "print(len(dates))\n",
    "dates = dates[len1:]\n",
    "data_size = len(dates)\n",
    "print(data_size)"
   ]
  },
  {
   "cell_type": "code",
   "execution_count": 7,
   "metadata": {
    "scrolled": true
   },
   "outputs": [
    {
     "data": {
      "text/plain": [
       "VGG(\n",
       "  (features): Sequential(\n",
       "    (0): Conv2d(3, 64, kernel_size=(3, 3), stride=(1, 1), padding=(1, 1))\n",
       "    (1): ReLU(inplace=True)\n",
       "    (2): Conv2d(64, 64, kernel_size=(3, 3), stride=(1, 1), padding=(1, 1))\n",
       "    (3): ReLU(inplace=True)\n",
       "    (4): MaxPool2d(kernel_size=2, stride=2, padding=0, dilation=1, ceil_mode=False)\n",
       "    (5): Conv2d(64, 128, kernel_size=(3, 3), stride=(1, 1), padding=(1, 1))\n",
       "    (6): ReLU(inplace=True)\n",
       "    (7): Conv2d(128, 128, kernel_size=(3, 3), stride=(1, 1), padding=(1, 1))\n",
       "    (8): ReLU(inplace=True)\n",
       "    (9): MaxPool2d(kernel_size=2, stride=2, padding=0, dilation=1, ceil_mode=False)\n",
       "    (10): Conv2d(128, 256, kernel_size=(3, 3), stride=(1, 1), padding=(1, 1))\n",
       "    (11): ReLU(inplace=True)\n",
       "    (12): Conv2d(256, 256, kernel_size=(3, 3), stride=(1, 1), padding=(1, 1))\n",
       "    (13): ReLU(inplace=True)\n",
       "    (14): Conv2d(256, 256, kernel_size=(3, 3), stride=(1, 1), padding=(1, 1))\n",
       "    (15): ReLU(inplace=True)\n",
       "    (16): MaxPool2d(kernel_size=2, stride=2, padding=0, dilation=1, ceil_mode=False)\n",
       "    (17): Conv2d(256, 512, kernel_size=(3, 3), stride=(1, 1), padding=(1, 1))\n",
       "    (18): ReLU(inplace=True)\n",
       "    (19): Conv2d(512, 512, kernel_size=(3, 3), stride=(1, 1), padding=(1, 1))\n",
       "    (20): ReLU(inplace=True)\n",
       "    (21): Conv2d(512, 512, kernel_size=(3, 3), stride=(1, 1), padding=(1, 1))\n",
       "    (22): ReLU(inplace=True)\n",
       "    (23): MaxPool2d(kernel_size=2, stride=2, padding=0, dilation=1, ceil_mode=False)\n",
       "    (24): Conv2d(512, 512, kernel_size=(3, 3), stride=(1, 1), padding=(1, 1))\n",
       "    (25): ReLU(inplace=True)\n",
       "    (26): Conv2d(512, 512, kernel_size=(3, 3), stride=(1, 1), padding=(1, 1))\n",
       "    (27): ReLU(inplace=True)\n",
       "    (28): Conv2d(512, 512, kernel_size=(3, 3), stride=(1, 1), padding=(1, 1))\n",
       "    (29): ReLU(inplace=True)\n",
       "    (30): MaxPool2d(kernel_size=2, stride=2, padding=0, dilation=1, ceil_mode=False)\n",
       "  )\n",
       "  (avgpool): AdaptiveAvgPool2d(output_size=(7, 7))\n",
       "  (classifier): Sequential(\n",
       "    (0): Linear(in_features=25088, out_features=4096, bias=True)\n",
       "    (1): ReLU(inplace=True)\n",
       "    (2): Dropout(p=0.5, inplace=False)\n",
       "    (3): Linear(in_features=4096, out_features=4096, bias=True)\n",
       "    (4): ReLU(inplace=True)\n",
       "    (5): Dropout(p=0.5, inplace=False)\n",
       "    (6): Linear(in_features=4096, out_features=20, bias=True)\n",
       "  )\n",
       ")"
      ]
     },
     "execution_count": 7,
     "metadata": {},
     "output_type": "execute_result"
    }
   ],
   "source": [
    "model_name = \"cnn20classes\"\n",
    "net = models.vgg16()\n",
    "net.classifier[6] = nn.Linear(in_features=4096, out_features=num_clusters)\n",
    "net.load_state_dict(torch.load(\"../model_pths/\" + model_name + \".pth\"))\n",
    "net.eval()\n",
    "net.to(device)"
   ]
  },
  {
   "cell_type": "code",
   "execution_count": 13,
   "metadata": {},
   "outputs": [
    {
     "name": "stdout",
     "output_type": "stream",
     "text": [
      "torch.Size([1, 3, 224, 224])\n",
      "3\n",
      "tensor(3, device='cuda:0')\n"
     ]
    },
    {
     "name": "stderr",
     "output_type": "stream",
     "text": [
      "/home/u00257/anaconda3/lib/python3.7/site-packages/ipykernel_launcher.py:4: UserWarning: Implicit dimension choice for softmax has been deprecated. Change the call to include dim=X as an argument.\n",
      "  after removing the cwd from sys.path.\n"
     ]
    }
   ],
   "source": [
    "img, label = dataset[14070]\n",
    "print(torch.unsqueeze(img, 0).shape)\n",
    "with torch.no_grad():\n",
    "    output = F.softmax(net(torch.unsqueeze(img, 0)))\n",
    "print(label)\n",
    "print(torch.argmax(output[0]))"
   ]
  },
  {
   "cell_type": "markdown",
   "metadata": {},
   "source": [
    "## 実際に全データを分類する"
   ]
  },
  {
   "cell_type": "code",
   "execution_count": 19,
   "metadata": {},
   "outputs": [
    {
     "name": "stderr",
     "output_type": "stream",
     "text": [
      "/home/u00257/anaconda3/lib/python3.7/site-packages/ipykernel_launcher.py:4: UserWarning: Implicit dimension choice for softmax has been deprecated. Change the call to include dim=X as an argument.\n",
      "  after removing the cwd from sys.path.\n"
     ]
    }
   ],
   "source": [
    "preds = []\n",
    "with torch.no_grad():\n",
    "    for img, _ in dataloader:\n",
    "        pred = torch.argmax(F.softmax(net(img))[0])\n",
    "        preds.append(pred)"
   ]
  },
  {
   "cell_type": "code",
   "execution_count": 41,
   "metadata": {},
   "outputs": [
    {
     "name": "stdout",
     "output_type": "stream",
     "text": [
      "0 1085\n",
      "1 967\n",
      "2 2589\n",
      "3 1414\n",
      "4 1064\n",
      "5 1340\n",
      "6 1743\n",
      "7 1058\n",
      "8 1183\n",
      "9 1197\n",
      "10 1231\n",
      "11 1206\n",
      "12 1744\n",
      "13 1494\n",
      "14 1232\n",
      "15 2024\n",
      "16 1491\n",
      "17 1566\n",
      "18 2001\n",
      "19 1304\n"
     ]
    }
   ],
   "source": [
    "for i in range(num_clusters):\n",
    "    print(i, np.count_nonzero(dataset.labels == i))"
   ]
  },
  {
   "cell_type": "code",
   "execution_count": 33,
   "metadata": {
    "scrolled": true
   },
   "outputs": [],
   "source": [
    "preds = np.array([pred.to(\"cpu\").numpy() for pred in preds], dtype=\"int32\")"
   ]
  },
  {
   "cell_type": "code",
   "execution_count": 37,
   "metadata": {},
   "outputs": [],
   "source": [
    "with open(data_pkls + \"cnn_predict.pkl\", \"wb\") as f:\n",
    "    pickle.dump(preds, f)"
   ]
  },
  {
   "cell_type": "code",
   "execution_count": 40,
   "metadata": {},
   "outputs": [
    {
     "name": "stdout",
     "output_type": "stream",
     "text": [
      "0 1068\n",
      "1 968\n",
      "2 2606\n",
      "3 1456\n",
      "4 1055\n",
      "5 1314\n",
      "6 1799\n",
      "7 1097\n",
      "8 1145\n",
      "9 1197\n",
      "10 1265\n",
      "11 1170\n",
      "12 1696\n",
      "13 1452\n",
      "14 1289\n",
      "15 2001\n",
      "16 1510\n",
      "17 1526\n",
      "18 2028\n",
      "19 1291\n"
     ]
    }
   ],
   "source": [
    "for i in range(num_clusters):\n",
    "    print(i, np.count_nonzero(preds == i))"
   ]
  },
  {
   "cell_type": "markdown",
   "metadata": {},
   "source": [
    "## 日付が近いものを除外したい"
   ]
  },
  {
   "cell_type": "code",
   "execution_count": 78,
   "metadata": {
    "scrolled": false
   },
   "outputs": [
    {
     "name": "stdout",
     "output_type": "stream",
     "text": [
      "(579,)\n"
     ]
    }
   ],
   "source": [
    "indices = np.array(list(range(data_size))[::50])\n",
    "print(indices.shape)"
   ]
  },
  {
   "cell_type": "code",
   "execution_count": 79,
   "metadata": {},
   "outputs": [],
   "source": [
    "pred_sparse = preds[indices]"
   ]
  },
  {
   "cell_type": "code",
   "execution_count": 80,
   "metadata": {
    "scrolled": false
   },
   "outputs": [
    {
     "data": {
      "text/plain": [
       "array([  2,  64, 103, 128, 182, 183, 198, 202, 203, 234, 248, 291, 292,\n",
       "       353, 417, 418, 473, 484, 485, 486, 487, 491, 493, 523, 536])"
      ]
     },
     "execution_count": 80,
     "metadata": {},
     "output_type": "execute_result"
    }
   ],
   "source": [
    "v_label = 10\n",
    "np.where(pred_sparse==v_label)[0]"
   ]
  },
  {
   "cell_type": "code",
   "execution_count": 81,
   "metadata": {},
   "outputs": [],
   "source": [
    "poses = indices[np.where(pred_sparse==v_label)[0]]"
   ]
  },
  {
   "cell_type": "code",
   "execution_count": 83,
   "metadata": {},
   "outputs": [
    {
     "data": {
      "text/plain": [
       "array([  100,  3200,  5150,  6400,  9100,  9150,  9900, 10100, 10150,\n",
       "       11700, 12400, 14550, 14600, 17650, 20850, 20900, 23650, 24200,\n",
       "       24250, 24300, 24350, 24550, 24650, 26150, 26800])"
      ]
     },
     "execution_count": 83,
     "metadata": {},
     "output_type": "execute_result"
    }
   ],
   "source": [
    "poses"
   ]
  },
  {
   "cell_type": "code",
   "execution_count": 82,
   "metadata": {
    "scrolled": false
   },
   "outputs": [
    {
     "data": {
      "text/plain": [
       "<Figure size 432x288 with 0 Axes>"
      ]
     },
     "metadata": {},
     "output_type": "display_data"
    },
    {
     "data": {
      "image/png": "[encoded data removed]",
      "text/plain": [
       "<Figure size 1080x1080 with 26 Axes>"
      ]
     },
     "metadata": {},
     "output_type": "display_data"
    }
   ],
   "source": [
    "imshow_cnn(dataset, dates, poses)"
   ]
  },
  {
   "cell_type": "markdown",
   "metadata": {},
   "source": [
    "## 最も近いものを取ってくる"
   ]
  },
  {
   "cell_type": "code",
   "execution_count": 98,
   "metadata": {},
   "outputs": [],
   "source": [
    "import heapq\n",
    "class priority_queue:\n",
    "    def __init__(self):\n",
    "        self.key = lambda item: item[0] #アイテムの優先順位を指定\n",
    "        self.index = 0\n",
    "        self.data = []\n",
    "\n",
    "    def push(self, item):\n",
    "        heapq.heappush(self.data, (self.key(item), self.index, item))\n",
    "        self.index += 1\n",
    "\n",
    "    def pop(self):\n",
    "        return heapq.heappop(self.data)"
   ]
  },
  {
   "cell_type": "code",
   "execution_count": 106,
   "metadata": {},
   "outputs": [],
   "source": [
    "def get_nearest(pos, dataset, poses = None, n = 10):\n",
    "    img, _ = dataset[pos]\n",
    "    pq = priority_queue()\n",
    "    if poses is None:\n",
    "        for i, (iter_img, _) in enumerate(dataset):\n",
    "            dist = distance.euclidean(iter_img[0].flatten().to(\"cpu\").numpy(), img[0].flatten().to(\"cpu\").numpy())\n",
    "            pq.push([dist, i])\n",
    "    else:\n",
    "        for iter_pos in poses:\n",
    "            iter_img, _ = dataset[iter_pos]\n",
    "            dist = distance.euclidean(iter_img[0].flatten().to(\"cpu\").numpy(), img[0].flatten().to(\"cpu\").numpy())\n",
    "            pq.push([dist, iter_pos])\n",
    "    n_poses = []\n",
    "    for i in range(n + 1):\n",
    "        n_poses.append(pq.pop()[2][1])\n",
    "    return n_poses[1:]"
   ]
  },
  {
   "cell_type": "code",
   "execution_count": 108,
   "metadata": {},
   "outputs": [
    {
     "name": "stdout",
     "output_type": "stream",
     "text": [
      "[  100  3200  5150  6400  9100  9150  9900 10100 10150 11700 12400 14550\n",
      " 14600 17650 20850 20900 23650 24200 24250 24300 24350 24550 24650 26150\n",
      " 26800]\n",
      "24350\n"
     ]
    }
   ],
   "source": [
    "print(poses)\n",
    "pos = poses[20]\n",
    "print(pos)\n",
    "n = 4"
   ]
  },
  {
   "cell_type": "code",
   "execution_count": 109,
   "metadata": {
    "scrolled": true
   },
   "outputs": [
    {
     "data": {
      "text/plain": [
       "<Figure size 432x288 with 0 Axes>"
      ]
     },
     "metadata": {},
     "output_type": "display_data"
    },
    {
     "data": {
      "image/png": "[encoded data removed]",
      "text/plain": [
       "<Figure size 216x216 with 1 Axes>"
      ]
     },
     "metadata": {},
     "output_type": "display_data"
    }
   ],
   "source": [
    "imshow_cnn(dataset, dates, [pos], figsize=(3,3))"
   ]
  },
  {
   "cell_type": "code",
   "execution_count": 110,
   "metadata": {
    "scrolled": true
   },
   "outputs": [
    {
     "name": "stdout",
     "output_type": "stream",
     "text": [
      "[9900, 100, 9100, 14600]\n"
     ]
    },
    {
     "data": {
      "text/plain": [
       "<Figure size 432x288 with 0 Axes>"
      ]
     },
     "metadata": {},
     "output_type": "display_data"
    },
    {
     "data": {
      "image/png": "[encoded data removed]",
      "text/plain": [
       "<Figure size 432x432 with 5 Axes>"
      ]
     },
     "metadata": {},
     "output_type": "display_data"
    }
   ],
   "source": [
    "nearest_poses = get_nearest(pos, dataset, poses, n)\n",
    "print(nearest_poses)\n",
    "imshow_cnn(dataset, dates, nearest_poses, figsize=(6,6))"
   ]
  },
  {
   "cell_type": "markdown",
   "metadata": {},
   "source": [
    "## バーナンキショックとVIXショックの画像を見てみる(Katafuchiさんの方で確認済み)"
   ]
  }
 ],
 "metadata": {
  "kernelspec": {
   "display_name": "Python 3",
   "language": "python",
   "name": "python3"
  },
  "language_info": {
   "codemirror_mode": {
    "name": "ipython",
    "version": 3
   },
   "file_extension": ".py",
   "mimetype": "text/x-python",
   "name": "python",
   "nbconvert_exporter": "python",
   "pygments_lexer": "ipython3",
   "version": "3.7.7"
  }
 },
 "nbformat": 4,
 "nbformat_minor": 4
}
